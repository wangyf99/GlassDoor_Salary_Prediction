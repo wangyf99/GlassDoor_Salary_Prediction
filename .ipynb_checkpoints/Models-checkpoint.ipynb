{
 "cells": [
  {
   "cell_type": "code",
<<<<<<< Updated upstream
   "execution_count": 241,
=======
   "execution_count": 91,
>>>>>>> Stashed changes
   "id": "8519c93c-f053-458d-9907-9f28956ed40f",
   "metadata": {},
   "outputs": [],
   "source": [
    "import pandas as pd"
   ]
  },
  {
   "cell_type": "code",
<<<<<<< Updated upstream
   "execution_count": 240,
   "id": "050daeab-c4db-43d5-91ee-20b51ae8c8ba",
   "metadata": {
    "collapsed": true,
    "jupyter": {
     "outputs_hidden": true
    },
    "tags": []
   },
   "outputs": [
    {
     "ename": "FileNotFoundError",
     "evalue": "[Errno 2] No such file or directory: 'cleaned_scraped_job_data.csv'",
     "output_type": "error",
     "traceback": [
      "\u001b[0;31m---------------------------------------------------------------------------\u001b[0m",
      "\u001b[0;31mFileNotFoundError\u001b[0m                         Traceback (most recent call last)",
      "Input \u001b[0;32mIn [240]\u001b[0m, in \u001b[0;36m<cell line: 1>\u001b[0;34m()\u001b[0m\n\u001b[0;32m----> 1\u001b[0m df_raw \u001b[38;5;241m=\u001b[39m \u001b[43mpd\u001b[49m\u001b[38;5;241;43m.\u001b[39;49m\u001b[43mread_csv\u001b[49m\u001b[43m(\u001b[49m\u001b[38;5;124;43m'\u001b[39;49m\u001b[38;5;124;43mcleaned_scraped_job_data.csv\u001b[39;49m\u001b[38;5;124;43m'\u001b[39;49m\u001b[43m,\u001b[49m\u001b[43m \u001b[49m\u001b[43mindex_col\u001b[49m\u001b[38;5;241;43m=\u001b[39;49m\u001b[38;5;241;43m0\u001b[39;49m\u001b[43m)\u001b[49m\n",
      "File \u001b[0;32m~/opt/anaconda3/lib/python3.9/site-packages/pandas/util/_decorators.py:311\u001b[0m, in \u001b[0;36mdeprecate_nonkeyword_arguments.<locals>.decorate.<locals>.wrapper\u001b[0;34m(*args, **kwargs)\u001b[0m\n\u001b[1;32m    305\u001b[0m \u001b[38;5;28;01mif\u001b[39;00m \u001b[38;5;28mlen\u001b[39m(args) \u001b[38;5;241m>\u001b[39m num_allow_args:\n\u001b[1;32m    306\u001b[0m     warnings\u001b[38;5;241m.\u001b[39mwarn(\n\u001b[1;32m    307\u001b[0m         msg\u001b[38;5;241m.\u001b[39mformat(arguments\u001b[38;5;241m=\u001b[39marguments),\n\u001b[1;32m    308\u001b[0m         \u001b[38;5;167;01mFutureWarning\u001b[39;00m,\n\u001b[1;32m    309\u001b[0m         stacklevel\u001b[38;5;241m=\u001b[39mstacklevel,\n\u001b[1;32m    310\u001b[0m     )\n\u001b[0;32m--> 311\u001b[0m \u001b[38;5;28;01mreturn\u001b[39;00m \u001b[43mfunc\u001b[49m\u001b[43m(\u001b[49m\u001b[38;5;241;43m*\u001b[39;49m\u001b[43margs\u001b[49m\u001b[43m,\u001b[49m\u001b[43m \u001b[49m\u001b[38;5;241;43m*\u001b[39;49m\u001b[38;5;241;43m*\u001b[39;49m\u001b[43mkwargs\u001b[49m\u001b[43m)\u001b[49m\n",
      "File \u001b[0;32m~/opt/anaconda3/lib/python3.9/site-packages/pandas/io/parsers/readers.py:680\u001b[0m, in \u001b[0;36mread_csv\u001b[0;34m(filepath_or_buffer, sep, delimiter, header, names, index_col, usecols, squeeze, prefix, mangle_dupe_cols, dtype, engine, converters, true_values, false_values, skipinitialspace, skiprows, skipfooter, nrows, na_values, keep_default_na, na_filter, verbose, skip_blank_lines, parse_dates, infer_datetime_format, keep_date_col, date_parser, dayfirst, cache_dates, iterator, chunksize, compression, thousands, decimal, lineterminator, quotechar, quoting, doublequote, escapechar, comment, encoding, encoding_errors, dialect, error_bad_lines, warn_bad_lines, on_bad_lines, delim_whitespace, low_memory, memory_map, float_precision, storage_options)\u001b[0m\n\u001b[1;32m    665\u001b[0m kwds_defaults \u001b[38;5;241m=\u001b[39m _refine_defaults_read(\n\u001b[1;32m    666\u001b[0m     dialect,\n\u001b[1;32m    667\u001b[0m     delimiter,\n\u001b[0;32m   (...)\u001b[0m\n\u001b[1;32m    676\u001b[0m     defaults\u001b[38;5;241m=\u001b[39m{\u001b[38;5;124m\"\u001b[39m\u001b[38;5;124mdelimiter\u001b[39m\u001b[38;5;124m\"\u001b[39m: \u001b[38;5;124m\"\u001b[39m\u001b[38;5;124m,\u001b[39m\u001b[38;5;124m\"\u001b[39m},\n\u001b[1;32m    677\u001b[0m )\n\u001b[1;32m    678\u001b[0m kwds\u001b[38;5;241m.\u001b[39mupdate(kwds_defaults)\n\u001b[0;32m--> 680\u001b[0m \u001b[38;5;28;01mreturn\u001b[39;00m \u001b[43m_read\u001b[49m\u001b[43m(\u001b[49m\u001b[43mfilepath_or_buffer\u001b[49m\u001b[43m,\u001b[49m\u001b[43m \u001b[49m\u001b[43mkwds\u001b[49m\u001b[43m)\u001b[49m\n",
      "File \u001b[0;32m~/opt/anaconda3/lib/python3.9/site-packages/pandas/io/parsers/readers.py:575\u001b[0m, in \u001b[0;36m_read\u001b[0;34m(filepath_or_buffer, kwds)\u001b[0m\n\u001b[1;32m    572\u001b[0m _validate_names(kwds\u001b[38;5;241m.\u001b[39mget(\u001b[38;5;124m\"\u001b[39m\u001b[38;5;124mnames\u001b[39m\u001b[38;5;124m\"\u001b[39m, \u001b[38;5;28;01mNone\u001b[39;00m))\n\u001b[1;32m    574\u001b[0m \u001b[38;5;66;03m# Create the parser.\u001b[39;00m\n\u001b[0;32m--> 575\u001b[0m parser \u001b[38;5;241m=\u001b[39m \u001b[43mTextFileReader\u001b[49m\u001b[43m(\u001b[49m\u001b[43mfilepath_or_buffer\u001b[49m\u001b[43m,\u001b[49m\u001b[43m \u001b[49m\u001b[38;5;241;43m*\u001b[39;49m\u001b[38;5;241;43m*\u001b[39;49m\u001b[43mkwds\u001b[49m\u001b[43m)\u001b[49m\n\u001b[1;32m    577\u001b[0m \u001b[38;5;28;01mif\u001b[39;00m chunksize \u001b[38;5;129;01mor\u001b[39;00m iterator:\n\u001b[1;32m    578\u001b[0m     \u001b[38;5;28;01mreturn\u001b[39;00m parser\n",
      "File \u001b[0;32m~/opt/anaconda3/lib/python3.9/site-packages/pandas/io/parsers/readers.py:933\u001b[0m, in \u001b[0;36mTextFileReader.__init__\u001b[0;34m(self, f, engine, **kwds)\u001b[0m\n\u001b[1;32m    930\u001b[0m     \u001b[38;5;28mself\u001b[39m\u001b[38;5;241m.\u001b[39moptions[\u001b[38;5;124m\"\u001b[39m\u001b[38;5;124mhas_index_names\u001b[39m\u001b[38;5;124m\"\u001b[39m] \u001b[38;5;241m=\u001b[39m kwds[\u001b[38;5;124m\"\u001b[39m\u001b[38;5;124mhas_index_names\u001b[39m\u001b[38;5;124m\"\u001b[39m]\n\u001b[1;32m    932\u001b[0m \u001b[38;5;28mself\u001b[39m\u001b[38;5;241m.\u001b[39mhandles: IOHandles \u001b[38;5;241m|\u001b[39m \u001b[38;5;28;01mNone\u001b[39;00m \u001b[38;5;241m=\u001b[39m \u001b[38;5;28;01mNone\u001b[39;00m\n\u001b[0;32m--> 933\u001b[0m \u001b[38;5;28mself\u001b[39m\u001b[38;5;241m.\u001b[39m_engine \u001b[38;5;241m=\u001b[39m \u001b[38;5;28;43mself\u001b[39;49m\u001b[38;5;241;43m.\u001b[39;49m\u001b[43m_make_engine\u001b[49m\u001b[43m(\u001b[49m\u001b[43mf\u001b[49m\u001b[43m,\u001b[49m\u001b[43m \u001b[49m\u001b[38;5;28;43mself\u001b[39;49m\u001b[38;5;241;43m.\u001b[39;49m\u001b[43mengine\u001b[49m\u001b[43m)\u001b[49m\n",
      "File \u001b[0;32m~/opt/anaconda3/lib/python3.9/site-packages/pandas/io/parsers/readers.py:1217\u001b[0m, in \u001b[0;36mTextFileReader._make_engine\u001b[0;34m(self, f, engine)\u001b[0m\n\u001b[1;32m   1213\u001b[0m     mode \u001b[38;5;241m=\u001b[39m \u001b[38;5;124m\"\u001b[39m\u001b[38;5;124mrb\u001b[39m\u001b[38;5;124m\"\u001b[39m\n\u001b[1;32m   1214\u001b[0m \u001b[38;5;66;03m# error: No overload variant of \"get_handle\" matches argument types\u001b[39;00m\n\u001b[1;32m   1215\u001b[0m \u001b[38;5;66;03m# \"Union[str, PathLike[str], ReadCsvBuffer[bytes], ReadCsvBuffer[str]]\"\u001b[39;00m\n\u001b[1;32m   1216\u001b[0m \u001b[38;5;66;03m# , \"str\", \"bool\", \"Any\", \"Any\", \"Any\", \"Any\", \"Any\"\u001b[39;00m\n\u001b[0;32m-> 1217\u001b[0m \u001b[38;5;28mself\u001b[39m\u001b[38;5;241m.\u001b[39mhandles \u001b[38;5;241m=\u001b[39m \u001b[43mget_handle\u001b[49m\u001b[43m(\u001b[49m\u001b[43m  \u001b[49m\u001b[38;5;66;43;03m# type: ignore[call-overload]\u001b[39;49;00m\n\u001b[1;32m   1218\u001b[0m \u001b[43m    \u001b[49m\u001b[43mf\u001b[49m\u001b[43m,\u001b[49m\n\u001b[1;32m   1219\u001b[0m \u001b[43m    \u001b[49m\u001b[43mmode\u001b[49m\u001b[43m,\u001b[49m\n\u001b[1;32m   1220\u001b[0m \u001b[43m    \u001b[49m\u001b[43mencoding\u001b[49m\u001b[38;5;241;43m=\u001b[39;49m\u001b[38;5;28;43mself\u001b[39;49m\u001b[38;5;241;43m.\u001b[39;49m\u001b[43moptions\u001b[49m\u001b[38;5;241;43m.\u001b[39;49m\u001b[43mget\u001b[49m\u001b[43m(\u001b[49m\u001b[38;5;124;43m\"\u001b[39;49m\u001b[38;5;124;43mencoding\u001b[39;49m\u001b[38;5;124;43m\"\u001b[39;49m\u001b[43m,\u001b[49m\u001b[43m \u001b[49m\u001b[38;5;28;43;01mNone\u001b[39;49;00m\u001b[43m)\u001b[49m\u001b[43m,\u001b[49m\n\u001b[1;32m   1221\u001b[0m \u001b[43m    \u001b[49m\u001b[43mcompression\u001b[49m\u001b[38;5;241;43m=\u001b[39;49m\u001b[38;5;28;43mself\u001b[39;49m\u001b[38;5;241;43m.\u001b[39;49m\u001b[43moptions\u001b[49m\u001b[38;5;241;43m.\u001b[39;49m\u001b[43mget\u001b[49m\u001b[43m(\u001b[49m\u001b[38;5;124;43m\"\u001b[39;49m\u001b[38;5;124;43mcompression\u001b[39;49m\u001b[38;5;124;43m\"\u001b[39;49m\u001b[43m,\u001b[49m\u001b[43m \u001b[49m\u001b[38;5;28;43;01mNone\u001b[39;49;00m\u001b[43m)\u001b[49m\u001b[43m,\u001b[49m\n\u001b[1;32m   1222\u001b[0m \u001b[43m    \u001b[49m\u001b[43mmemory_map\u001b[49m\u001b[38;5;241;43m=\u001b[39;49m\u001b[38;5;28;43mself\u001b[39;49m\u001b[38;5;241;43m.\u001b[39;49m\u001b[43moptions\u001b[49m\u001b[38;5;241;43m.\u001b[39;49m\u001b[43mget\u001b[49m\u001b[43m(\u001b[49m\u001b[38;5;124;43m\"\u001b[39;49m\u001b[38;5;124;43mmemory_map\u001b[39;49m\u001b[38;5;124;43m\"\u001b[39;49m\u001b[43m,\u001b[49m\u001b[43m \u001b[49m\u001b[38;5;28;43;01mFalse\u001b[39;49;00m\u001b[43m)\u001b[49m\u001b[43m,\u001b[49m\n\u001b[1;32m   1223\u001b[0m \u001b[43m    \u001b[49m\u001b[43mis_text\u001b[49m\u001b[38;5;241;43m=\u001b[39;49m\u001b[43mis_text\u001b[49m\u001b[43m,\u001b[49m\n\u001b[1;32m   1224\u001b[0m \u001b[43m    \u001b[49m\u001b[43merrors\u001b[49m\u001b[38;5;241;43m=\u001b[39;49m\u001b[38;5;28;43mself\u001b[39;49m\u001b[38;5;241;43m.\u001b[39;49m\u001b[43moptions\u001b[49m\u001b[38;5;241;43m.\u001b[39;49m\u001b[43mget\u001b[49m\u001b[43m(\u001b[49m\u001b[38;5;124;43m\"\u001b[39;49m\u001b[38;5;124;43mencoding_errors\u001b[39;49m\u001b[38;5;124;43m\"\u001b[39;49m\u001b[43m,\u001b[49m\u001b[43m \u001b[49m\u001b[38;5;124;43m\"\u001b[39;49m\u001b[38;5;124;43mstrict\u001b[39;49m\u001b[38;5;124;43m\"\u001b[39;49m\u001b[43m)\u001b[49m\u001b[43m,\u001b[49m\n\u001b[1;32m   1225\u001b[0m \u001b[43m    \u001b[49m\u001b[43mstorage_options\u001b[49m\u001b[38;5;241;43m=\u001b[39;49m\u001b[38;5;28;43mself\u001b[39;49m\u001b[38;5;241;43m.\u001b[39;49m\u001b[43moptions\u001b[49m\u001b[38;5;241;43m.\u001b[39;49m\u001b[43mget\u001b[49m\u001b[43m(\u001b[49m\u001b[38;5;124;43m\"\u001b[39;49m\u001b[38;5;124;43mstorage_options\u001b[39;49m\u001b[38;5;124;43m\"\u001b[39;49m\u001b[43m,\u001b[49m\u001b[43m \u001b[49m\u001b[38;5;28;43;01mNone\u001b[39;49;00m\u001b[43m)\u001b[49m\u001b[43m,\u001b[49m\n\u001b[1;32m   1226\u001b[0m \u001b[43m\u001b[49m\u001b[43m)\u001b[49m\n\u001b[1;32m   1227\u001b[0m \u001b[38;5;28;01massert\u001b[39;00m \u001b[38;5;28mself\u001b[39m\u001b[38;5;241m.\u001b[39mhandles \u001b[38;5;129;01mis\u001b[39;00m \u001b[38;5;129;01mnot\u001b[39;00m \u001b[38;5;28;01mNone\u001b[39;00m\n\u001b[1;32m   1228\u001b[0m f \u001b[38;5;241m=\u001b[39m \u001b[38;5;28mself\u001b[39m\u001b[38;5;241m.\u001b[39mhandles\u001b[38;5;241m.\u001b[39mhandle\n",
      "File \u001b[0;32m~/opt/anaconda3/lib/python3.9/site-packages/pandas/io/common.py:789\u001b[0m, in \u001b[0;36mget_handle\u001b[0;34m(path_or_buf, mode, encoding, compression, memory_map, is_text, errors, storage_options)\u001b[0m\n\u001b[1;32m    784\u001b[0m \u001b[38;5;28;01melif\u001b[39;00m \u001b[38;5;28misinstance\u001b[39m(handle, \u001b[38;5;28mstr\u001b[39m):\n\u001b[1;32m    785\u001b[0m     \u001b[38;5;66;03m# Check whether the filename is to be opened in binary mode.\u001b[39;00m\n\u001b[1;32m    786\u001b[0m     \u001b[38;5;66;03m# Binary mode does not support 'encoding' and 'newline'.\u001b[39;00m\n\u001b[1;32m    787\u001b[0m     \u001b[38;5;28;01mif\u001b[39;00m ioargs\u001b[38;5;241m.\u001b[39mencoding \u001b[38;5;129;01mand\u001b[39;00m \u001b[38;5;124m\"\u001b[39m\u001b[38;5;124mb\u001b[39m\u001b[38;5;124m\"\u001b[39m \u001b[38;5;129;01mnot\u001b[39;00m \u001b[38;5;129;01min\u001b[39;00m ioargs\u001b[38;5;241m.\u001b[39mmode:\n\u001b[1;32m    788\u001b[0m         \u001b[38;5;66;03m# Encoding\u001b[39;00m\n\u001b[0;32m--> 789\u001b[0m         handle \u001b[38;5;241m=\u001b[39m \u001b[38;5;28;43mopen\u001b[39;49m\u001b[43m(\u001b[49m\n\u001b[1;32m    790\u001b[0m \u001b[43m            \u001b[49m\u001b[43mhandle\u001b[49m\u001b[43m,\u001b[49m\n\u001b[1;32m    791\u001b[0m \u001b[43m            \u001b[49m\u001b[43mioargs\u001b[49m\u001b[38;5;241;43m.\u001b[39;49m\u001b[43mmode\u001b[49m\u001b[43m,\u001b[49m\n\u001b[1;32m    792\u001b[0m \u001b[43m            \u001b[49m\u001b[43mencoding\u001b[49m\u001b[38;5;241;43m=\u001b[39;49m\u001b[43mioargs\u001b[49m\u001b[38;5;241;43m.\u001b[39;49m\u001b[43mencoding\u001b[49m\u001b[43m,\u001b[49m\n\u001b[1;32m    793\u001b[0m \u001b[43m            \u001b[49m\u001b[43merrors\u001b[49m\u001b[38;5;241;43m=\u001b[39;49m\u001b[43merrors\u001b[49m\u001b[43m,\u001b[49m\n\u001b[1;32m    794\u001b[0m \u001b[43m            \u001b[49m\u001b[43mnewline\u001b[49m\u001b[38;5;241;43m=\u001b[39;49m\u001b[38;5;124;43m\"\u001b[39;49m\u001b[38;5;124;43m\"\u001b[39;49m\u001b[43m,\u001b[49m\n\u001b[1;32m    795\u001b[0m \u001b[43m        \u001b[49m\u001b[43m)\u001b[49m\n\u001b[1;32m    796\u001b[0m     \u001b[38;5;28;01melse\u001b[39;00m:\n\u001b[1;32m    797\u001b[0m         \u001b[38;5;66;03m# Binary mode\u001b[39;00m\n\u001b[1;32m    798\u001b[0m         handle \u001b[38;5;241m=\u001b[39m \u001b[38;5;28mopen\u001b[39m(handle, ioargs\u001b[38;5;241m.\u001b[39mmode)\n",
      "\u001b[0;31mFileNotFoundError\u001b[0m: [Errno 2] No such file or directory: 'cleaned_scraped_job_data.csv'"
     ]
    }
   ],
=======
   "execution_count": 92,
   "id": "050daeab-c4db-43d5-91ee-20b51ae8c8ba",
   "metadata": {},
   "outputs": [],
>>>>>>> Stashed changes
   "source": [
    "df_raw = pd.read_csv('cleaned_scraped_job_data.csv', index_col=0)"
   ]
  },
  {
   "cell_type": "code",
<<<<<<< Updated upstream
   "execution_count": 272,
=======
   "execution_count": 139,
>>>>>>> Stashed changes
   "id": "7d30f08c-299f-42ad-bcfc-55b709a9b0e4",
   "metadata": {},
   "outputs": [],
   "source": [
    "df_raw = pd.read_csv('/Users/angelawang/Desktop/data_cleaned_fra copy.csv')"
   ]
  },
  {
   "cell_type": "code",
<<<<<<< Updated upstream
   "execution_count": 329,
   "id": "b2a7d8cf-d2c2-43b0-96d4-e8a2c43cf1f7",
=======
   "execution_count": 140,
   "id": "b612c20f-d01f-40f5-affa-e9405160c4a6",
>>>>>>> Stashed changes
   "metadata": {},
   "outputs": [
    {
     "data": {
      "text/html": [
       "<div>\n",
       "<style scoped>\n",
       "    .dataframe tbody tr th:only-of-type {\n",
       "        vertical-align: middle;\n",
       "    }\n",
       "\n",
       "    .dataframe tbody tr th {\n",
       "        vertical-align: top;\n",
       "    }\n",
       "\n",
       "    .dataframe thead th {\n",
       "        text-align: right;\n",
       "    }\n",
       "</style>\n",
       "<table border=\"1\" class=\"dataframe\">\n",
       "  <thead>\n",
       "    <tr style=\"text-align: right;\">\n",
       "      <th></th>\n",
<<<<<<< Updated upstream
       "      <th>Salary Estimate</th>\n",
       "      <th>Rating</th>\n",
       "      <th>Size</th>\n",
       "      <th>Industry</th>\n",
       "      <th>Sector</th>\n",
       "      <th>Job State</th>\n",
       "      <th>Job Simplified</th>\n",
=======
       "      <th>Job Title</th>\n",
       "      <th>Salary Estimate</th>\n",
       "      <th>Job Description</th>\n",
       "      <th>Rating</th>\n",
       "      <th>Company Name</th>\n",
       "      <th>Location</th>\n",
       "      <th>Size</th>\n",
       "      <th>Industry</th>\n",
       "      <th>Sector</th>\n",
       "      <th>Revenue</th>\n",
       "      <th>Job State</th>\n",
       "      <th>Job Simplified</th>\n",
       "      <th>Seniority</th>\n",
>>>>>>> Stashed changes
       "      <th>Vader</th>\n",
       "    </tr>\n",
       "  </thead>\n",
       "  <tbody>\n",
       "    <tr>\n",
<<<<<<< Updated upstream
       "      <th>2</th>\n",
       "      <td>129163</td>\n",
       "      <td>3.1</td>\n",
       "      <td>10000+</td>\n",
       "      <td>Drug &amp; Health Stores</td>\n",
       "      <td>Retail &amp; Wholesale</td>\n",
       "      <td>IL</td>\n",
       "      <td>mle</td>\n",
       "      <td>0.52</td>\n",
       "    </tr>\n",
       "    <tr>\n",
       "      <th>4</th>\n",
       "      <td>112751</td>\n",
       "      <td>3.7</td>\n",
       "      <td>10000+</td>\n",
       "      <td>Investment &amp; Asset Management</td>\n",
       "      <td>Financial Services</td>\n",
       "      <td>PA</td>\n",
       "      <td>mle</td>\n",
       "      <td>0.19</td>\n",
       "    </tr>\n",
       "    <tr>\n",
       "      <th>5</th>\n",
       "      <td>86585</td>\n",
       "      <td>3.7</td>\n",
       "      <td>1001 - 5000</td>\n",
       "      <td>Energy &amp; Utilities</td>\n",
       "      <td>Energy, Mining &amp; Utilities</td>\n",
       "      <td>TX</td>\n",
       "      <td>data scientist</td>\n",
       "      <td>0.82</td>\n",
       "    </tr>\n",
       "    <tr>\n",
       "      <th>7</th>\n",
       "      <td>77143</td>\n",
       "      <td>3.9</td>\n",
       "      <td>1001 - 5000</td>\n",
       "      <td>Health Care Services &amp; Hospitals</td>\n",
       "      <td>Healthcare</td>\n",
       "      <td>TX</td>\n",
       "      <td>analyst</td>\n",
       "      <td>0.18</td>\n",
       "    </tr>\n",
       "    <tr>\n",
       "      <th>8</th>\n",
       "      <td>98663</td>\n",
       "      <td>3.2</td>\n",
       "      <td>10000+</td>\n",
       "      <td>Car &amp; Truck Rental</td>\n",
       "      <td>Transportation &amp; Logistics</td>\n",
       "      <td>FL</td>\n",
       "      <td>data scientist</td>\n",
       "      <td>0.51</td>\n",
       "    </tr>\n",
       "    <tr>\n",
=======
       "      <th>0</th>\n",
       "      <td>Designer UIX NLP/NLU</td>\n",
       "      <td>117500</td>\n",
       "      <td>* W2 Only *\\r The successful candidate will pr...</td>\n",
       "      <td>-1.0</td>\n",
       "      <td>RightFit Talent Brokers, LLC</td>\n",
       "      <td>Remote</td>\n",
       "      <td>NaN</td>\n",
       "      <td>NaN</td>\n",
       "      <td>NaN</td>\n",
       "      <td>NaN</td>\n",
       "      <td>Remote</td>\n",
       "      <td>data scientist</td>\n",
       "      <td>NaN</td>\n",
       "      <td>0.50</td>\n",
       "    </tr>\n",
       "    <tr>\n",
       "      <th>1</th>\n",
       "      <td>Machine Learning Engineer</td>\n",
       "      <td>129337</td>\n",
       "      <td>Signal Systems Corporation (SSC) is searching ...</td>\n",
       "      <td>-1.0</td>\n",
       "      <td>Signal Systems Corporation</td>\n",
       "      <td>Millersville, MD</td>\n",
       "      <td>NaN</td>\n",
       "      <td>NaN</td>\n",
       "      <td>NaN</td>\n",
       "      <td>NaN</td>\n",
       "      <td>MD</td>\n",
       "      <td>mle</td>\n",
       "      <td>NaN</td>\n",
       "      <td>0.39</td>\n",
       "    </tr>\n",
       "    <tr>\n",
       "      <th>2</th>\n",
       "      <td>Senior Algorithms &amp; Machine Learning Scientist</td>\n",
       "      <td>129163</td>\n",
       "      <td>Job Summary:\\r \\r Walgreens, one of the nation...</td>\n",
       "      <td>3.1</td>\n",
       "      <td>WALGREENS</td>\n",
       "      <td>Chicago, IL</td>\n",
       "      <td>10000+</td>\n",
       "      <td>Drug &amp; Health Stores</td>\n",
       "      <td>Retail &amp; Wholesale</td>\n",
       "      <td>10000+</td>\n",
       "      <td>IL</td>\n",
       "      <td>mle</td>\n",
       "      <td>senior</td>\n",
       "      <td>0.52</td>\n",
       "    </tr>\n",
       "    <tr>\n",
       "      <th>3</th>\n",
       "      <td>Data Scientist with AI and ML experience</td>\n",
       "      <td>140000</td>\n",
       "      <td>Data Scientist with advanced analytics experie...</td>\n",
       "      <td>-1.0</td>\n",
       "      <td>innoVet Health, LLC</td>\n",
       "      <td>Remote</td>\n",
       "      <td>NaN</td>\n",
       "      <td>NaN</td>\n",
       "      <td>NaN</td>\n",
       "      <td>NaN</td>\n",
       "      <td>Remote</td>\n",
       "      <td>data scientist</td>\n",
       "      <td>NaN</td>\n",
       "      <td>0.44</td>\n",
       "    </tr>\n",
       "    <tr>\n",
       "      <th>4</th>\n",
       "      <td>Machine Learning Engineer</td>\n",
       "      <td>112751</td>\n",
       "      <td>Supports and performs the development and prog...</td>\n",
       "      <td>3.7</td>\n",
       "      <td>Vanguard</td>\n",
       "      <td>Philadelphia, PA</td>\n",
       "      <td>10000+</td>\n",
       "      <td>Investment &amp; Asset Management</td>\n",
       "      <td>Financial Services</td>\n",
       "      <td>NaN</td>\n",
       "      <td>PA</td>\n",
       "      <td>mle</td>\n",
       "      <td>NaN</td>\n",
       "      <td>0.19</td>\n",
       "    </tr>\n",
       "    <tr>\n",
>>>>>>> Stashed changes
       "      <th>...</th>\n",
       "      <td>...</td>\n",
       "      <td>...</td>\n",
       "      <td>...</td>\n",
       "      <td>...</td>\n",
       "      <td>...</td>\n",
       "      <td>...</td>\n",
       "      <td>...</td>\n",
       "      <td>...</td>\n",
<<<<<<< Updated upstream
       "    </tr>\n",
       "    <tr>\n",
       "      <th>946</th>\n",
       "      <td>149166</td>\n",
       "      <td>4.2</td>\n",
       "      <td>201 - 500</td>\n",
       "      <td>Information Technology Support Services</td>\n",
       "      <td>Information Technology</td>\n",
       "      <td>CA</td>\n",
       "      <td>data scientist</td>\n",
=======
       "      <td>...</td>\n",
       "      <td>...</td>\n",
       "      <td>...</td>\n",
       "      <td>...</td>\n",
       "      <td>...</td>\n",
       "      <td>...</td>\n",
       "    </tr>\n",
       "    <tr>\n",
       "      <th>946</th>\n",
       "      <td>Senior Data Scientist, Product</td>\n",
       "      <td>149166</td>\n",
       "      <td>ABOUT EARNIN:\\r As one of the first pioneers o...</td>\n",
       "      <td>4.2</td>\n",
       "      <td>EarnIn</td>\n",
       "      <td>Palo Alto, CA</td>\n",
       "      <td>201 - 500</td>\n",
       "      <td>Information Technology Support Services</td>\n",
       "      <td>Information Technology</td>\n",
       "      <td>NaN</td>\n",
       "      <td>CA</td>\n",
       "      <td>data scientist</td>\n",
       "      <td>senior</td>\n",
>>>>>>> Stashed changes
       "      <td>0.49</td>\n",
       "    </tr>\n",
       "    <tr>\n",
       "      <th>947</th>\n",
<<<<<<< Updated upstream
       "      <td>99950</td>\n",
       "      <td>4.2</td>\n",
       "      <td>51 - 200</td>\n",
       "      <td>Enterprise Software &amp; Network Solutions</td>\n",
       "      <td>Information Technology</td>\n",
       "      <td>TX</td>\n",
       "      <td>mle</td>\n",
=======
       "      <td>Data Scientist Machine Learning Engineer</td>\n",
       "      <td>99950</td>\n",
       "      <td>Primary Responsibilities to Include:\\r Design,...</td>\n",
       "      <td>4.2</td>\n",
       "      <td>Plasma Computing Group</td>\n",
       "      <td>Dallas, TX</td>\n",
       "      <td>51 - 200</td>\n",
       "      <td>Enterprise Software &amp; Network Solutions</td>\n",
       "      <td>Information Technology</td>\n",
       "      <td>1 - 5</td>\n",
       "      <td>TX</td>\n",
       "      <td>mle</td>\n",
       "      <td>NaN</td>\n",
>>>>>>> Stashed changes
       "      <td>0.11</td>\n",
       "    </tr>\n",
       "    <tr>\n",
       "      <th>948</th>\n",
<<<<<<< Updated upstream
       "      <td>125000</td>\n",
       "      <td>4.1</td>\n",
       "      <td>10000+</td>\n",
       "      <td>Energy &amp; Utilities</td>\n",
       "      <td>Energy, Mining &amp; Utilities</td>\n",
       "      <td>MA</td>\n",
       "      <td>data scientist</td>\n",
=======
       "      <td>Senior Systems Engineer - Systems Modeling &amp; C...</td>\n",
       "      <td>125000</td>\n",
       "      <td>You will have an opportunity to directly impac...</td>\n",
       "      <td>4.1</td>\n",
       "      <td>Cenergy International Services</td>\n",
       "      <td>Boston, MA</td>\n",
       "      <td>10000+</td>\n",
       "      <td>Energy &amp; Utilities</td>\n",
       "      <td>Energy, Mining &amp; Utilities</td>\n",
       "      <td>10000+</td>\n",
       "      <td>MA</td>\n",
       "      <td>data scientist</td>\n",
       "      <td>senior</td>\n",
>>>>>>> Stashed changes
       "      <td>0.53</td>\n",
       "    </tr>\n",
       "    <tr>\n",
       "      <th>949</th>\n",
<<<<<<< Updated upstream
       "      <td>110100</td>\n",
       "      <td>3.6</td>\n",
       "      <td>501 - 1000</td>\n",
       "      <td>Insurance Carriers</td>\n",
       "      <td>Insurance</td>\n",
       "      <td>RI</td>\n",
       "      <td>data scientist</td>\n",
=======
       "      <td>Data Scientist</td>\n",
       "      <td>110100</td>\n",
       "      <td>Please email hr_business_partners@bcbsri.org i...</td>\n",
       "      <td>3.6</td>\n",
       "      <td>Blue Cross &amp; Blue Shield of Rhode Island</td>\n",
       "      <td>Providence, RI</td>\n",
       "      <td>501 - 1000</td>\n",
       "      <td>Insurance Carriers</td>\n",
       "      <td>Insurance</td>\n",
       "      <td>NaN</td>\n",
       "      <td>RI</td>\n",
       "      <td>data scientist</td>\n",
       "      <td>NaN</td>\n",
>>>>>>> Stashed changes
       "      <td>0.34</td>\n",
       "    </tr>\n",
       "    <tr>\n",
       "      <th>950</th>\n",
<<<<<<< Updated upstream
       "      <td>104957</td>\n",
       "      <td>4.3</td>\n",
       "      <td>5001 - 10000</td>\n",
       "      <td>Aerospace &amp; Defense</td>\n",
       "      <td>Aerospace &amp; Defense</td>\n",
       "      <td>MD</td>\n",
       "      <td>data scientist</td>\n",
=======
       "      <td>Decision Scientist</td>\n",
       "      <td>104957</td>\n",
       "      <td>Description\\r \\r Are you searching for an oppo...</td>\n",
       "      <td>4.3</td>\n",
       "      <td>Johns Hopkins Applied Physics Laboratory (APL)</td>\n",
       "      <td>Laurel, MD</td>\n",
       "      <td>5001 - 10000</td>\n",
       "      <td>Aerospace &amp; Defense</td>\n",
       "      <td>Aerospace &amp; Defense</td>\n",
       "      <td>1000 - 5000</td>\n",
       "      <td>MD</td>\n",
       "      <td>data scientist</td>\n",
       "      <td>NaN</td>\n",
>>>>>>> Stashed changes
       "      <td>0.40</td>\n",
       "    </tr>\n",
       "  </tbody>\n",
       "</table>\n",
<<<<<<< Updated upstream
       "<p>682 rows × 8 columns</p>\n",
       "</div>"
      ],
      "text/plain": [
       "     Salary Estimate  Rating          Size  \\\n",
       "2             129163     3.1        10000+   \n",
       "4             112751     3.7        10000+   \n",
       "5              86585     3.7   1001 - 5000   \n",
       "7              77143     3.9   1001 - 5000   \n",
       "8              98663     3.2        10000+   \n",
       "..               ...     ...           ...   \n",
       "946           149166     4.2     201 - 500   \n",
       "947            99950     4.2      51 - 200   \n",
       "948           125000     4.1        10000+   \n",
       "949           110100     3.6    501 - 1000   \n",
       "950           104957     4.3  5001 - 10000   \n",
       "\n",
       "                                    Industry                      Sector  \\\n",
       "2                       Drug & Health Stores          Retail & Wholesale   \n",
       "4              Investment & Asset Management          Financial Services   \n",
       "5                         Energy & Utilities  Energy, Mining & Utilities   \n",
       "7           Health Care Services & Hospitals                  Healthcare   \n",
       "8                         Car & Truck Rental  Transportation & Logistics   \n",
       "..                                       ...                         ...   \n",
       "946  Information Technology Support Services      Information Technology   \n",
       "947  Enterprise Software & Network Solutions      Information Technology   \n",
       "948                       Energy & Utilities  Energy, Mining & Utilities   \n",
       "949                       Insurance Carriers                   Insurance   \n",
       "950                      Aerospace & Defense         Aerospace & Defense   \n",
       "\n",
       "    Job State  Job Simplified  Vader  \n",
       "2          IL             mle   0.52  \n",
       "4          PA             mle   0.19  \n",
       "5          TX  data scientist   0.82  \n",
       "7          TX         analyst   0.18  \n",
       "8          FL  data scientist   0.51  \n",
       "..        ...             ...    ...  \n",
       "946        CA  data scientist   0.49  \n",
       "947        TX             mle   0.11  \n",
       "948        MA  data scientist   0.53  \n",
       "949        RI  data scientist   0.34  \n",
       "950        MD  data scientist   0.40  \n",
       "\n",
       "[682 rows x 8 columns]"
      ]
     },
     "execution_count": 329,
=======
       "<p>951 rows × 14 columns</p>\n",
       "</div>"
      ],
      "text/plain": [
       "                                             Job Title  Salary Estimate  \\\n",
       "0                                 Designer UIX NLP/NLU           117500   \n",
       "1                            Machine Learning Engineer           129337   \n",
       "2       Senior Algorithms & Machine Learning Scientist           129163   \n",
       "3             Data Scientist with AI and ML experience           140000   \n",
       "4                            Machine Learning Engineer           112751   \n",
       "..                                                 ...              ...   \n",
       "946                     Senior Data Scientist, Product           149166   \n",
       "947           Data Scientist Machine Learning Engineer            99950   \n",
       "948  Senior Systems Engineer - Systems Modeling & C...           125000   \n",
       "949                                     Data Scientist           110100   \n",
       "950                                 Decision Scientist           104957   \n",
       "\n",
       "                                       Job Description  Rating  \\\n",
       "0    * W2 Only *\\r The successful candidate will pr...    -1.0   \n",
       "1    Signal Systems Corporation (SSC) is searching ...    -1.0   \n",
       "2    Job Summary:\\r \\r Walgreens, one of the nation...     3.1   \n",
       "3    Data Scientist with advanced analytics experie...    -1.0   \n",
       "4    Supports and performs the development and prog...     3.7   \n",
       "..                                                 ...     ...   \n",
       "946  ABOUT EARNIN:\\r As one of the first pioneers o...     4.2   \n",
       "947  Primary Responsibilities to Include:\\r Design,...     4.2   \n",
       "948  You will have an opportunity to directly impac...     4.1   \n",
       "949  Please email hr_business_partners@bcbsri.org i...     3.6   \n",
       "950  Description\\r \\r Are you searching for an oppo...     4.3   \n",
       "\n",
       "                                       Company Name          Location  \\\n",
       "0                      RightFit Talent Brokers, LLC            Remote   \n",
       "1                        Signal Systems Corporation  Millersville, MD   \n",
       "2                                         WALGREENS       Chicago, IL   \n",
       "3                               innoVet Health, LLC            Remote   \n",
       "4                                          Vanguard  Philadelphia, PA   \n",
       "..                                              ...               ...   \n",
       "946                                          EarnIn     Palo Alto, CA   \n",
       "947                          Plasma Computing Group        Dallas, TX   \n",
       "948                  Cenergy International Services        Boston, MA   \n",
       "949        Blue Cross & Blue Shield of Rhode Island    Providence, RI   \n",
       "950  Johns Hopkins Applied Physics Laboratory (APL)        Laurel, MD   \n",
       "\n",
       "             Size                                 Industry  \\\n",
       "0             NaN                                      NaN   \n",
       "1             NaN                                      NaN   \n",
       "2          10000+                     Drug & Health Stores   \n",
       "3             NaN                                      NaN   \n",
       "4          10000+            Investment & Asset Management   \n",
       "..            ...                                      ...   \n",
       "946     201 - 500  Information Technology Support Services   \n",
       "947      51 - 200  Enterprise Software & Network Solutions   \n",
       "948        10000+                       Energy & Utilities   \n",
       "949    501 - 1000                       Insurance Carriers   \n",
       "950  5001 - 10000                      Aerospace & Defense   \n",
       "\n",
       "                         Sector      Revenue Job State  Job Simplified  \\\n",
       "0                           NaN          NaN    Remote  data scientist   \n",
       "1                           NaN          NaN        MD             mle   \n",
       "2            Retail & Wholesale       10000+        IL             mle   \n",
       "3                           NaN          NaN    Remote  data scientist   \n",
       "4            Financial Services          NaN        PA             mle   \n",
       "..                          ...          ...       ...             ...   \n",
       "946      Information Technology          NaN        CA  data scientist   \n",
       "947      Information Technology        1 - 5        TX             mle   \n",
       "948  Energy, Mining & Utilities       10000+        MA  data scientist   \n",
       "949                   Insurance          NaN        RI  data scientist   \n",
       "950         Aerospace & Defense  1000 - 5000        MD  data scientist   \n",
       "\n",
       "    Seniority  Vader  \n",
       "0         NaN   0.50  \n",
       "1         NaN   0.39  \n",
       "2      senior   0.52  \n",
       "3         NaN   0.44  \n",
       "4         NaN   0.19  \n",
       "..        ...    ...  \n",
       "946    senior   0.49  \n",
       "947       NaN   0.11  \n",
       "948    senior   0.53  \n",
       "949       NaN   0.34  \n",
       "950       NaN   0.40  \n",
       "\n",
       "[951 rows x 14 columns]"
      ]
     },
     "execution_count": 140,
>>>>>>> Stashed changes
     "metadata": {},
     "output_type": "execute_result"
    }
   ],
   "source": [
<<<<<<< Updated upstream
    "df_raw[df_raw['Salary Estimate']<550000]"
=======
    "df_raw"
>>>>>>> Stashed changes
   ]
  },
  {
   "cell_type": "code",
<<<<<<< Updated upstream
   "execution_count": 325,
   "id": "b612c20f-d01f-40f5-affa-e9405160c4a6",
   "metadata": {},
   "outputs": [],
   "source": [
    "df_raw = df_raw[df_raw['Salary Estimate']<550000]\n",
    "df_raw.to_csv('data_cleaned_Alex.csv', index=False)"
   ]
  },
  {
   "cell_type": "code",
   "execution_count": 274,
=======
   "execution_count": 141,
>>>>>>> Stashed changes
   "id": "ee7c2767",
   "metadata": {},
   "outputs": [],
   "source": [
<<<<<<< Updated upstream
    "df_raw=df_raw[['Salary Estimate', 'Rating', 'Company Name', 'Location', 'Size', 'Industry', 'Sector', 'Job State', 'Job Simplified', 'Vader']].copy()"
=======
    "df_raw=df_raw[['Salary Estimate', 'Rating', 'Company Name', 'Location', 'Size', 'Industry', 'Sector', 'Job State', 'Job Simplified']].copy()"
>>>>>>> Stashed changes
   ]
  },
  {
   "cell_type": "code",
<<<<<<< Updated upstream
   "execution_count": 275,
=======
   "execution_count": 142,
>>>>>>> Stashed changes
   "id": "af9b0e6f",
   "metadata": {},
   "outputs": [],
   "source": [
    "df_raw.dropna(inplace=True)"
   ]
  },
  {
   "cell_type": "code",
<<<<<<< Updated upstream
   "execution_count": 276,
=======
   "execution_count": 143,
>>>>>>> Stashed changes
   "id": "71d12898-7a4a-4fc2-93a1-4fcf6db558f9",
   "metadata": {},
   "outputs": [],
   "source": [
    "#df_raw[df_raw['Rating']==-1].index"
   ]
  },
  {
   "cell_type": "code",
<<<<<<< Updated upstream
   "execution_count": 277,
=======
   "execution_count": 144,
>>>>>>> Stashed changes
   "id": "f259abd4-8a4a-4a69-a19c-4252843d50ce",
   "metadata": {},
   "outputs": [],
   "source": [
    "df_raw.drop(df_raw[df_raw['Rating']==-1].index, inplace=True)"
   ]
  },
  {
   "cell_type": "code",
<<<<<<< Updated upstream
   "execution_count": 278,
=======
   "execution_count": 145,
>>>>>>> Stashed changes
   "id": "028d59fa-e675-409a-a126-d5ad2920d890",
   "metadata": {},
   "outputs": [
    {
     "data": {
      "text/plain": [
       "2      129.163\n",
       "4      112.751\n",
       "5       86.585\n",
       "7       77.143\n",
       "8       98.663\n",
       "        ...   \n",
       "946    149.166\n",
       "947     99.950\n",
       "948    125.000\n",
       "949    110.100\n",
       "950    104.957\n",
       "Name: Salary Estimate, Length: 699, dtype: float64"
      ]
     },
<<<<<<< Updated upstream
     "execution_count": 278,
=======
     "execution_count": 145,
>>>>>>> Stashed changes
     "metadata": {},
     "output_type": "execute_result"
    }
   ],
   "source": [
<<<<<<< Updated upstream
    "# salary = df_raw['Salary Estimate']/1000\n",
    "# salary"
=======
    "salary = df_raw['Salary Estimate']/1000\n",
    "salary"
>>>>>>> Stashed changes
   ]
  },
  {
   "cell_type": "code",
<<<<<<< Updated upstream
   "execution_count": 279,
=======
   "execution_count": 146,
>>>>>>> Stashed changes
   "id": "f9de640e-22a7-4579-9caa-88674f890ffc",
   "metadata": {},
   "outputs": [
    {
     "data": {
      "text/html": [
       "<div>\n",
       "<style scoped>\n",
       "    .dataframe tbody tr th:only-of-type {\n",
       "        vertical-align: middle;\n",
       "    }\n",
       "\n",
       "    .dataframe tbody tr th {\n",
       "        vertical-align: top;\n",
       "    }\n",
       "\n",
       "    .dataframe thead th {\n",
       "        text-align: right;\n",
       "    }\n",
       "</style>\n",
       "<table border=\"1\" class=\"dataframe\">\n",
       "  <thead>\n",
       "    <tr style=\"text-align: right;\">\n",
       "      <th></th>\n",
       "      <th>Salary Estimate</th>\n",
       "      <th>Rating</th>\n",
       "      <th>Company Name</th>\n",
       "      <th>Location</th>\n",
       "      <th>Size</th>\n",
       "      <th>Industry</th>\n",
       "      <th>Sector</th>\n",
       "      <th>Job State</th>\n",
       "      <th>Job Simplified</th>\n",
<<<<<<< Updated upstream
       "      <th>Vader</th>\n",
=======
>>>>>>> Stashed changes
       "    </tr>\n",
       "  </thead>\n",
       "  <tbody>\n",
       "    <tr>\n",
       "      <th>2</th>\n",
       "      <td>129163</td>\n",
       "      <td>3.1</td>\n",
       "      <td>WALGREENS</td>\n",
       "      <td>Chicago, IL</td>\n",
       "      <td>10000+</td>\n",
       "      <td>Drug &amp; Health Stores</td>\n",
       "      <td>Retail &amp; Wholesale</td>\n",
       "      <td>IL</td>\n",
       "      <td>mle</td>\n",
<<<<<<< Updated upstream
       "      <td>0.52</td>\n",
=======
>>>>>>> Stashed changes
       "    </tr>\n",
       "    <tr>\n",
       "      <th>4</th>\n",
       "      <td>112751</td>\n",
       "      <td>3.7</td>\n",
       "      <td>Vanguard</td>\n",
       "      <td>Philadelphia, PA</td>\n",
       "      <td>10000+</td>\n",
       "      <td>Investment &amp; Asset Management</td>\n",
       "      <td>Financial Services</td>\n",
       "      <td>PA</td>\n",
       "      <td>mle</td>\n",
<<<<<<< Updated upstream
       "      <td>0.19</td>\n",
=======
>>>>>>> Stashed changes
       "    </tr>\n",
       "    <tr>\n",
       "      <th>5</th>\n",
       "      <td>86585</td>\n",
       "      <td>3.7</td>\n",
       "      <td>Patterson-UTI</td>\n",
       "      <td>Houston, TX</td>\n",
       "      <td>1001 - 5000</td>\n",
       "      <td>Energy &amp; Utilities</td>\n",
       "      <td>Energy, Mining &amp; Utilities</td>\n",
       "      <td>TX</td>\n",
       "      <td>data scientist</td>\n",
<<<<<<< Updated upstream
       "      <td>0.82</td>\n",
=======
>>>>>>> Stashed changes
       "    </tr>\n",
       "    <tr>\n",
       "      <th>7</th>\n",
       "      <td>77143</td>\n",
       "      <td>3.9</td>\n",
       "      <td>Scottish Rite for Children</td>\n",
       "      <td>Dallas, TX</td>\n",
       "      <td>1001 - 5000</td>\n",
       "      <td>Health Care Services &amp; Hospitals</td>\n",
       "      <td>Healthcare</td>\n",
       "      <td>TX</td>\n",
       "      <td>analyst</td>\n",
<<<<<<< Updated upstream
       "      <td>0.18</td>\n",
=======
>>>>>>> Stashed changes
       "    </tr>\n",
       "    <tr>\n",
       "      <th>8</th>\n",
       "      <td>98663</td>\n",
       "      <td>3.2</td>\n",
       "      <td>Hertz</td>\n",
       "      <td>Estero, FL</td>\n",
       "      <td>10000+</td>\n",
       "      <td>Car &amp; Truck Rental</td>\n",
       "      <td>Transportation &amp; Logistics</td>\n",
       "      <td>FL</td>\n",
       "      <td>data scientist</td>\n",
<<<<<<< Updated upstream
       "      <td>0.51</td>\n",
=======
>>>>>>> Stashed changes
       "    </tr>\n",
       "    <tr>\n",
       "      <th>...</th>\n",
       "      <td>...</td>\n",
       "      <td>...</td>\n",
       "      <td>...</td>\n",
       "      <td>...</td>\n",
       "      <td>...</td>\n",
       "      <td>...</td>\n",
       "      <td>...</td>\n",
       "      <td>...</td>\n",
       "      <td>...</td>\n",
<<<<<<< Updated upstream
       "      <td>...</td>\n",
=======
>>>>>>> Stashed changes
       "    </tr>\n",
       "    <tr>\n",
       "      <th>946</th>\n",
       "      <td>149166</td>\n",
       "      <td>4.2</td>\n",
       "      <td>EarnIn</td>\n",
       "      <td>Palo Alto, CA</td>\n",
       "      <td>201 - 500</td>\n",
       "      <td>Information Technology Support Services</td>\n",
       "      <td>Information Technology</td>\n",
       "      <td>CA</td>\n",
       "      <td>data scientist</td>\n",
<<<<<<< Updated upstream
       "      <td>0.49</td>\n",
=======
>>>>>>> Stashed changes
       "    </tr>\n",
       "    <tr>\n",
       "      <th>947</th>\n",
       "      <td>99950</td>\n",
       "      <td>4.2</td>\n",
       "      <td>Plasma Computing Group</td>\n",
       "      <td>Dallas, TX</td>\n",
       "      <td>51 - 200</td>\n",
       "      <td>Enterprise Software &amp; Network Solutions</td>\n",
       "      <td>Information Technology</td>\n",
       "      <td>TX</td>\n",
       "      <td>mle</td>\n",
<<<<<<< Updated upstream
       "      <td>0.11</td>\n",
=======
>>>>>>> Stashed changes
       "    </tr>\n",
       "    <tr>\n",
       "      <th>948</th>\n",
       "      <td>125000</td>\n",
       "      <td>4.1</td>\n",
       "      <td>Cenergy International Services</td>\n",
       "      <td>Boston, MA</td>\n",
       "      <td>10000+</td>\n",
       "      <td>Energy &amp; Utilities</td>\n",
       "      <td>Energy, Mining &amp; Utilities</td>\n",
       "      <td>MA</td>\n",
       "      <td>data scientist</td>\n",
<<<<<<< Updated upstream
       "      <td>0.53</td>\n",
=======
>>>>>>> Stashed changes
       "    </tr>\n",
       "    <tr>\n",
       "      <th>949</th>\n",
       "      <td>110100</td>\n",
       "      <td>3.6</td>\n",
       "      <td>Blue Cross &amp; Blue Shield of Rhode Island</td>\n",
       "      <td>Providence, RI</td>\n",
       "      <td>501 - 1000</td>\n",
       "      <td>Insurance Carriers</td>\n",
       "      <td>Insurance</td>\n",
       "      <td>RI</td>\n",
       "      <td>data scientist</td>\n",
<<<<<<< Updated upstream
       "      <td>0.34</td>\n",
=======
>>>>>>> Stashed changes
       "    </tr>\n",
       "    <tr>\n",
       "      <th>950</th>\n",
       "      <td>104957</td>\n",
       "      <td>4.3</td>\n",
       "      <td>Johns Hopkins Applied Physics Laboratory (APL)</td>\n",
       "      <td>Laurel, MD</td>\n",
       "      <td>5001 - 10000</td>\n",
       "      <td>Aerospace &amp; Defense</td>\n",
       "      <td>Aerospace &amp; Defense</td>\n",
       "      <td>MD</td>\n",
       "      <td>data scientist</td>\n",
<<<<<<< Updated upstream
       "      <td>0.40</td>\n",
       "    </tr>\n",
       "  </tbody>\n",
       "</table>\n",
       "<p>699 rows × 10 columns</p>\n",
=======
       "    </tr>\n",
       "  </tbody>\n",
       "</table>\n",
       "<p>699 rows × 9 columns</p>\n",
>>>>>>> Stashed changes
       "</div>"
      ],
      "text/plain": [
       "     Salary Estimate  Rating                                    Company Name  \\\n",
       "2             129163     3.1                                       WALGREENS   \n",
       "4             112751     3.7                                        Vanguard   \n",
       "5              86585     3.7                                   Patterson-UTI   \n",
       "7              77143     3.9                      Scottish Rite for Children   \n",
       "8              98663     3.2                                           Hertz   \n",
       "..               ...     ...                                             ...   \n",
       "946           149166     4.2                                          EarnIn   \n",
       "947            99950     4.2                          Plasma Computing Group   \n",
       "948           125000     4.1                  Cenergy International Services   \n",
       "949           110100     3.6        Blue Cross & Blue Shield of Rhode Island   \n",
       "950           104957     4.3  Johns Hopkins Applied Physics Laboratory (APL)   \n",
       "\n",
       "             Location          Size                                 Industry  \\\n",
       "2         Chicago, IL        10000+                     Drug & Health Stores   \n",
       "4    Philadelphia, PA        10000+            Investment & Asset Management   \n",
       "5         Houston, TX   1001 - 5000                       Energy & Utilities   \n",
       "7          Dallas, TX   1001 - 5000         Health Care Services & Hospitals   \n",
       "8          Estero, FL        10000+                       Car & Truck Rental   \n",
       "..                ...           ...                                      ...   \n",
       "946     Palo Alto, CA     201 - 500  Information Technology Support Services   \n",
       "947        Dallas, TX      51 - 200  Enterprise Software & Network Solutions   \n",
       "948        Boston, MA        10000+                       Energy & Utilities   \n",
       "949    Providence, RI    501 - 1000                       Insurance Carriers   \n",
       "950        Laurel, MD  5001 - 10000                      Aerospace & Defense   \n",
       "\n",
<<<<<<< Updated upstream
       "                         Sector Job State  Job Simplified  Vader  \n",
       "2            Retail & Wholesale        IL             mle   0.52  \n",
       "4            Financial Services        PA             mle   0.19  \n",
       "5    Energy, Mining & Utilities        TX  data scientist   0.82  \n",
       "7                    Healthcare        TX         analyst   0.18  \n",
       "8    Transportation & Logistics        FL  data scientist   0.51  \n",
       "..                          ...       ...             ...    ...  \n",
       "946      Information Technology        CA  data scientist   0.49  \n",
       "947      Information Technology        TX             mle   0.11  \n",
       "948  Energy, Mining & Utilities        MA  data scientist   0.53  \n",
       "949                   Insurance        RI  data scientist   0.34  \n",
       "950         Aerospace & Defense        MD  data scientist   0.40  \n",
       "\n",
       "[699 rows x 10 columns]"
      ]
     },
     "execution_count": 279,
=======
       "                         Sector Job State  Job Simplified  \n",
       "2            Retail & Wholesale        IL             mle  \n",
       "4            Financial Services        PA             mle  \n",
       "5    Energy, Mining & Utilities        TX  data scientist  \n",
       "7                    Healthcare        TX         analyst  \n",
       "8    Transportation & Logistics        FL  data scientist  \n",
       "..                          ...       ...             ...  \n",
       "946      Information Technology        CA  data scientist  \n",
       "947      Information Technology        TX             mle  \n",
       "948  Energy, Mining & Utilities        MA  data scientist  \n",
       "949                   Insurance        RI  data scientist  \n",
       "950         Aerospace & Defense        MD  data scientist  \n",
       "\n",
       "[699 rows x 9 columns]"
      ]
     },
     "execution_count": 146,
>>>>>>> Stashed changes
     "metadata": {},
     "output_type": "execute_result"
    }
   ],
   "source": [
    "df_raw"
   ]
  },
  {
   "cell_type": "code",
<<<<<<< Updated upstream
   "execution_count": 280,
=======
   "execution_count": 147,
>>>>>>> Stashed changes
   "id": "8bcc86a2-3891-4fe7-a1ff-b557d7ee1ecd",
   "metadata": {},
   "outputs": [],
   "source": [
<<<<<<< Updated upstream
    "#df_raw = pd.concat([df_raw, salary], axis=1)"
=======
    "df_raw = pd.concat([df_raw, salary], axis=1)"
>>>>>>> Stashed changes
   ]
  },
  {
   "cell_type": "code",
<<<<<<< Updated upstream
   "execution_count": 281,
=======
   "execution_count": 148,
>>>>>>> Stashed changes
   "id": "96a19255-ac2d-4694-ae81-b512ae522e17",
   "metadata": {},
   "outputs": [],
   "source": [
    "df_raw.drop('Company Name', axis=1, inplace=True)"
   ]
  },
  {
   "cell_type": "code",
<<<<<<< Updated upstream
   "execution_count": 282,
=======
   "execution_count": 102,
>>>>>>> Stashed changes
   "id": "485ad271-d7d8-4f25-8c3d-240b00f313da",
   "metadata": {
    "scrolled": true
   },
   "outputs": [],
   "source": [
    "df_model = df_raw"
   ]
  },
  {
   "cell_type": "code",
<<<<<<< Updated upstream
   "execution_count": 283,
=======
   "execution_count": 103,
>>>>>>> Stashed changes
   "id": "a7c89a2f-e59a-4cc5-a381-653e96450384",
   "metadata": {},
   "outputs": [],
   "source": [
    "# pd.DataFrame(df_model['Location'].unique())"
   ]
  },
  {
   "cell_type": "code",
<<<<<<< Updated upstream
   "execution_count": 284,
=======
   "execution_count": 104,
>>>>>>> Stashed changes
   "id": "37431fd8-14b1-464a-9222-5a48acc593cf",
   "metadata": {},
   "outputs": [],
   "source": [
    "# import re\n",
    "# text = 'Cerritos, CA'\n",
    "# pattern = r'[A-Z]*$'\n",
    "# match = re.search(pattern, text)\n",
    "# match.group()"
   ]
  },
  {
   "cell_type": "code",
<<<<<<< Updated upstream
   "execution_count": 285,
=======
   "execution_count": 105,
>>>>>>> Stashed changes
   "id": "e67f8db4-a35d-4fd8-b9f5-b306f3e30a99",
   "metadata": {},
   "outputs": [],
   "source": [
    "# import re\n",
    "# def get_state(text):\n",
    "#     pattern = r'[A-Z]*$'\n",
    "#     #text = row[0] #row['Location']\n",
    "#     match = re.search(pattern, text)\n",
    "#     if text == 'nan':\n",
    "#         return 'nan'\n",
    "#     elif text == 'Remote':\n",
    "#         return 'Remote'\n",
    "        \n",
    "#     return match.group()"
   ]
  },
  {
   "cell_type": "code",
<<<<<<< Updated upstream
   "execution_count": 286,
=======
   "execution_count": 106,
>>>>>>> Stashed changes
   "id": "15c37be1-b18a-42d2-bd11-f8cbf7f36b2e",
   "metadata": {},
   "outputs": [],
   "source": [
    "# df_model[df_model['Location'].isnull()]['Location'].astype(str)"
   ]
  },
  {
   "cell_type": "code",
<<<<<<< Updated upstream
   "execution_count": 287,
=======
   "execution_count": 107,
>>>>>>> Stashed changes
   "id": "8aca5020-a58a-4b89-82a4-23c67df32663",
   "metadata": {},
   "outputs": [],
   "source": [
    "# df_model['Location'].astype(str).apply(get_state)"
   ]
  },
  {
   "cell_type": "code",
<<<<<<< Updated upstream
   "execution_count": 288,
=======
   "execution_count": 108,
>>>>>>> Stashed changes
   "id": "33002c4b-80c7-4087-b007-f073c75d6954",
   "metadata": {},
   "outputs": [],
   "source": [
    "# df_model.drop('State', axis=1)\n",
    "# df_model['State'] = df_model['Location'].astype(str).apply(get_state)"
   ]
  },
  {
   "cell_type": "code",
<<<<<<< Updated upstream
   "execution_count": 289,
=======
   "execution_count": 109,
>>>>>>> Stashed changes
   "id": "5964bcb7-34e5-4f30-b65b-7754f9dd4db6",
   "metadata": {},
   "outputs": [],
   "source": [
    "df_model.drop('Location', axis=1, inplace=True)"
   ]
  },
  {
   "cell_type": "code",
<<<<<<< Updated upstream
   "execution_count": 290,
=======
   "execution_count": 110,
>>>>>>> Stashed changes
   "id": "e1e42c96-df18-493e-a5b8-c87bfce83b6a",
   "metadata": {},
   "outputs": [],
   "source": [
    "# df_model = df_model[df_model['Salary Estimate'] < 300]"
   ]
  },
  {
   "cell_type": "code",
<<<<<<< Updated upstream
   "execution_count": 291,
=======
   "execution_count": 111,
>>>>>>> Stashed changes
   "id": "0eb1d5b1-b53a-48a6-98f2-50f0a1d52cb0",
   "metadata": {},
   "outputs": [
    {
     "data": {
      "text/plain": [
<<<<<<< Updated upstream
       "array(['mle', 'data scientist', 'analyst', 'data engineer',\n",
       "       'statistician', 'data architect', 'research scientist'],\n",
       "      dtype=object)"
      ]
     },
     "execution_count": 291,
=======
       "array(['mle', 'data scientist', 'analyst', 'statistician',\n",
       "       'data engineer', 'data architect', 'research scientist'],\n",
       "      dtype=object)"
      ]
     },
     "execution_count": 111,
>>>>>>> Stashed changes
     "metadata": {},
     "output_type": "execute_result"
    }
   ],
   "source": [
    "df_model['Job Simplified'].unique()"
   ]
  },
  {
   "cell_type": "code",
<<<<<<< Updated upstream
   "execution_count": 292,
=======
   "execution_count": 112,
>>>>>>> Stashed changes
   "id": "b0596bab-3abb-4f7d-b2bf-3609d369e948",
   "metadata": {},
   "outputs": [
    {
     "data": {
      "text/html": [
       "<div>\n",
       "<style scoped>\n",
       "    .dataframe tbody tr th:only-of-type {\n",
       "        vertical-align: middle;\n",
       "    }\n",
       "\n",
       "    .dataframe tbody tr th {\n",
       "        vertical-align: top;\n",
       "    }\n",
       "\n",
       "    .dataframe thead th {\n",
       "        text-align: right;\n",
       "    }\n",
       "</style>\n",
       "<table border=\"1\" class=\"dataframe\">\n",
       "  <thead>\n",
       "    <tr style=\"text-align: right;\">\n",
       "      <th></th>\n",
<<<<<<< Updated upstream
       "      <th>Salary Estimate</th>\n",
=======
>>>>>>> Stashed changes
       "      <th>Rating</th>\n",
       "      <th>Size</th>\n",
       "      <th>Industry</th>\n",
       "      <th>Sector</th>\n",
       "      <th>Job State</th>\n",
       "      <th>Job Simplified</th>\n",
<<<<<<< Updated upstream
       "      <th>Vader</th>\n",
=======
       "      <th>Salary Estimate</th>\n",
>>>>>>> Stashed changes
       "    </tr>\n",
       "  </thead>\n",
       "  <tbody>\n",
       "    <tr>\n",
       "      <th>2</th>\n",
<<<<<<< Updated upstream
       "      <td>129163</td>\n",
=======
>>>>>>> Stashed changes
       "      <td>3.1</td>\n",
       "      <td>10000+</td>\n",
       "      <td>Drug &amp; Health Stores</td>\n",
       "      <td>Retail &amp; Wholesale</td>\n",
       "      <td>IL</td>\n",
       "      <td>mle</td>\n",
<<<<<<< Updated upstream
       "      <td>0.52</td>\n",
       "    </tr>\n",
       "    <tr>\n",
       "      <th>4</th>\n",
       "      <td>112751</td>\n",
=======
       "      <td>129.163</td>\n",
       "    </tr>\n",
       "    <tr>\n",
       "      <th>4</th>\n",
>>>>>>> Stashed changes
       "      <td>3.7</td>\n",
       "      <td>10000+</td>\n",
       "      <td>Investment &amp; Asset Management</td>\n",
       "      <td>Financial Services</td>\n",
       "      <td>PA</td>\n",
       "      <td>mle</td>\n",
<<<<<<< Updated upstream
       "      <td>0.19</td>\n",
       "    </tr>\n",
       "    <tr>\n",
       "      <th>5</th>\n",
       "      <td>86585</td>\n",
=======
       "      <td>112.751</td>\n",
       "    </tr>\n",
       "    <tr>\n",
       "      <th>6</th>\n",
>>>>>>> Stashed changes
       "      <td>3.7</td>\n",
       "      <td>1001 - 5000</td>\n",
       "      <td>Energy &amp; Utilities</td>\n",
       "      <td>Energy, Mining &amp; Utilities</td>\n",
       "      <td>TX</td>\n",
       "      <td>data scientist</td>\n",
<<<<<<< Updated upstream
       "      <td>0.82</td>\n",
       "    </tr>\n",
       "    <tr>\n",
       "      <th>7</th>\n",
       "      <td>77143</td>\n",
=======
       "      <td>86.585</td>\n",
       "    </tr>\n",
       "    <tr>\n",
       "      <th>8</th>\n",
>>>>>>> Stashed changes
       "      <td>3.9</td>\n",
       "      <td>1001 - 5000</td>\n",
       "      <td>Health Care Services &amp; Hospitals</td>\n",
       "      <td>Healthcare</td>\n",
       "      <td>TX</td>\n",
       "      <td>analyst</td>\n",
<<<<<<< Updated upstream
       "      <td>0.18</td>\n",
       "    </tr>\n",
       "    <tr>\n",
       "      <th>8</th>\n",
       "      <td>98663</td>\n",
=======
       "      <td>77.143</td>\n",
       "    </tr>\n",
       "    <tr>\n",
       "      <th>9</th>\n",
>>>>>>> Stashed changes
       "      <td>3.2</td>\n",
       "      <td>10000+</td>\n",
       "      <td>Car &amp; Truck Rental</td>\n",
       "      <td>Transportation &amp; Logistics</td>\n",
       "      <td>FL</td>\n",
       "      <td>data scientist</td>\n",
<<<<<<< Updated upstream
       "      <td>0.51</td>\n",
=======
       "      <td>98.663</td>\n",
>>>>>>> Stashed changes
       "    </tr>\n",
       "    <tr>\n",
       "      <th>...</th>\n",
       "      <td>...</td>\n",
       "      <td>...</td>\n",
       "      <td>...</td>\n",
       "      <td>...</td>\n",
       "      <td>...</td>\n",
       "      <td>...</td>\n",
       "      <td>...</td>\n",
<<<<<<< Updated upstream
       "      <td>...</td>\n",
       "    </tr>\n",
       "    <tr>\n",
       "      <th>946</th>\n",
       "      <td>149166</td>\n",
=======
       "    </tr>\n",
       "    <tr>\n",
       "      <th>1376</th>\n",
>>>>>>> Stashed changes
       "      <td>4.2</td>\n",
       "      <td>201 - 500</td>\n",
       "      <td>Information Technology Support Services</td>\n",
       "      <td>Information Technology</td>\n",
       "      <td>CA</td>\n",
       "      <td>data scientist</td>\n",
<<<<<<< Updated upstream
       "      <td>0.49</td>\n",
       "    </tr>\n",
       "    <tr>\n",
       "      <th>947</th>\n",
       "      <td>99950</td>\n",
=======
       "      <td>149.166</td>\n",
       "    </tr>\n",
       "    <tr>\n",
       "      <th>1377</th>\n",
>>>>>>> Stashed changes
       "      <td>4.2</td>\n",
       "      <td>51 - 200</td>\n",
       "      <td>Enterprise Software &amp; Network Solutions</td>\n",
       "      <td>Information Technology</td>\n",
       "      <td>TX</td>\n",
       "      <td>mle</td>\n",
<<<<<<< Updated upstream
       "      <td>0.11</td>\n",
       "    </tr>\n",
       "    <tr>\n",
       "      <th>948</th>\n",
       "      <td>125000</td>\n",
=======
       "      <td>99.950</td>\n",
       "    </tr>\n",
       "    <tr>\n",
       "      <th>1383</th>\n",
>>>>>>> Stashed changes
       "      <td>4.1</td>\n",
       "      <td>10000+</td>\n",
       "      <td>Energy &amp; Utilities</td>\n",
       "      <td>Energy, Mining &amp; Utilities</td>\n",
       "      <td>MA</td>\n",
       "      <td>data scientist</td>\n",
<<<<<<< Updated upstream
       "      <td>0.53</td>\n",
       "    </tr>\n",
       "    <tr>\n",
       "      <th>949</th>\n",
       "      <td>110100</td>\n",
=======
       "      <td>125.000</td>\n",
       "    </tr>\n",
       "    <tr>\n",
       "      <th>1384</th>\n",
>>>>>>> Stashed changes
       "      <td>3.6</td>\n",
       "      <td>501 - 1000</td>\n",
       "      <td>Insurance Carriers</td>\n",
       "      <td>Insurance</td>\n",
       "      <td>RI</td>\n",
       "      <td>data scientist</td>\n",
<<<<<<< Updated upstream
       "      <td>0.34</td>\n",
       "    </tr>\n",
       "    <tr>\n",
       "      <th>950</th>\n",
       "      <td>104957</td>\n",
=======
       "      <td>110.100</td>\n",
       "    </tr>\n",
       "    <tr>\n",
       "      <th>1388</th>\n",
>>>>>>> Stashed changes
       "      <td>4.3</td>\n",
       "      <td>5001 - 10000</td>\n",
       "      <td>Aerospace &amp; Defense</td>\n",
       "      <td>Aerospace &amp; Defense</td>\n",
       "      <td>MD</td>\n",
       "      <td>data scientist</td>\n",
<<<<<<< Updated upstream
       "      <td>0.40</td>\n",
       "    </tr>\n",
       "  </tbody>\n",
       "</table>\n",
       "<p>699 rows × 8 columns</p>\n",
       "</div>"
      ],
      "text/plain": [
       "     Salary Estimate  Rating          Size  \\\n",
       "2             129163     3.1        10000+   \n",
       "4             112751     3.7        10000+   \n",
       "5              86585     3.7   1001 - 5000   \n",
       "7              77143     3.9   1001 - 5000   \n",
       "8              98663     3.2        10000+   \n",
       "..               ...     ...           ...   \n",
       "946           149166     4.2     201 - 500   \n",
       "947            99950     4.2      51 - 200   \n",
       "948           125000     4.1        10000+   \n",
       "949           110100     3.6    501 - 1000   \n",
       "950           104957     4.3  5001 - 10000   \n",
       "\n",
       "                                    Industry                      Sector  \\\n",
       "2                       Drug & Health Stores          Retail & Wholesale   \n",
       "4              Investment & Asset Management          Financial Services   \n",
       "5                         Energy & Utilities  Energy, Mining & Utilities   \n",
       "7           Health Care Services & Hospitals                  Healthcare   \n",
       "8                         Car & Truck Rental  Transportation & Logistics   \n",
       "..                                       ...                         ...   \n",
       "946  Information Technology Support Services      Information Technology   \n",
       "947  Enterprise Software & Network Solutions      Information Technology   \n",
       "948                       Energy & Utilities  Energy, Mining & Utilities   \n",
       "949                       Insurance Carriers                   Insurance   \n",
       "950                      Aerospace & Defense         Aerospace & Defense   \n",
       "\n",
       "    Job State  Job Simplified  Vader  \n",
       "2          IL             mle   0.52  \n",
       "4          PA             mle   0.19  \n",
       "5          TX  data scientist   0.82  \n",
       "7          TX         analyst   0.18  \n",
       "8          FL  data scientist   0.51  \n",
       "..        ...             ...    ...  \n",
       "946        CA  data scientist   0.49  \n",
       "947        TX             mle   0.11  \n",
       "948        MA  data scientist   0.53  \n",
       "949        RI  data scientist   0.34  \n",
       "950        MD  data scientist   0.40  \n",
       "\n",
       "[699 rows x 8 columns]"
      ]
     },
     "execution_count": 292,
=======
       "      <td>104.957</td>\n",
       "    </tr>\n",
       "  </tbody>\n",
       "</table>\n",
       "<p>710 rows × 7 columns</p>\n",
       "</div>"
      ],
      "text/plain": [
       "      Rating          Size                                 Industry  \\\n",
       "2        3.1        10000+                     Drug & Health Stores   \n",
       "4        3.7        10000+            Investment & Asset Management   \n",
       "6        3.7   1001 - 5000                       Energy & Utilities   \n",
       "8        3.9   1001 - 5000         Health Care Services & Hospitals   \n",
       "9        3.2        10000+                       Car & Truck Rental   \n",
       "...      ...           ...                                      ...   \n",
       "1376     4.2     201 - 500  Information Technology Support Services   \n",
       "1377     4.2      51 - 200  Enterprise Software & Network Solutions   \n",
       "1383     4.1        10000+                       Energy & Utilities   \n",
       "1384     3.6    501 - 1000                       Insurance Carriers   \n",
       "1388     4.3  5001 - 10000                      Aerospace & Defense   \n",
       "\n",
       "                          Sector Job State  Job Simplified  Salary Estimate  \n",
       "2             Retail & Wholesale        IL             mle          129.163  \n",
       "4             Financial Services        PA             mle          112.751  \n",
       "6     Energy, Mining & Utilities        TX  data scientist           86.585  \n",
       "8                     Healthcare        TX         analyst           77.143  \n",
       "9     Transportation & Logistics        FL  data scientist           98.663  \n",
       "...                          ...       ...             ...              ...  \n",
       "1376      Information Technology        CA  data scientist          149.166  \n",
       "1377      Information Technology        TX             mle           99.950  \n",
       "1383  Energy, Mining & Utilities        MA  data scientist          125.000  \n",
       "1384                   Insurance        RI  data scientist          110.100  \n",
       "1388         Aerospace & Defense        MD  data scientist          104.957  \n",
       "\n",
       "[710 rows x 7 columns]"
      ]
     },
     "execution_count": 112,
>>>>>>> Stashed changes
     "metadata": {},
     "output_type": "execute_result"
    }
   ],
   "source": [
    "df_model"
   ]
  },
  {
   "cell_type": "code",
<<<<<<< Updated upstream
   "execution_count": 296,
   "id": "884969f3-3f30-47b0-a681-ba652289c2bd",
   "metadata": {},
   "outputs": [
    {
     "data": {
      "image/png": "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\n",
      "text/plain": [
       "<Figure size 432x288 with 1 Axes>"
      ]
     },
     "metadata": {
      "needs_background": "light"
     },
     "output_type": "display_data"
    }
   ],
   "source": [
    "import matplotlib.pyplot as plt\n",
    "plt.hist(df_model['Salary Estimate'], bins=30, alpha=0.5);"
   ]
  },
  {
   "cell_type": "code",
   "execution_count": 300,
   "id": "47c1dce1-0018-4842-b07c-e797d58bf34c",
   "metadata": {},
   "outputs": [],
   "source": [
    "df_model = df_model[df_model['Salary Estimate']<550000]"
   ]
  },
  {
   "cell_type": "code",
   "execution_count": null,
   "id": "96ec2c3b-edb2-451a-a316-260d6d8c2c3a",
   "metadata": {},
   "outputs": [],
   "source": []
  },
  {
   "cell_type": "code",
   "execution_count": 301,
=======
   "execution_count": 113,
>>>>>>> Stashed changes
   "id": "0b6abcaf-3058-4dee-ad7c-4dc4c0672d9a",
   "metadata": {},
   "outputs": [],
   "source": [
    "df_dum = pd.get_dummies(df_model)\n",
    "\n",
    "# train test split \n",
    "# from sklearn.model_selection import train_test_split"
   ]
  },
  {
   "cell_type": "code",
<<<<<<< Updated upstream
   "execution_count": 302,
=======
   "execution_count": 114,
>>>>>>> Stashed changes
   "id": "b4b9e41b-92c1-40ae-a553-91abcbef0498",
   "metadata": {},
   "outputs": [],
   "source": [
<<<<<<< Updated upstream
    "salary = df_dum['Salary Estimate']/1000\n",
=======
    "salary = df_dum['Salary Estimate']\n",
>>>>>>> Stashed changes
    "\n",
    "df_dum.drop('Salary Estimate', axis=1, inplace=True)\n",
    "df_dum = pd.concat([df_dum, salary], axis=1)"
   ]
  },
  {
   "cell_type": "code",
<<<<<<< Updated upstream
   "execution_count": 303,
=======
   "execution_count": 115,
>>>>>>> Stashed changes
   "id": "cf0f261b-deba-4a06-bc00-b3da6d6552cc",
   "metadata": {},
   "outputs": [
    {
     "data": {
      "text/plain": [
<<<<<<< Updated upstream
       "Index(['Rating', 'Vader', 'Size_1 - 50', 'Size_10000+', 'Size_1001 - 5000',\n",
       "       'Size_201 - 500', 'Size_5001 - 10000', 'Size_501 - 1000',\n",
       "       'Size_51 - 200', 'Industry_Accounting & Tax',\n",
=======
       "Index(['Rating', 'Size_1 - 50', 'Size_10000+', 'Size_1001 - 5000',\n",
       "       'Size_201 - 500', 'Size_5001 - 10000', 'Size_501 - 1000',\n",
       "       'Size_51 - 200', 'Industry_Accounting & Tax',\n",
       "       'Industry_Advertising & Public Relations',\n",
>>>>>>> Stashed changes
       "       ...\n",
       "       'Job State_WI', 'Job State_WV', 'Job Simplified_analyst',\n",
       "       'Job Simplified_data architect', 'Job Simplified_data engineer',\n",
       "       'Job Simplified_data scientist', 'Job Simplified_mle',\n",
       "       'Job Simplified_research scientist', 'Job Simplified_statistician',\n",
       "       'Salary Estimate'],\n",
<<<<<<< Updated upstream
       "      dtype='object', length=165)"
      ]
     },
     "execution_count": 303,
=======
       "      dtype='object', length=166)"
      ]
     },
     "execution_count": 115,
>>>>>>> Stashed changes
     "metadata": {},
     "output_type": "execute_result"
    }
   ],
   "source": [
    "df_dum.columns"
   ]
  },
  {
   "cell_type": "code",
<<<<<<< Updated upstream
   "execution_count": 304,
=======
   "execution_count": 116,
>>>>>>> Stashed changes
   "id": "5fc6f14c-36c4-432b-b615-d98356139625",
   "metadata": {},
   "outputs": [],
   "source": [
    "from sklearn.model_selection import train_test_split"
   ]
  },
  {
   "cell_type": "code",
<<<<<<< Updated upstream
   "execution_count": 305,
=======
   "execution_count": 117,
>>>>>>> Stashed changes
   "id": "a4151b79-df4e-4b5f-956b-22bcdabd2adc",
   "metadata": {},
   "outputs": [
    {
     "data": {
      "text/html": [
       "<div>\n",
       "<style scoped>\n",
       "    .dataframe tbody tr th:only-of-type {\n",
       "        vertical-align: middle;\n",
       "    }\n",
       "\n",
       "    .dataframe tbody tr th {\n",
       "        vertical-align: top;\n",
       "    }\n",
       "\n",
       "    .dataframe thead th {\n",
       "        text-align: right;\n",
       "    }\n",
       "</style>\n",
       "<table border=\"1\" class=\"dataframe\">\n",
       "  <thead>\n",
       "    <tr style=\"text-align: right;\">\n",
       "      <th></th>\n",
       "      <th>Rating</th>\n",
<<<<<<< Updated upstream
       "      <th>Vader</th>\n",
=======
>>>>>>> Stashed changes
       "      <th>Size_1 - 50</th>\n",
       "      <th>Size_10000+</th>\n",
       "      <th>Size_1001 - 5000</th>\n",
       "      <th>Size_201 - 500</th>\n",
       "      <th>Size_5001 - 10000</th>\n",
       "      <th>Size_501 - 1000</th>\n",
       "      <th>Size_51 - 200</th>\n",
       "      <th>Industry_Accounting &amp; Tax</th>\n",
<<<<<<< Updated upstream
=======
       "      <th>Industry_Advertising &amp; Public Relations</th>\n",
>>>>>>> Stashed changes
       "      <th>...</th>\n",
       "      <th>Job State_WI</th>\n",
       "      <th>Job State_WV</th>\n",
       "      <th>Job Simplified_analyst</th>\n",
       "      <th>Job Simplified_data architect</th>\n",
       "      <th>Job Simplified_data engineer</th>\n",
       "      <th>Job Simplified_data scientist</th>\n",
       "      <th>Job Simplified_mle</th>\n",
       "      <th>Job Simplified_research scientist</th>\n",
       "      <th>Job Simplified_statistician</th>\n",
       "      <th>Salary Estimate</th>\n",
       "    </tr>\n",
       "  </thead>\n",
       "  <tbody>\n",
       "    <tr>\n",
       "      <th>2</th>\n",
       "      <td>3.1</td>\n",
<<<<<<< Updated upstream
       "      <td>0.52</td>\n",
=======
>>>>>>> Stashed changes
       "      <td>0</td>\n",
       "      <td>1</td>\n",
       "      <td>0</td>\n",
       "      <td>0</td>\n",
       "      <td>0</td>\n",
       "      <td>0</td>\n",
       "      <td>0</td>\n",
       "      <td>0</td>\n",
<<<<<<< Updated upstream
=======
       "      <td>0</td>\n",
>>>>>>> Stashed changes
       "      <td>...</td>\n",
       "      <td>0</td>\n",
       "      <td>0</td>\n",
       "      <td>0</td>\n",
       "      <td>0</td>\n",
       "      <td>0</td>\n",
       "      <td>0</td>\n",
       "      <td>1</td>\n",
       "      <td>0</td>\n",
       "      <td>0</td>\n",
       "      <td>129.163</td>\n",
       "    </tr>\n",
       "    <tr>\n",
       "      <th>4</th>\n",
       "      <td>3.7</td>\n",
<<<<<<< Updated upstream
       "      <td>0.19</td>\n",
=======
>>>>>>> Stashed changes
       "      <td>0</td>\n",
       "      <td>1</td>\n",
       "      <td>0</td>\n",
       "      <td>0</td>\n",
       "      <td>0</td>\n",
       "      <td>0</td>\n",
       "      <td>0</td>\n",
       "      <td>0</td>\n",
<<<<<<< Updated upstream
=======
       "      <td>0</td>\n",
>>>>>>> Stashed changes
       "      <td>...</td>\n",
       "      <td>0</td>\n",
       "      <td>0</td>\n",
       "      <td>0</td>\n",
       "      <td>0</td>\n",
       "      <td>0</td>\n",
       "      <td>0</td>\n",
       "      <td>1</td>\n",
       "      <td>0</td>\n",
       "      <td>0</td>\n",
       "      <td>112.751</td>\n",
       "    </tr>\n",
       "    <tr>\n",
<<<<<<< Updated upstream
       "      <th>5</th>\n",
       "      <td>3.7</td>\n",
       "      <td>0.82</td>\n",
=======
       "      <th>6</th>\n",
       "      <td>3.7</td>\n",
>>>>>>> Stashed changes
       "      <td>0</td>\n",
       "      <td>0</td>\n",
       "      <td>1</td>\n",
       "      <td>0</td>\n",
       "      <td>0</td>\n",
       "      <td>0</td>\n",
       "      <td>0</td>\n",
       "      <td>0</td>\n",
<<<<<<< Updated upstream
=======
       "      <td>0</td>\n",
>>>>>>> Stashed changes
       "      <td>...</td>\n",
       "      <td>0</td>\n",
       "      <td>0</td>\n",
       "      <td>0</td>\n",
       "      <td>0</td>\n",
       "      <td>0</td>\n",
       "      <td>1</td>\n",
       "      <td>0</td>\n",
       "      <td>0</td>\n",
       "      <td>0</td>\n",
       "      <td>86.585</td>\n",
       "    </tr>\n",
       "    <tr>\n",
<<<<<<< Updated upstream
       "      <th>7</th>\n",
       "      <td>3.9</td>\n",
       "      <td>0.18</td>\n",
=======
       "      <th>8</th>\n",
       "      <td>3.9</td>\n",
>>>>>>> Stashed changes
       "      <td>0</td>\n",
       "      <td>0</td>\n",
       "      <td>1</td>\n",
       "      <td>0</td>\n",
       "      <td>0</td>\n",
       "      <td>0</td>\n",
       "      <td>0</td>\n",
       "      <td>0</td>\n",
<<<<<<< Updated upstream
=======
       "      <td>0</td>\n",
>>>>>>> Stashed changes
       "      <td>...</td>\n",
       "      <td>0</td>\n",
       "      <td>0</td>\n",
       "      <td>1</td>\n",
       "      <td>0</td>\n",
       "      <td>0</td>\n",
       "      <td>0</td>\n",
       "      <td>0</td>\n",
       "      <td>0</td>\n",
       "      <td>0</td>\n",
       "      <td>77.143</td>\n",
       "    </tr>\n",
       "    <tr>\n",
<<<<<<< Updated upstream
       "      <th>8</th>\n",
       "      <td>3.2</td>\n",
       "      <td>0.51</td>\n",
=======
       "      <th>9</th>\n",
       "      <td>3.2</td>\n",
>>>>>>> Stashed changes
       "      <td>0</td>\n",
       "      <td>1</td>\n",
       "      <td>0</td>\n",
       "      <td>0</td>\n",
       "      <td>0</td>\n",
       "      <td>0</td>\n",
       "      <td>0</td>\n",
       "      <td>0</td>\n",
<<<<<<< Updated upstream
=======
       "      <td>0</td>\n",
>>>>>>> Stashed changes
       "      <td>...</td>\n",
       "      <td>0</td>\n",
       "      <td>0</td>\n",
       "      <td>0</td>\n",
       "      <td>0</td>\n",
       "      <td>0</td>\n",
       "      <td>1</td>\n",
       "      <td>0</td>\n",
       "      <td>0</td>\n",
       "      <td>0</td>\n",
       "      <td>98.663</td>\n",
       "    </tr>\n",
       "    <tr>\n",
       "      <th>...</th>\n",
       "      <td>...</td>\n",
       "      <td>...</td>\n",
       "      <td>...</td>\n",
       "      <td>...</td>\n",
       "      <td>...</td>\n",
       "      <td>...</td>\n",
       "      <td>...</td>\n",
       "      <td>...</td>\n",
       "      <td>...</td>\n",
       "      <td>...</td>\n",
       "      <td>...</td>\n",
       "      <td>...</td>\n",
       "      <td>...</td>\n",
       "      <td>...</td>\n",
       "      <td>...</td>\n",
       "      <td>...</td>\n",
       "      <td>...</td>\n",
       "      <td>...</td>\n",
       "      <td>...</td>\n",
       "      <td>...</td>\n",
       "      <td>...</td>\n",
       "    </tr>\n",
       "    <tr>\n",
<<<<<<< Updated upstream
       "      <th>946</th>\n",
       "      <td>4.2</td>\n",
       "      <td>0.49</td>\n",
=======
       "      <th>1376</th>\n",
       "      <td>4.2</td>\n",
>>>>>>> Stashed changes
       "      <td>0</td>\n",
       "      <td>0</td>\n",
       "      <td>0</td>\n",
       "      <td>1</td>\n",
       "      <td>0</td>\n",
       "      <td>0</td>\n",
       "      <td>0</td>\n",
       "      <td>0</td>\n",
<<<<<<< Updated upstream
=======
       "      <td>0</td>\n",
>>>>>>> Stashed changes
       "      <td>...</td>\n",
       "      <td>0</td>\n",
       "      <td>0</td>\n",
       "      <td>0</td>\n",
       "      <td>0</td>\n",
       "      <td>0</td>\n",
       "      <td>1</td>\n",
       "      <td>0</td>\n",
       "      <td>0</td>\n",
       "      <td>0</td>\n",
       "      <td>149.166</td>\n",
       "    </tr>\n",
       "    <tr>\n",
<<<<<<< Updated upstream
       "      <th>947</th>\n",
       "      <td>4.2</td>\n",
       "      <td>0.11</td>\n",
=======
       "      <th>1377</th>\n",
       "      <td>4.2</td>\n",
>>>>>>> Stashed changes
       "      <td>0</td>\n",
       "      <td>0</td>\n",
       "      <td>0</td>\n",
       "      <td>0</td>\n",
       "      <td>0</td>\n",
       "      <td>0</td>\n",
       "      <td>1</td>\n",
       "      <td>0</td>\n",
<<<<<<< Updated upstream
=======
       "      <td>0</td>\n",
>>>>>>> Stashed changes
       "      <td>...</td>\n",
       "      <td>0</td>\n",
       "      <td>0</td>\n",
       "      <td>0</td>\n",
       "      <td>0</td>\n",
       "      <td>0</td>\n",
       "      <td>0</td>\n",
       "      <td>1</td>\n",
       "      <td>0</td>\n",
       "      <td>0</td>\n",
       "      <td>99.950</td>\n",
       "    </tr>\n",
       "    <tr>\n",
<<<<<<< Updated upstream
       "      <th>948</th>\n",
       "      <td>4.1</td>\n",
       "      <td>0.53</td>\n",
=======
       "      <th>1383</th>\n",
       "      <td>4.1</td>\n",
>>>>>>> Stashed changes
       "      <td>0</td>\n",
       "      <td>1</td>\n",
       "      <td>0</td>\n",
       "      <td>0</td>\n",
       "      <td>0</td>\n",
       "      <td>0</td>\n",
       "      <td>0</td>\n",
       "      <td>0</td>\n",
<<<<<<< Updated upstream
=======
       "      <td>0</td>\n",
>>>>>>> Stashed changes
       "      <td>...</td>\n",
       "      <td>0</td>\n",
       "      <td>0</td>\n",
       "      <td>0</td>\n",
       "      <td>0</td>\n",
       "      <td>0</td>\n",
       "      <td>1</td>\n",
       "      <td>0</td>\n",
       "      <td>0</td>\n",
       "      <td>0</td>\n",
       "      <td>125.000</td>\n",
       "    </tr>\n",
       "    <tr>\n",
<<<<<<< Updated upstream
       "      <th>949</th>\n",
       "      <td>3.6</td>\n",
       "      <td>0.34</td>\n",
=======
       "      <th>1384</th>\n",
       "      <td>3.6</td>\n",
>>>>>>> Stashed changes
       "      <td>0</td>\n",
       "      <td>0</td>\n",
       "      <td>0</td>\n",
       "      <td>0</td>\n",
       "      <td>0</td>\n",
       "      <td>1</td>\n",
       "      <td>0</td>\n",
       "      <td>0</td>\n",
<<<<<<< Updated upstream
=======
       "      <td>0</td>\n",
>>>>>>> Stashed changes
       "      <td>...</td>\n",
       "      <td>0</td>\n",
       "      <td>0</td>\n",
       "      <td>0</td>\n",
       "      <td>0</td>\n",
       "      <td>0</td>\n",
       "      <td>1</td>\n",
       "      <td>0</td>\n",
       "      <td>0</td>\n",
       "      <td>0</td>\n",
       "      <td>110.100</td>\n",
       "    </tr>\n",
       "    <tr>\n",
<<<<<<< Updated upstream
       "      <th>950</th>\n",
       "      <td>4.3</td>\n",
       "      <td>0.40</td>\n",
=======
       "      <th>1388</th>\n",
       "      <td>4.3</td>\n",
>>>>>>> Stashed changes
       "      <td>0</td>\n",
       "      <td>0</td>\n",
       "      <td>0</td>\n",
       "      <td>0</td>\n",
       "      <td>1</td>\n",
       "      <td>0</td>\n",
       "      <td>0</td>\n",
       "      <td>0</td>\n",
<<<<<<< Updated upstream
=======
       "      <td>0</td>\n",
>>>>>>> Stashed changes
       "      <td>...</td>\n",
       "      <td>0</td>\n",
       "      <td>0</td>\n",
       "      <td>0</td>\n",
       "      <td>0</td>\n",
       "      <td>0</td>\n",
       "      <td>1</td>\n",
       "      <td>0</td>\n",
       "      <td>0</td>\n",
       "      <td>0</td>\n",
       "      <td>104.957</td>\n",
       "    </tr>\n",
       "  </tbody>\n",
       "</table>\n",
<<<<<<< Updated upstream
       "<p>682 rows × 165 columns</p>\n",
       "</div>"
      ],
      "text/plain": [
       "     Rating  Vader  Size_1 - 50  Size_10000+  Size_1001 - 5000  \\\n",
       "2       3.1   0.52            0            1                 0   \n",
       "4       3.7   0.19            0            1                 0   \n",
       "5       3.7   0.82            0            0                 1   \n",
       "7       3.9   0.18            0            0                 1   \n",
       "8       3.2   0.51            0            1                 0   \n",
       "..      ...    ...          ...          ...               ...   \n",
       "946     4.2   0.49            0            0                 0   \n",
       "947     4.2   0.11            0            0                 0   \n",
       "948     4.1   0.53            0            1                 0   \n",
       "949     3.6   0.34            0            0                 0   \n",
       "950     4.3   0.40            0            0                 0   \n",
       "\n",
       "     Size_201 - 500  Size_5001 - 10000  Size_501 - 1000  Size_51 - 200  \\\n",
       "2                 0                  0                0              0   \n",
       "4                 0                  0                0              0   \n",
       "5                 0                  0                0              0   \n",
       "7                 0                  0                0              0   \n",
       "8                 0                  0                0              0   \n",
       "..              ...                ...              ...            ...   \n",
       "946               1                  0                0              0   \n",
       "947               0                  0                0              1   \n",
       "948               0                  0                0              0   \n",
       "949               0                  0                1              0   \n",
       "950               0                  1                0              0   \n",
       "\n",
       "     Industry_Accounting & Tax  ...  Job State_WI  Job State_WV  \\\n",
       "2                            0  ...             0             0   \n",
       "4                            0  ...             0             0   \n",
       "5                            0  ...             0             0   \n",
       "7                            0  ...             0             0   \n",
       "8                            0  ...             0             0   \n",
       "..                         ...  ...           ...           ...   \n",
       "946                          0  ...             0             0   \n",
       "947                          0  ...             0             0   \n",
       "948                          0  ...             0             0   \n",
       "949                          0  ...             0             0   \n",
       "950                          0  ...             0             0   \n",
       "\n",
       "     Job Simplified_analyst  Job Simplified_data architect  \\\n",
       "2                         0                              0   \n",
       "4                         0                              0   \n",
       "5                         0                              0   \n",
       "7                         1                              0   \n",
       "8                         0                              0   \n",
       "..                      ...                            ...   \n",
       "946                       0                              0   \n",
       "947                       0                              0   \n",
       "948                       0                              0   \n",
       "949                       0                              0   \n",
       "950                       0                              0   \n",
       "\n",
       "     Job Simplified_data engineer  Job Simplified_data scientist  \\\n",
       "2                               0                              0   \n",
       "4                               0                              0   \n",
       "5                               0                              1   \n",
       "7                               0                              0   \n",
       "8                               0                              1   \n",
       "..                            ...                            ...   \n",
       "946                             0                              1   \n",
       "947                             0                              0   \n",
       "948                             0                              1   \n",
       "949                             0                              1   \n",
       "950                             0                              1   \n",
       "\n",
       "     Job Simplified_mle  Job Simplified_research scientist  \\\n",
       "2                     1                                  0   \n",
       "4                     1                                  0   \n",
       "5                     0                                  0   \n",
       "7                     0                                  0   \n",
       "8                     0                                  0   \n",
       "..                  ...                                ...   \n",
       "946                   0                                  0   \n",
       "947                   1                                  0   \n",
       "948                   0                                  0   \n",
       "949                   0                                  0   \n",
       "950                   0                                  0   \n",
       "\n",
       "     Job Simplified_statistician  Salary Estimate  \n",
       "2                              0          129.163  \n",
       "4                              0          112.751  \n",
       "5                              0           86.585  \n",
       "7                              0           77.143  \n",
       "8                              0           98.663  \n",
       "..                           ...              ...  \n",
       "946                            0          149.166  \n",
       "947                            0           99.950  \n",
       "948                            0          125.000  \n",
       "949                            0          110.100  \n",
       "950                            0          104.957  \n",
       "\n",
       "[682 rows x 165 columns]"
      ]
     },
     "execution_count": 305,
=======
       "<p>710 rows × 166 columns</p>\n",
       "</div>"
      ],
      "text/plain": [
       "      Rating  Size_1 - 50  Size_10000+  Size_1001 - 5000  Size_201 - 500  \\\n",
       "2        3.1            0            1                 0               0   \n",
       "4        3.7            0            1                 0               0   \n",
       "6        3.7            0            0                 1               0   \n",
       "8        3.9            0            0                 1               0   \n",
       "9        3.2            0            1                 0               0   \n",
       "...      ...          ...          ...               ...             ...   \n",
       "1376     4.2            0            0                 0               1   \n",
       "1377     4.2            0            0                 0               0   \n",
       "1383     4.1            0            1                 0               0   \n",
       "1384     3.6            0            0                 0               0   \n",
       "1388     4.3            0            0                 0               0   \n",
       "\n",
       "      Size_5001 - 10000  Size_501 - 1000  Size_51 - 200  \\\n",
       "2                     0                0              0   \n",
       "4                     0                0              0   \n",
       "6                     0                0              0   \n",
       "8                     0                0              0   \n",
       "9                     0                0              0   \n",
       "...                 ...              ...            ...   \n",
       "1376                  0                0              0   \n",
       "1377                  0                0              1   \n",
       "1383                  0                0              0   \n",
       "1384                  0                1              0   \n",
       "1388                  1                0              0   \n",
       "\n",
       "      Industry_Accounting & Tax  Industry_Advertising & Public Relations  ...  \\\n",
       "2                             0                                        0  ...   \n",
       "4                             0                                        0  ...   \n",
       "6                             0                                        0  ...   \n",
       "8                             0                                        0  ...   \n",
       "9                             0                                        0  ...   \n",
       "...                         ...                                      ...  ...   \n",
       "1376                          0                                        0  ...   \n",
       "1377                          0                                        0  ...   \n",
       "1383                          0                                        0  ...   \n",
       "1384                          0                                        0  ...   \n",
       "1388                          0                                        0  ...   \n",
       "\n",
       "      Job State_WI  Job State_WV  Job Simplified_analyst  \\\n",
       "2                0             0                       0   \n",
       "4                0             0                       0   \n",
       "6                0             0                       0   \n",
       "8                0             0                       1   \n",
       "9                0             0                       0   \n",
       "...            ...           ...                     ...   \n",
       "1376             0             0                       0   \n",
       "1377             0             0                       0   \n",
       "1383             0             0                       0   \n",
       "1384             0             0                       0   \n",
       "1388             0             0                       0   \n",
       "\n",
       "      Job Simplified_data architect  Job Simplified_data engineer  \\\n",
       "2                                 0                             0   \n",
       "4                                 0                             0   \n",
       "6                                 0                             0   \n",
       "8                                 0                             0   \n",
       "9                                 0                             0   \n",
       "...                             ...                           ...   \n",
       "1376                              0                             0   \n",
       "1377                              0                             0   \n",
       "1383                              0                             0   \n",
       "1384                              0                             0   \n",
       "1388                              0                             0   \n",
       "\n",
       "      Job Simplified_data scientist  Job Simplified_mle  \\\n",
       "2                                 0                   1   \n",
       "4                                 0                   1   \n",
       "6                                 1                   0   \n",
       "8                                 0                   0   \n",
       "9                                 1                   0   \n",
       "...                             ...                 ...   \n",
       "1376                              1                   0   \n",
       "1377                              0                   1   \n",
       "1383                              1                   0   \n",
       "1384                              1                   0   \n",
       "1388                              1                   0   \n",
       "\n",
       "      Job Simplified_research scientist  Job Simplified_statistician  \\\n",
       "2                                     0                            0   \n",
       "4                                     0                            0   \n",
       "6                                     0                            0   \n",
       "8                                     0                            0   \n",
       "9                                     0                            0   \n",
       "...                                 ...                          ...   \n",
       "1376                                  0                            0   \n",
       "1377                                  0                            0   \n",
       "1383                                  0                            0   \n",
       "1384                                  0                            0   \n",
       "1388                                  0                            0   \n",
       "\n",
       "      Salary Estimate  \n",
       "2             129.163  \n",
       "4             112.751  \n",
       "6              86.585  \n",
       "8              77.143  \n",
       "9              98.663  \n",
       "...               ...  \n",
       "1376          149.166  \n",
       "1377           99.950  \n",
       "1383          125.000  \n",
       "1384          110.100  \n",
       "1388          104.957  \n",
       "\n",
       "[710 rows x 166 columns]"
      ]
     },
     "execution_count": 117,
>>>>>>> Stashed changes
     "metadata": {},
     "output_type": "execute_result"
    }
   ],
   "source": [
    "df_dum"
   ]
  },
  {
<<<<<<< Updated upstream
   "cell_type": "code",
   "execution_count": null,
   "id": "2ed19ff4-de78-41d8-9922-49c40ef2be0c",
   "metadata": {},
   "outputs": [],
   "source": []
  },
  {
   "cell_type": "code",
   "execution_count": null,
   "id": "638b547c-e6f8-4f3b-ba20-e8d923727d2e",
   "metadata": {},
   "outputs": [],
   "source": []
  },
  {
   "cell_type": "markdown",
   "id": "68069998-f5c8-448a-bb64-e75dabd19def",
   "metadata": {
    "tags": []
   },
=======
   "cell_type": "markdown",
   "id": "68069998-f5c8-448a-bb64-e75dabd19def",
   "metadata": {},
>>>>>>> Stashed changes
   "source": [
    "### Run the models on combined dataset, accuracy became worse -29.82640436652036"
   ]
  },
  {
   "cell_type": "code",
<<<<<<< Updated upstream
   "execution_count": 306,
=======
   "execution_count": 121,
>>>>>>> Stashed changes
   "id": "cf10adb8-efa2-4a7c-87aa-fed8a5612751",
   "metadata": {},
   "outputs": [
    {
     "data": {
      "text/plain": [
<<<<<<< Updated upstream
       "457     93.273\n",
       "801     65.000\n",
       "416     73.651\n",
       "527    111.196\n",
       "833     95.000\n",
       "        ...   \n",
       "145    145.000\n",
       "528     98.517\n",
       "718     76.922\n",
       "100    156.900\n",
       "901    114.545\n",
       "Name: Salary Estimate, Length: 545, dtype: float64"
      ]
     },
     "execution_count": 306,
=======
       "451      98.800\n",
       "294      98.565\n",
       "614     120.000\n",
       "425      89.338\n",
       "1195    603.200\n",
       "         ...   \n",
       "762     884.000\n",
       "1211    108.000\n",
       "470     100.020\n",
       "1278    148.500\n",
       "370     103.554\n",
       "Name: Salary Estimate, Length: 497, dtype: float64"
      ]
     },
     "execution_count": 121,
>>>>>>> Stashed changes
     "metadata": {},
     "output_type": "execute_result"
    }
   ],
   "source": [
<<<<<<< Updated upstream
    "train, test = train_test_split(df_dum, test_size = 0.2)\n",
    "X_train = train.iloc[0:,:164]\n",
    "y_train = train.iloc[:,164]\n",
    "X_test = test.iloc[0:,:164]\n",
    "y_test = test.iloc[:,164]\n",
=======
    "train, test = train_test_split(df_dum, test_size = 0.3)\n",
    "X_train = train.iloc[0:,:165]\n",
    "y_train = train.iloc[:,165]\n",
    "X_test = test.iloc[0:,:165]\n",
    "y_test = test.iloc[:,165]\n",
>>>>>>> Stashed changes
    "y_train"
   ]
  },
  {
   "cell_type": "markdown",
   "id": "8b8d4d8e-a21d-4650-843f-b39488afaa27",
   "metadata": {},
   "source": [
    "### Random Forest"
   ]
  },
  {
   "cell_type": "code",
<<<<<<< Updated upstream
   "execution_count": 307,
=======
   "execution_count": 122,
>>>>>>> Stashed changes
   "id": "891b30a4-c31d-4665-b720-6b742a65c32a",
   "metadata": {},
   "outputs": [
    {
     "data": {
      "text/plain": [
<<<<<<< Updated upstream
       "-21.40554585723055"
      ]
     },
     "execution_count": 307,
=======
       "-44.0448966316663"
      ]
     },
     "execution_count": 122,
>>>>>>> Stashed changes
     "metadata": {},
     "output_type": "execute_result"
    }
   ],
   "source": [
    "# random forest \n",
    "from sklearn.ensemble import RandomForestRegressor\n",
    "import numpy as np\n",
    "from sklearn.model_selection import cross_val_score\n",
    "\n",
    "rf = RandomForestRegressor()\n",
    "\n",
    "np.mean(cross_val_score(rf,X_train,y_train,scoring = 'neg_mean_absolute_error', cv=3))"
   ]
  },
  {
   "cell_type": "code",
<<<<<<< Updated upstream
   "execution_count": 308,
=======
   "execution_count": 123,
>>>>>>> Stashed changes
   "id": "d09a58ef-bf33-4748-aa33-70872a63af26",
   "metadata": {},
   "outputs": [
    {
     "data": {
      "text/html": [
<<<<<<< Updated upstream
       "<style>#sk-container-id-11 {color: black;background-color: white;}#sk-container-id-11 pre{padding: 0;}#sk-container-id-11 div.sk-toggleable {background-color: white;}#sk-container-id-11 label.sk-toggleable__label {cursor: pointer;display: block;width: 100%;margin-bottom: 0;padding: 0.3em;box-sizing: border-box;text-align: center;}#sk-container-id-11 label.sk-toggleable__label-arrow:before {content: \"▸\";float: left;margin-right: 0.25em;color: #696969;}#sk-container-id-11 label.sk-toggleable__label-arrow:hover:before {color: black;}#sk-container-id-11 div.sk-estimator:hover label.sk-toggleable__label-arrow:before {color: black;}#sk-container-id-11 div.sk-toggleable__content {max-height: 0;max-width: 0;overflow: hidden;text-align: left;background-color: #f0f8ff;}#sk-container-id-11 div.sk-toggleable__content pre {margin: 0.2em;color: black;border-radius: 0.25em;background-color: #f0f8ff;}#sk-container-id-11 input.sk-toggleable__control:checked~div.sk-toggleable__content {max-height: 200px;max-width: 100%;overflow: auto;}#sk-container-id-11 input.sk-toggleable__control:checked~label.sk-toggleable__label-arrow:before {content: \"▾\";}#sk-container-id-11 div.sk-estimator input.sk-toggleable__control:checked~label.sk-toggleable__label {background-color: #d4ebff;}#sk-container-id-11 div.sk-label input.sk-toggleable__control:checked~label.sk-toggleable__label {background-color: #d4ebff;}#sk-container-id-11 input.sk-hidden--visually {border: 0;clip: rect(1px 1px 1px 1px);clip: rect(1px, 1px, 1px, 1px);height: 1px;margin: -1px;overflow: hidden;padding: 0;position: absolute;width: 1px;}#sk-container-id-11 div.sk-estimator {font-family: monospace;background-color: #f0f8ff;border: 1px dotted black;border-radius: 0.25em;box-sizing: border-box;margin-bottom: 0.5em;}#sk-container-id-11 div.sk-estimator:hover {background-color: #d4ebff;}#sk-container-id-11 div.sk-parallel-item::after {content: \"\";width: 100%;border-bottom: 1px solid gray;flex-grow: 1;}#sk-container-id-11 div.sk-label:hover label.sk-toggleable__label {background-color: #d4ebff;}#sk-container-id-11 div.sk-serial::before {content: \"\";position: absolute;border-left: 1px solid gray;box-sizing: border-box;top: 0;bottom: 0;left: 50%;z-index: 0;}#sk-container-id-11 div.sk-serial {display: flex;flex-direction: column;align-items: center;background-color: white;padding-right: 0.2em;padding-left: 0.2em;position: relative;}#sk-container-id-11 div.sk-item {position: relative;z-index: 1;}#sk-container-id-11 div.sk-parallel {display: flex;align-items: stretch;justify-content: center;background-color: white;position: relative;}#sk-container-id-11 div.sk-item::before, #sk-container-id-11 div.sk-parallel-item::before {content: \"\";position: absolute;border-left: 1px solid gray;box-sizing: border-box;top: 0;bottom: 0;left: 50%;z-index: -1;}#sk-container-id-11 div.sk-parallel-item {display: flex;flex-direction: column;z-index: 1;position: relative;background-color: white;}#sk-container-id-11 div.sk-parallel-item:first-child::after {align-self: flex-end;width: 50%;}#sk-container-id-11 div.sk-parallel-item:last-child::after {align-self: flex-start;width: 50%;}#sk-container-id-11 div.sk-parallel-item:only-child::after {width: 0;}#sk-container-id-11 div.sk-dashed-wrapped {border: 1px dashed gray;margin: 0 0.4em 0.5em 0.4em;box-sizing: border-box;padding-bottom: 0.4em;background-color: white;}#sk-container-id-11 div.sk-label label {font-family: monospace;font-weight: bold;display: inline-block;line-height: 1.2em;}#sk-container-id-11 div.sk-label-container {text-align: center;}#sk-container-id-11 div.sk-container {/* jupyter's `normalize.less` sets `[hidden] { display: none; }` but bootstrap.min.css set `[hidden] { display: none !important; }` so we also need the `!important` here to be able to override the default hidden behavior on the sphinx rendered scikit-learn.org. See: https://github.com/scikit-learn/scikit-learn/issues/21755 */display: inline-block !important;position: relative;}#sk-container-id-11 div.sk-text-repr-fallback {display: none;}</style><div id=\"sk-container-id-11\" class=\"sk-top-container\"><div class=\"sk-text-repr-fallback\"><pre>RandomForestRegressor()</pre><b>In a Jupyter environment, please rerun this cell to show the HTML representation or trust the notebook. <br />On GitHub, the HTML representation is unable to render, please try loading this page with nbviewer.org.</b></div><div class=\"sk-container\" hidden><div class=\"sk-item\"><div class=\"sk-estimator sk-toggleable\"><input class=\"sk-toggleable__control sk-hidden--visually\" id=\"sk-estimator-id-11\" type=\"checkbox\" checked><label for=\"sk-estimator-id-11\" class=\"sk-toggleable__label sk-toggleable__label-arrow\">RandomForestRegressor</label><div class=\"sk-toggleable__content\"><pre>RandomForestRegressor()</pre></div></div></div></div></div>"
=======
       "<style>#sk-container-id-4 {color: black;background-color: white;}#sk-container-id-4 pre{padding: 0;}#sk-container-id-4 div.sk-toggleable {background-color: white;}#sk-container-id-4 label.sk-toggleable__label {cursor: pointer;display: block;width: 100%;margin-bottom: 0;padding: 0.3em;box-sizing: border-box;text-align: center;}#sk-container-id-4 label.sk-toggleable__label-arrow:before {content: \"▸\";float: left;margin-right: 0.25em;color: #696969;}#sk-container-id-4 label.sk-toggleable__label-arrow:hover:before {color: black;}#sk-container-id-4 div.sk-estimator:hover label.sk-toggleable__label-arrow:before {color: black;}#sk-container-id-4 div.sk-toggleable__content {max-height: 0;max-width: 0;overflow: hidden;text-align: left;background-color: #f0f8ff;}#sk-container-id-4 div.sk-toggleable__content pre {margin: 0.2em;color: black;border-radius: 0.25em;background-color: #f0f8ff;}#sk-container-id-4 input.sk-toggleable__control:checked~div.sk-toggleable__content {max-height: 200px;max-width: 100%;overflow: auto;}#sk-container-id-4 input.sk-toggleable__control:checked~label.sk-toggleable__label-arrow:before {content: \"▾\";}#sk-container-id-4 div.sk-estimator input.sk-toggleable__control:checked~label.sk-toggleable__label {background-color: #d4ebff;}#sk-container-id-4 div.sk-label input.sk-toggleable__control:checked~label.sk-toggleable__label {background-color: #d4ebff;}#sk-container-id-4 input.sk-hidden--visually {border: 0;clip: rect(1px 1px 1px 1px);clip: rect(1px, 1px, 1px, 1px);height: 1px;margin: -1px;overflow: hidden;padding: 0;position: absolute;width: 1px;}#sk-container-id-4 div.sk-estimator {font-family: monospace;background-color: #f0f8ff;border: 1px dotted black;border-radius: 0.25em;box-sizing: border-box;margin-bottom: 0.5em;}#sk-container-id-4 div.sk-estimator:hover {background-color: #d4ebff;}#sk-container-id-4 div.sk-parallel-item::after {content: \"\";width: 100%;border-bottom: 1px solid gray;flex-grow: 1;}#sk-container-id-4 div.sk-label:hover label.sk-toggleable__label {background-color: #d4ebff;}#sk-container-id-4 div.sk-serial::before {content: \"\";position: absolute;border-left: 1px solid gray;box-sizing: border-box;top: 0;bottom: 0;left: 50%;z-index: 0;}#sk-container-id-4 div.sk-serial {display: flex;flex-direction: column;align-items: center;background-color: white;padding-right: 0.2em;padding-left: 0.2em;position: relative;}#sk-container-id-4 div.sk-item {position: relative;z-index: 1;}#sk-container-id-4 div.sk-parallel {display: flex;align-items: stretch;justify-content: center;background-color: white;position: relative;}#sk-container-id-4 div.sk-item::before, #sk-container-id-4 div.sk-parallel-item::before {content: \"\";position: absolute;border-left: 1px solid gray;box-sizing: border-box;top: 0;bottom: 0;left: 50%;z-index: -1;}#sk-container-id-4 div.sk-parallel-item {display: flex;flex-direction: column;z-index: 1;position: relative;background-color: white;}#sk-container-id-4 div.sk-parallel-item:first-child::after {align-self: flex-end;width: 50%;}#sk-container-id-4 div.sk-parallel-item:last-child::after {align-self: flex-start;width: 50%;}#sk-container-id-4 div.sk-parallel-item:only-child::after {width: 0;}#sk-container-id-4 div.sk-dashed-wrapped {border: 1px dashed gray;margin: 0 0.4em 0.5em 0.4em;box-sizing: border-box;padding-bottom: 0.4em;background-color: white;}#sk-container-id-4 div.sk-label label {font-family: monospace;font-weight: bold;display: inline-block;line-height: 1.2em;}#sk-container-id-4 div.sk-label-container {text-align: center;}#sk-container-id-4 div.sk-container {/* jupyter's `normalize.less` sets `[hidden] { display: none; }` but bootstrap.min.css set `[hidden] { display: none !important; }` so we also need the `!important` here to be able to override the default hidden behavior on the sphinx rendered scikit-learn.org. See: https://github.com/scikit-learn/scikit-learn/issues/21755 */display: inline-block !important;position: relative;}#sk-container-id-4 div.sk-text-repr-fallback {display: none;}</style><div id=\"sk-container-id-4\" class=\"sk-top-container\"><div class=\"sk-text-repr-fallback\"><pre>RandomForestRegressor()</pre><b>In a Jupyter environment, please rerun this cell to show the HTML representation or trust the notebook. <br />On GitHub, the HTML representation is unable to render, please try loading this page with nbviewer.org.</b></div><div class=\"sk-container\" hidden><div class=\"sk-item\"><div class=\"sk-estimator sk-toggleable\"><input class=\"sk-toggleable__control sk-hidden--visually\" id=\"sk-estimator-id-4\" type=\"checkbox\" checked><label for=\"sk-estimator-id-4\" class=\"sk-toggleable__label sk-toggleable__label-arrow\">RandomForestRegressor</label><div class=\"sk-toggleable__content\"><pre>RandomForestRegressor()</pre></div></div></div></div></div>"
>>>>>>> Stashed changes
      ],
      "text/plain": [
       "RandomForestRegressor()"
      ]
     },
<<<<<<< Updated upstream
     "execution_count": 308,
=======
     "execution_count": 123,
>>>>>>> Stashed changes
     "metadata": {},
     "output_type": "execute_result"
    }
   ],
   "source": [
    "rf.fit(X_train, y_train)"
   ]
  },
  {
   "cell_type": "code",
<<<<<<< Updated upstream
   "execution_count": 309,
=======
   "execution_count": 124,
>>>>>>> Stashed changes
   "id": "451bd5dd-c641-4a1b-9514-29dbfc21c554",
   "metadata": {
    "tags": []
   },
   "outputs": [],
   "source": [
    "feature_names = [key for key in df_dum if not key=='Salary Estimate']"
   ]
  },
  {
   "cell_type": "code",
<<<<<<< Updated upstream
   "execution_count": 310,
   "id": "29765ac9-ffa3-4763-aadd-1f7adcea4d6d",
   "metadata": {},
   "outputs": [
    {
     "data": {
      "text/html": [
       "<div>\n",
       "<style scoped>\n",
       "    .dataframe tbody tr th:only-of-type {\n",
       "        vertical-align: middle;\n",
       "    }\n",
       "\n",
       "    .dataframe tbody tr th {\n",
       "        vertical-align: top;\n",
       "    }\n",
       "\n",
       "    .dataframe thead th {\n",
       "        text-align: right;\n",
       "    }\n",
       "</style>\n",
       "<table border=\"1\" class=\"dataframe\">\n",
       "  <thead>\n",
       "    <tr style=\"text-align: right;\">\n",
       "      <th></th>\n",
       "      <th>Rating</th>\n",
       "      <th>Vader</th>\n",
       "      <th>Size_1 - 50</th>\n",
       "      <th>Size_10000+</th>\n",
       "      <th>Size_1001 - 5000</th>\n",
       "      <th>Size_201 - 500</th>\n",
       "      <th>Size_5001 - 10000</th>\n",
       "      <th>Size_501 - 1000</th>\n",
       "      <th>Size_51 - 200</th>\n",
       "      <th>Industry_Accounting &amp; Tax</th>\n",
       "      <th>...</th>\n",
       "      <th>Job State_WI</th>\n",
       "      <th>Job State_WV</th>\n",
       "      <th>Job Simplified_analyst</th>\n",
       "      <th>Job Simplified_data architect</th>\n",
       "      <th>Job Simplified_data engineer</th>\n",
       "      <th>Job Simplified_data scientist</th>\n",
       "      <th>Job Simplified_mle</th>\n",
       "      <th>Job Simplified_research scientist</th>\n",
       "      <th>Job Simplified_statistician</th>\n",
       "      <th>Salary Estimate</th>\n",
       "    </tr>\n",
       "  </thead>\n",
       "  <tbody>\n",
       "    <tr>\n",
       "      <th>2</th>\n",
       "      <td>3.1</td>\n",
       "      <td>0.52</td>\n",
       "      <td>0</td>\n",
       "      <td>1</td>\n",
       "      <td>0</td>\n",
       "      <td>0</td>\n",
       "      <td>0</td>\n",
       "      <td>0</td>\n",
       "      <td>0</td>\n",
       "      <td>0</td>\n",
       "      <td>...</td>\n",
       "      <td>0</td>\n",
       "      <td>0</td>\n",
       "      <td>0</td>\n",
       "      <td>0</td>\n",
       "      <td>0</td>\n",
       "      <td>0</td>\n",
       "      <td>1</td>\n",
       "      <td>0</td>\n",
       "      <td>0</td>\n",
       "      <td>129.163</td>\n",
       "    </tr>\n",
       "    <tr>\n",
       "      <th>4</th>\n",
       "      <td>3.7</td>\n",
       "      <td>0.19</td>\n",
       "      <td>0</td>\n",
       "      <td>1</td>\n",
       "      <td>0</td>\n",
       "      <td>0</td>\n",
       "      <td>0</td>\n",
       "      <td>0</td>\n",
       "      <td>0</td>\n",
       "      <td>0</td>\n",
       "      <td>...</td>\n",
       "      <td>0</td>\n",
       "      <td>0</td>\n",
       "      <td>0</td>\n",
       "      <td>0</td>\n",
       "      <td>0</td>\n",
       "      <td>0</td>\n",
       "      <td>1</td>\n",
       "      <td>0</td>\n",
       "      <td>0</td>\n",
       "      <td>112.751</td>\n",
       "    </tr>\n",
       "    <tr>\n",
       "      <th>5</th>\n",
       "      <td>3.7</td>\n",
       "      <td>0.82</td>\n",
       "      <td>0</td>\n",
       "      <td>0</td>\n",
       "      <td>1</td>\n",
       "      <td>0</td>\n",
       "      <td>0</td>\n",
       "      <td>0</td>\n",
       "      <td>0</td>\n",
       "      <td>0</td>\n",
       "      <td>...</td>\n",
       "      <td>0</td>\n",
       "      <td>0</td>\n",
       "      <td>0</td>\n",
       "      <td>0</td>\n",
       "      <td>0</td>\n",
       "      <td>1</td>\n",
       "      <td>0</td>\n",
       "      <td>0</td>\n",
       "      <td>0</td>\n",
       "      <td>86.585</td>\n",
       "    </tr>\n",
       "    <tr>\n",
       "      <th>7</th>\n",
       "      <td>3.9</td>\n",
       "      <td>0.18</td>\n",
       "      <td>0</td>\n",
       "      <td>0</td>\n",
       "      <td>1</td>\n",
       "      <td>0</td>\n",
       "      <td>0</td>\n",
       "      <td>0</td>\n",
       "      <td>0</td>\n",
       "      <td>0</td>\n",
       "      <td>...</td>\n",
       "      <td>0</td>\n",
       "      <td>0</td>\n",
       "      <td>1</td>\n",
       "      <td>0</td>\n",
       "      <td>0</td>\n",
       "      <td>0</td>\n",
       "      <td>0</td>\n",
       "      <td>0</td>\n",
       "      <td>0</td>\n",
       "      <td>77.143</td>\n",
       "    </tr>\n",
       "    <tr>\n",
       "      <th>8</th>\n",
       "      <td>3.2</td>\n",
       "      <td>0.51</td>\n",
       "      <td>0</td>\n",
       "      <td>1</td>\n",
       "      <td>0</td>\n",
       "      <td>0</td>\n",
       "      <td>0</td>\n",
       "      <td>0</td>\n",
       "      <td>0</td>\n",
       "      <td>0</td>\n",
       "      <td>...</td>\n",
       "      <td>0</td>\n",
       "      <td>0</td>\n",
       "      <td>0</td>\n",
       "      <td>0</td>\n",
       "      <td>0</td>\n",
       "      <td>1</td>\n",
       "      <td>0</td>\n",
       "      <td>0</td>\n",
       "      <td>0</td>\n",
       "      <td>98.663</td>\n",
       "    </tr>\n",
       "    <tr>\n",
       "      <th>...</th>\n",
       "      <td>...</td>\n",
       "      <td>...</td>\n",
       "      <td>...</td>\n",
       "      <td>...</td>\n",
       "      <td>...</td>\n",
       "      <td>...</td>\n",
       "      <td>...</td>\n",
       "      <td>...</td>\n",
       "      <td>...</td>\n",
       "      <td>...</td>\n",
       "      <td>...</td>\n",
       "      <td>...</td>\n",
       "      <td>...</td>\n",
       "      <td>...</td>\n",
       "      <td>...</td>\n",
       "      <td>...</td>\n",
       "      <td>...</td>\n",
       "      <td>...</td>\n",
       "      <td>...</td>\n",
       "      <td>...</td>\n",
       "      <td>...</td>\n",
       "    </tr>\n",
       "    <tr>\n",
       "      <th>946</th>\n",
       "      <td>4.2</td>\n",
       "      <td>0.49</td>\n",
       "      <td>0</td>\n",
       "      <td>0</td>\n",
       "      <td>0</td>\n",
       "      <td>1</td>\n",
       "      <td>0</td>\n",
       "      <td>0</td>\n",
       "      <td>0</td>\n",
       "      <td>0</td>\n",
       "      <td>...</td>\n",
       "      <td>0</td>\n",
       "      <td>0</td>\n",
       "      <td>0</td>\n",
       "      <td>0</td>\n",
       "      <td>0</td>\n",
       "      <td>1</td>\n",
       "      <td>0</td>\n",
       "      <td>0</td>\n",
       "      <td>0</td>\n",
       "      <td>149.166</td>\n",
       "    </tr>\n",
       "    <tr>\n",
       "      <th>947</th>\n",
       "      <td>4.2</td>\n",
       "      <td>0.11</td>\n",
       "      <td>0</td>\n",
       "      <td>0</td>\n",
       "      <td>0</td>\n",
       "      <td>0</td>\n",
       "      <td>0</td>\n",
       "      <td>0</td>\n",
       "      <td>1</td>\n",
       "      <td>0</td>\n",
       "      <td>...</td>\n",
       "      <td>0</td>\n",
       "      <td>0</td>\n",
       "      <td>0</td>\n",
       "      <td>0</td>\n",
       "      <td>0</td>\n",
       "      <td>0</td>\n",
       "      <td>1</td>\n",
       "      <td>0</td>\n",
       "      <td>0</td>\n",
       "      <td>99.950</td>\n",
       "    </tr>\n",
       "    <tr>\n",
       "      <th>948</th>\n",
       "      <td>4.1</td>\n",
       "      <td>0.53</td>\n",
       "      <td>0</td>\n",
       "      <td>1</td>\n",
       "      <td>0</td>\n",
       "      <td>0</td>\n",
       "      <td>0</td>\n",
       "      <td>0</td>\n",
       "      <td>0</td>\n",
       "      <td>0</td>\n",
       "      <td>...</td>\n",
       "      <td>0</td>\n",
       "      <td>0</td>\n",
       "      <td>0</td>\n",
       "      <td>0</td>\n",
       "      <td>0</td>\n",
       "      <td>1</td>\n",
       "      <td>0</td>\n",
       "      <td>0</td>\n",
       "      <td>0</td>\n",
       "      <td>125.000</td>\n",
       "    </tr>\n",
       "    <tr>\n",
       "      <th>949</th>\n",
       "      <td>3.6</td>\n",
       "      <td>0.34</td>\n",
       "      <td>0</td>\n",
       "      <td>0</td>\n",
       "      <td>0</td>\n",
       "      <td>0</td>\n",
       "      <td>0</td>\n",
       "      <td>1</td>\n",
       "      <td>0</td>\n",
       "      <td>0</td>\n",
       "      <td>...</td>\n",
       "      <td>0</td>\n",
       "      <td>0</td>\n",
       "      <td>0</td>\n",
       "      <td>0</td>\n",
       "      <td>0</td>\n",
       "      <td>1</td>\n",
       "      <td>0</td>\n",
       "      <td>0</td>\n",
       "      <td>0</td>\n",
       "      <td>110.100</td>\n",
       "    </tr>\n",
       "    <tr>\n",
       "      <th>950</th>\n",
       "      <td>4.3</td>\n",
       "      <td>0.40</td>\n",
       "      <td>0</td>\n",
       "      <td>0</td>\n",
       "      <td>0</td>\n",
       "      <td>0</td>\n",
       "      <td>1</td>\n",
       "      <td>0</td>\n",
       "      <td>0</td>\n",
       "      <td>0</td>\n",
       "      <td>...</td>\n",
       "      <td>0</td>\n",
       "      <td>0</td>\n",
       "      <td>0</td>\n",
       "      <td>0</td>\n",
       "      <td>0</td>\n",
       "      <td>1</td>\n",
       "      <td>0</td>\n",
       "      <td>0</td>\n",
       "      <td>0</td>\n",
       "      <td>104.957</td>\n",
       "    </tr>\n",
       "  </tbody>\n",
       "</table>\n",
       "<p>682 rows × 165 columns</p>\n",
       "</div>"
      ],
      "text/plain": [
       "     Rating  Vader  Size_1 - 50  Size_10000+  Size_1001 - 5000  \\\n",
       "2       3.1   0.52            0            1                 0   \n",
       "4       3.7   0.19            0            1                 0   \n",
       "5       3.7   0.82            0            0                 1   \n",
       "7       3.9   0.18            0            0                 1   \n",
       "8       3.2   0.51            0            1                 0   \n",
       "..      ...    ...          ...          ...               ...   \n",
       "946     4.2   0.49            0            0                 0   \n",
       "947     4.2   0.11            0            0                 0   \n",
       "948     4.1   0.53            0            1                 0   \n",
       "949     3.6   0.34            0            0                 0   \n",
       "950     4.3   0.40            0            0                 0   \n",
       "\n",
       "     Size_201 - 500  Size_5001 - 10000  Size_501 - 1000  Size_51 - 200  \\\n",
       "2                 0                  0                0              0   \n",
       "4                 0                  0                0              0   \n",
       "5                 0                  0                0              0   \n",
       "7                 0                  0                0              0   \n",
       "8                 0                  0                0              0   \n",
       "..              ...                ...              ...            ...   \n",
       "946               1                  0                0              0   \n",
       "947               0                  0                0              1   \n",
       "948               0                  0                0              0   \n",
       "949               0                  0                1              0   \n",
       "950               0                  1                0              0   \n",
       "\n",
       "     Industry_Accounting & Tax  ...  Job State_WI  Job State_WV  \\\n",
       "2                            0  ...             0             0   \n",
       "4                            0  ...             0             0   \n",
       "5                            0  ...             0             0   \n",
       "7                            0  ...             0             0   \n",
       "8                            0  ...             0             0   \n",
       "..                         ...  ...           ...           ...   \n",
       "946                          0  ...             0             0   \n",
       "947                          0  ...             0             0   \n",
       "948                          0  ...             0             0   \n",
       "949                          0  ...             0             0   \n",
       "950                          0  ...             0             0   \n",
       "\n",
       "     Job Simplified_analyst  Job Simplified_data architect  \\\n",
       "2                         0                              0   \n",
       "4                         0                              0   \n",
       "5                         0                              0   \n",
       "7                         1                              0   \n",
       "8                         0                              0   \n",
       "..                      ...                            ...   \n",
       "946                       0                              0   \n",
       "947                       0                              0   \n",
       "948                       0                              0   \n",
       "949                       0                              0   \n",
       "950                       0                              0   \n",
       "\n",
       "     Job Simplified_data engineer  Job Simplified_data scientist  \\\n",
       "2                               0                              0   \n",
       "4                               0                              0   \n",
       "5                               0                              1   \n",
       "7                               0                              0   \n",
       "8                               0                              1   \n",
       "..                            ...                            ...   \n",
       "946                             0                              1   \n",
       "947                             0                              0   \n",
       "948                             0                              1   \n",
       "949                             0                              1   \n",
       "950                             0                              1   \n",
       "\n",
       "     Job Simplified_mle  Job Simplified_research scientist  \\\n",
       "2                     1                                  0   \n",
       "4                     1                                  0   \n",
       "5                     0                                  0   \n",
       "7                     0                                  0   \n",
       "8                     0                                  0   \n",
       "..                  ...                                ...   \n",
       "946                   0                                  0   \n",
       "947                   1                                  0   \n",
       "948                   0                                  0   \n",
       "949                   0                                  0   \n",
       "950                   0                                  0   \n",
       "\n",
       "     Job Simplified_statistician  Salary Estimate  \n",
       "2                              0          129.163  \n",
       "4                              0          112.751  \n",
       "5                              0           86.585  \n",
       "7                              0           77.143  \n",
       "8                              0           98.663  \n",
       "..                           ...              ...  \n",
       "946                            0          149.166  \n",
       "947                            0           99.950  \n",
       "948                            0          125.000  \n",
       "949                            0          110.100  \n",
       "950                            0          104.957  \n",
       "\n",
       "[682 rows x 165 columns]"
      ]
     },
     "execution_count": 310,
     "metadata": {},
     "output_type": "execute_result"
    }
   ],
   "source": [
    "df_dum"
   ]
  },
  {
   "cell_type": "code",
   "execution_count": 311,
=======
   "execution_count": 125,
>>>>>>> Stashed changes
   "id": "c54f7f33-7a30-408e-8e07-d2525f665818",
   "metadata": {},
   "outputs": [
    {
     "data": {
      "text/plain": [
       "Text(0.5, 0, 'Relative Importance')"
      ]
     },
<<<<<<< Updated upstream
     "execution_count": 311,
=======
     "execution_count": 125,
>>>>>>> Stashed changes
     "metadata": {},
     "output_type": "execute_result"
    },
    {
     "data": {
<<<<<<< Updated upstream
      "image/png": "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\n",
=======
      "image/png": "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\n",
>>>>>>> Stashed changes
      "text/plain": [
       "<Figure size 864x2880 with 1 Axes>"
      ]
     },
     "metadata": {
      "needs_background": "light"
     },
     "output_type": "display_data"
    }
   ],
   "source": [
    "import matplotlib.pyplot as plt\n",
    "%matplotlib inline\n",
    "importances = rf.feature_importances_\n",
    "indices = np.argsort(importances)\n",
    "plt.figure(figsize=(12,40))\n",
    "plt.title('Feature Importances')\n",
    "plt.barh(range(len(indices)), importances[indices], color='b', align='center')\n",
    "# plt.yticks(range(len(indices)),feature_names)\n",
    "plt.yticks(range(len(indices)),np.array(feature_names)[indices])\n",
    "plt.xlabel('Relative Importance')\n",
    "# first use feature importance to see what are the important features, then choose the important features and retrain the model"
   ]
  },
  {
   "cell_type": "code",
   "execution_count": null,
   "id": "30ba2b35-7ba7-49d8-89c7-e4dc76b8740b",
   "metadata": {},
   "outputs": [],
   "source": []
  },
  {
   "cell_type": "code",
<<<<<<< Updated upstream
   "execution_count": 312,
=======
   "execution_count": 126,
>>>>>>> Stashed changes
   "id": "e7338101-1637-4f45-b41e-0e04ac574202",
   "metadata": {},
   "outputs": [
    {
     "data": {
      "text/html": [
<<<<<<< Updated upstream
       "<style>#sk-container-id-12 {color: black;background-color: white;}#sk-container-id-12 pre{padding: 0;}#sk-container-id-12 div.sk-toggleable {background-color: white;}#sk-container-id-12 label.sk-toggleable__label {cursor: pointer;display: block;width: 100%;margin-bottom: 0;padding: 0.3em;box-sizing: border-box;text-align: center;}#sk-container-id-12 label.sk-toggleable__label-arrow:before {content: \"▸\";float: left;margin-right: 0.25em;color: #696969;}#sk-container-id-12 label.sk-toggleable__label-arrow:hover:before {color: black;}#sk-container-id-12 div.sk-estimator:hover label.sk-toggleable__label-arrow:before {color: black;}#sk-container-id-12 div.sk-toggleable__content {max-height: 0;max-width: 0;overflow: hidden;text-align: left;background-color: #f0f8ff;}#sk-container-id-12 div.sk-toggleable__content pre {margin: 0.2em;color: black;border-radius: 0.25em;background-color: #f0f8ff;}#sk-container-id-12 input.sk-toggleable__control:checked~div.sk-toggleable__content {max-height: 200px;max-width: 100%;overflow: auto;}#sk-container-id-12 input.sk-toggleable__control:checked~label.sk-toggleable__label-arrow:before {content: \"▾\";}#sk-container-id-12 div.sk-estimator input.sk-toggleable__control:checked~label.sk-toggleable__label {background-color: #d4ebff;}#sk-container-id-12 div.sk-label input.sk-toggleable__control:checked~label.sk-toggleable__label {background-color: #d4ebff;}#sk-container-id-12 input.sk-hidden--visually {border: 0;clip: rect(1px 1px 1px 1px);clip: rect(1px, 1px, 1px, 1px);height: 1px;margin: -1px;overflow: hidden;padding: 0;position: absolute;width: 1px;}#sk-container-id-12 div.sk-estimator {font-family: monospace;background-color: #f0f8ff;border: 1px dotted black;border-radius: 0.25em;box-sizing: border-box;margin-bottom: 0.5em;}#sk-container-id-12 div.sk-estimator:hover {background-color: #d4ebff;}#sk-container-id-12 div.sk-parallel-item::after {content: \"\";width: 100%;border-bottom: 1px solid gray;flex-grow: 1;}#sk-container-id-12 div.sk-label:hover label.sk-toggleable__label {background-color: #d4ebff;}#sk-container-id-12 div.sk-serial::before {content: \"\";position: absolute;border-left: 1px solid gray;box-sizing: border-box;top: 0;bottom: 0;left: 50%;z-index: 0;}#sk-container-id-12 div.sk-serial {display: flex;flex-direction: column;align-items: center;background-color: white;padding-right: 0.2em;padding-left: 0.2em;position: relative;}#sk-container-id-12 div.sk-item {position: relative;z-index: 1;}#sk-container-id-12 div.sk-parallel {display: flex;align-items: stretch;justify-content: center;background-color: white;position: relative;}#sk-container-id-12 div.sk-item::before, #sk-container-id-12 div.sk-parallel-item::before {content: \"\";position: absolute;border-left: 1px solid gray;box-sizing: border-box;top: 0;bottom: 0;left: 50%;z-index: -1;}#sk-container-id-12 div.sk-parallel-item {display: flex;flex-direction: column;z-index: 1;position: relative;background-color: white;}#sk-container-id-12 div.sk-parallel-item:first-child::after {align-self: flex-end;width: 50%;}#sk-container-id-12 div.sk-parallel-item:last-child::after {align-self: flex-start;width: 50%;}#sk-container-id-12 div.sk-parallel-item:only-child::after {width: 0;}#sk-container-id-12 div.sk-dashed-wrapped {border: 1px dashed gray;margin: 0 0.4em 0.5em 0.4em;box-sizing: border-box;padding-bottom: 0.4em;background-color: white;}#sk-container-id-12 div.sk-label label {font-family: monospace;font-weight: bold;display: inline-block;line-height: 1.2em;}#sk-container-id-12 div.sk-label-container {text-align: center;}#sk-container-id-12 div.sk-container {/* jupyter's `normalize.less` sets `[hidden] { display: none; }` but bootstrap.min.css set `[hidden] { display: none !important; }` so we also need the `!important` here to be able to override the default hidden behavior on the sphinx rendered scikit-learn.org. See: https://github.com/scikit-learn/scikit-learn/issues/21755 */display: inline-block !important;position: relative;}#sk-container-id-12 div.sk-text-repr-fallback {display: none;}</style><div id=\"sk-container-id-12\" class=\"sk-top-container\"><div class=\"sk-text-repr-fallback\"><pre>RandomForestRegressor(max_features=&#x27;sqrt&#x27;, n_estimators=70)</pre><b>In a Jupyter environment, please rerun this cell to show the HTML representation or trust the notebook. <br />On GitHub, the HTML representation is unable to render, please try loading this page with nbviewer.org.</b></div><div class=\"sk-container\" hidden><div class=\"sk-item\"><div class=\"sk-estimator sk-toggleable\"><input class=\"sk-toggleable__control sk-hidden--visually\" id=\"sk-estimator-id-12\" type=\"checkbox\" checked><label for=\"sk-estimator-id-12\" class=\"sk-toggleable__label sk-toggleable__label-arrow\">RandomForestRegressor</label><div class=\"sk-toggleable__content\"><pre>RandomForestRegressor(max_features=&#x27;sqrt&#x27;, n_estimators=70)</pre></div></div></div></div></div>"
      ],
      "text/plain": [
       "RandomForestRegressor(max_features='sqrt', n_estimators=70)"
      ]
     },
     "execution_count": 312,
=======
       "<style>#sk-container-id-5 {color: black;background-color: white;}#sk-container-id-5 pre{padding: 0;}#sk-container-id-5 div.sk-toggleable {background-color: white;}#sk-container-id-5 label.sk-toggleable__label {cursor: pointer;display: block;width: 100%;margin-bottom: 0;padding: 0.3em;box-sizing: border-box;text-align: center;}#sk-container-id-5 label.sk-toggleable__label-arrow:before {content: \"▸\";float: left;margin-right: 0.25em;color: #696969;}#sk-container-id-5 label.sk-toggleable__label-arrow:hover:before {color: black;}#sk-container-id-5 div.sk-estimator:hover label.sk-toggleable__label-arrow:before {color: black;}#sk-container-id-5 div.sk-toggleable__content {max-height: 0;max-width: 0;overflow: hidden;text-align: left;background-color: #f0f8ff;}#sk-container-id-5 div.sk-toggleable__content pre {margin: 0.2em;color: black;border-radius: 0.25em;background-color: #f0f8ff;}#sk-container-id-5 input.sk-toggleable__control:checked~div.sk-toggleable__content {max-height: 200px;max-width: 100%;overflow: auto;}#sk-container-id-5 input.sk-toggleable__control:checked~label.sk-toggleable__label-arrow:before {content: \"▾\";}#sk-container-id-5 div.sk-estimator input.sk-toggleable__control:checked~label.sk-toggleable__label {background-color: #d4ebff;}#sk-container-id-5 div.sk-label input.sk-toggleable__control:checked~label.sk-toggleable__label {background-color: #d4ebff;}#sk-container-id-5 input.sk-hidden--visually {border: 0;clip: rect(1px 1px 1px 1px);clip: rect(1px, 1px, 1px, 1px);height: 1px;margin: -1px;overflow: hidden;padding: 0;position: absolute;width: 1px;}#sk-container-id-5 div.sk-estimator {font-family: monospace;background-color: #f0f8ff;border: 1px dotted black;border-radius: 0.25em;box-sizing: border-box;margin-bottom: 0.5em;}#sk-container-id-5 div.sk-estimator:hover {background-color: #d4ebff;}#sk-container-id-5 div.sk-parallel-item::after {content: \"\";width: 100%;border-bottom: 1px solid gray;flex-grow: 1;}#sk-container-id-5 div.sk-label:hover label.sk-toggleable__label {background-color: #d4ebff;}#sk-container-id-5 div.sk-serial::before {content: \"\";position: absolute;border-left: 1px solid gray;box-sizing: border-box;top: 0;bottom: 0;left: 50%;z-index: 0;}#sk-container-id-5 div.sk-serial {display: flex;flex-direction: column;align-items: center;background-color: white;padding-right: 0.2em;padding-left: 0.2em;position: relative;}#sk-container-id-5 div.sk-item {position: relative;z-index: 1;}#sk-container-id-5 div.sk-parallel {display: flex;align-items: stretch;justify-content: center;background-color: white;position: relative;}#sk-container-id-5 div.sk-item::before, #sk-container-id-5 div.sk-parallel-item::before {content: \"\";position: absolute;border-left: 1px solid gray;box-sizing: border-box;top: 0;bottom: 0;left: 50%;z-index: -1;}#sk-container-id-5 div.sk-parallel-item {display: flex;flex-direction: column;z-index: 1;position: relative;background-color: white;}#sk-container-id-5 div.sk-parallel-item:first-child::after {align-self: flex-end;width: 50%;}#sk-container-id-5 div.sk-parallel-item:last-child::after {align-self: flex-start;width: 50%;}#sk-container-id-5 div.sk-parallel-item:only-child::after {width: 0;}#sk-container-id-5 div.sk-dashed-wrapped {border: 1px dashed gray;margin: 0 0.4em 0.5em 0.4em;box-sizing: border-box;padding-bottom: 0.4em;background-color: white;}#sk-container-id-5 div.sk-label label {font-family: monospace;font-weight: bold;display: inline-block;line-height: 1.2em;}#sk-container-id-5 div.sk-label-container {text-align: center;}#sk-container-id-5 div.sk-container {/* jupyter's `normalize.less` sets `[hidden] { display: none; }` but bootstrap.min.css set `[hidden] { display: none !important; }` so we also need the `!important` here to be able to override the default hidden behavior on the sphinx rendered scikit-learn.org. See: https://github.com/scikit-learn/scikit-learn/issues/21755 */display: inline-block !important;position: relative;}#sk-container-id-5 div.sk-text-repr-fallback {display: none;}</style><div id=\"sk-container-id-5\" class=\"sk-top-container\"><div class=\"sk-text-repr-fallback\"><pre>RandomForestRegressor(criterion=&#x27;absolute_error&#x27;, max_features=&#x27;log2&#x27;,\n",
       "                      n_estimators=140)</pre><b>In a Jupyter environment, please rerun this cell to show the HTML representation or trust the notebook. <br />On GitHub, the HTML representation is unable to render, please try loading this page with nbviewer.org.</b></div><div class=\"sk-container\" hidden><div class=\"sk-item\"><div class=\"sk-estimator sk-toggleable\"><input class=\"sk-toggleable__control sk-hidden--visually\" id=\"sk-estimator-id-5\" type=\"checkbox\" checked><label for=\"sk-estimator-id-5\" class=\"sk-toggleable__label sk-toggleable__label-arrow\">RandomForestRegressor</label><div class=\"sk-toggleable__content\"><pre>RandomForestRegressor(criterion=&#x27;absolute_error&#x27;, max_features=&#x27;log2&#x27;,\n",
       "                      n_estimators=140)</pre></div></div></div></div></div>"
      ],
      "text/plain": [
       "RandomForestRegressor(criterion='absolute_error', max_features='log2',\n",
       "                      n_estimators=140)"
      ]
     },
     "execution_count": 126,
>>>>>>> Stashed changes
     "metadata": {},
     "output_type": "execute_result"
    }
   ],
   "source": [
    "# tune models GridsearchCV \n",
    "from sklearn.model_selection import GridSearchCV\n",
    "parameters = {'n_estimators':range(10,300,10), 'criterion':('squared_error','absolute_error'), 'max_features':('sqrt','log2')}\n",
    "\n",
    "gs = GridSearchCV(rf,parameters,scoring='neg_mean_absolute_error',cv=3)\n",
    "gs.fit(X_train,y_train)\n",
    "\n",
    "gs.best_score_\n",
    "gs.best_estimator_"
   ]
  },
  {
   "cell_type": "code",
<<<<<<< Updated upstream
   "execution_count": 313,
=======
   "execution_count": 127,
>>>>>>> Stashed changes
   "id": "c394af53",
   "metadata": {},
   "outputs": [
    {
     "data": {
      "text/html": [
<<<<<<< Updated upstream
       "<style>#sk-container-id-13 {color: black;background-color: white;}#sk-container-id-13 pre{padding: 0;}#sk-container-id-13 div.sk-toggleable {background-color: white;}#sk-container-id-13 label.sk-toggleable__label {cursor: pointer;display: block;width: 100%;margin-bottom: 0;padding: 0.3em;box-sizing: border-box;text-align: center;}#sk-container-id-13 label.sk-toggleable__label-arrow:before {content: \"▸\";float: left;margin-right: 0.25em;color: #696969;}#sk-container-id-13 label.sk-toggleable__label-arrow:hover:before {color: black;}#sk-container-id-13 div.sk-estimator:hover label.sk-toggleable__label-arrow:before {color: black;}#sk-container-id-13 div.sk-toggleable__content {max-height: 0;max-width: 0;overflow: hidden;text-align: left;background-color: #f0f8ff;}#sk-container-id-13 div.sk-toggleable__content pre {margin: 0.2em;color: black;border-radius: 0.25em;background-color: #f0f8ff;}#sk-container-id-13 input.sk-toggleable__control:checked~div.sk-toggleable__content {max-height: 200px;max-width: 100%;overflow: auto;}#sk-container-id-13 input.sk-toggleable__control:checked~label.sk-toggleable__label-arrow:before {content: \"▾\";}#sk-container-id-13 div.sk-estimator input.sk-toggleable__control:checked~label.sk-toggleable__label {background-color: #d4ebff;}#sk-container-id-13 div.sk-label input.sk-toggleable__control:checked~label.sk-toggleable__label {background-color: #d4ebff;}#sk-container-id-13 input.sk-hidden--visually {border: 0;clip: rect(1px 1px 1px 1px);clip: rect(1px, 1px, 1px, 1px);height: 1px;margin: -1px;overflow: hidden;padding: 0;position: absolute;width: 1px;}#sk-container-id-13 div.sk-estimator {font-family: monospace;background-color: #f0f8ff;border: 1px dotted black;border-radius: 0.25em;box-sizing: border-box;margin-bottom: 0.5em;}#sk-container-id-13 div.sk-estimator:hover {background-color: #d4ebff;}#sk-container-id-13 div.sk-parallel-item::after {content: \"\";width: 100%;border-bottom: 1px solid gray;flex-grow: 1;}#sk-container-id-13 div.sk-label:hover label.sk-toggleable__label {background-color: #d4ebff;}#sk-container-id-13 div.sk-serial::before {content: \"\";position: absolute;border-left: 1px solid gray;box-sizing: border-box;top: 0;bottom: 0;left: 50%;z-index: 0;}#sk-container-id-13 div.sk-serial {display: flex;flex-direction: column;align-items: center;background-color: white;padding-right: 0.2em;padding-left: 0.2em;position: relative;}#sk-container-id-13 div.sk-item {position: relative;z-index: 1;}#sk-container-id-13 div.sk-parallel {display: flex;align-items: stretch;justify-content: center;background-color: white;position: relative;}#sk-container-id-13 div.sk-item::before, #sk-container-id-13 div.sk-parallel-item::before {content: \"\";position: absolute;border-left: 1px solid gray;box-sizing: border-box;top: 0;bottom: 0;left: 50%;z-index: -1;}#sk-container-id-13 div.sk-parallel-item {display: flex;flex-direction: column;z-index: 1;position: relative;background-color: white;}#sk-container-id-13 div.sk-parallel-item:first-child::after {align-self: flex-end;width: 50%;}#sk-container-id-13 div.sk-parallel-item:last-child::after {align-self: flex-start;width: 50%;}#sk-container-id-13 div.sk-parallel-item:only-child::after {width: 0;}#sk-container-id-13 div.sk-dashed-wrapped {border: 1px dashed gray;margin: 0 0.4em 0.5em 0.4em;box-sizing: border-box;padding-bottom: 0.4em;background-color: white;}#sk-container-id-13 div.sk-label label {font-family: monospace;font-weight: bold;display: inline-block;line-height: 1.2em;}#sk-container-id-13 div.sk-label-container {text-align: center;}#sk-container-id-13 div.sk-container {/* jupyter's `normalize.less` sets `[hidden] { display: none; }` but bootstrap.min.css set `[hidden] { display: none !important; }` so we also need the `!important` here to be able to override the default hidden behavior on the sphinx rendered scikit-learn.org. See: https://github.com/scikit-learn/scikit-learn/issues/21755 */display: inline-block !important;position: relative;}#sk-container-id-13 div.sk-text-repr-fallback {display: none;}</style><div id=\"sk-container-id-13\" class=\"sk-top-container\"><div class=\"sk-text-repr-fallback\"><pre>RandomForestRegressor(max_features=&#x27;sqrt&#x27;, n_estimators=70)</pre><b>In a Jupyter environment, please rerun this cell to show the HTML representation or trust the notebook. <br />On GitHub, the HTML representation is unable to render, please try loading this page with nbviewer.org.</b></div><div class=\"sk-container\" hidden><div class=\"sk-item\"><div class=\"sk-estimator sk-toggleable\"><input class=\"sk-toggleable__control sk-hidden--visually\" id=\"sk-estimator-id-13\" type=\"checkbox\" checked><label for=\"sk-estimator-id-13\" class=\"sk-toggleable__label sk-toggleable__label-arrow\">RandomForestRegressor</label><div class=\"sk-toggleable__content\"><pre>RandomForestRegressor(max_features=&#x27;sqrt&#x27;, n_estimators=70)</pre></div></div></div></div></div>"
      ],
      "text/plain": [
       "RandomForestRegressor(max_features='sqrt', n_estimators=70)"
      ]
     },
     "execution_count": 313,
=======
       "<style>#sk-container-id-6 {color: black;background-color: white;}#sk-container-id-6 pre{padding: 0;}#sk-container-id-6 div.sk-toggleable {background-color: white;}#sk-container-id-6 label.sk-toggleable__label {cursor: pointer;display: block;width: 100%;margin-bottom: 0;padding: 0.3em;box-sizing: border-box;text-align: center;}#sk-container-id-6 label.sk-toggleable__label-arrow:before {content: \"▸\";float: left;margin-right: 0.25em;color: #696969;}#sk-container-id-6 label.sk-toggleable__label-arrow:hover:before {color: black;}#sk-container-id-6 div.sk-estimator:hover label.sk-toggleable__label-arrow:before {color: black;}#sk-container-id-6 div.sk-toggleable__content {max-height: 0;max-width: 0;overflow: hidden;text-align: left;background-color: #f0f8ff;}#sk-container-id-6 div.sk-toggleable__content pre {margin: 0.2em;color: black;border-radius: 0.25em;background-color: #f0f8ff;}#sk-container-id-6 input.sk-toggleable__control:checked~div.sk-toggleable__content {max-height: 200px;max-width: 100%;overflow: auto;}#sk-container-id-6 input.sk-toggleable__control:checked~label.sk-toggleable__label-arrow:before {content: \"▾\";}#sk-container-id-6 div.sk-estimator input.sk-toggleable__control:checked~label.sk-toggleable__label {background-color: #d4ebff;}#sk-container-id-6 div.sk-label input.sk-toggleable__control:checked~label.sk-toggleable__label {background-color: #d4ebff;}#sk-container-id-6 input.sk-hidden--visually {border: 0;clip: rect(1px 1px 1px 1px);clip: rect(1px, 1px, 1px, 1px);height: 1px;margin: -1px;overflow: hidden;padding: 0;position: absolute;width: 1px;}#sk-container-id-6 div.sk-estimator {font-family: monospace;background-color: #f0f8ff;border: 1px dotted black;border-radius: 0.25em;box-sizing: border-box;margin-bottom: 0.5em;}#sk-container-id-6 div.sk-estimator:hover {background-color: #d4ebff;}#sk-container-id-6 div.sk-parallel-item::after {content: \"\";width: 100%;border-bottom: 1px solid gray;flex-grow: 1;}#sk-container-id-6 div.sk-label:hover label.sk-toggleable__label {background-color: #d4ebff;}#sk-container-id-6 div.sk-serial::before {content: \"\";position: absolute;border-left: 1px solid gray;box-sizing: border-box;top: 0;bottom: 0;left: 50%;z-index: 0;}#sk-container-id-6 div.sk-serial {display: flex;flex-direction: column;align-items: center;background-color: white;padding-right: 0.2em;padding-left: 0.2em;position: relative;}#sk-container-id-6 div.sk-item {position: relative;z-index: 1;}#sk-container-id-6 div.sk-parallel {display: flex;align-items: stretch;justify-content: center;background-color: white;position: relative;}#sk-container-id-6 div.sk-item::before, #sk-container-id-6 div.sk-parallel-item::before {content: \"\";position: absolute;border-left: 1px solid gray;box-sizing: border-box;top: 0;bottom: 0;left: 50%;z-index: -1;}#sk-container-id-6 div.sk-parallel-item {display: flex;flex-direction: column;z-index: 1;position: relative;background-color: white;}#sk-container-id-6 div.sk-parallel-item:first-child::after {align-self: flex-end;width: 50%;}#sk-container-id-6 div.sk-parallel-item:last-child::after {align-self: flex-start;width: 50%;}#sk-container-id-6 div.sk-parallel-item:only-child::after {width: 0;}#sk-container-id-6 div.sk-dashed-wrapped {border: 1px dashed gray;margin: 0 0.4em 0.5em 0.4em;box-sizing: border-box;padding-bottom: 0.4em;background-color: white;}#sk-container-id-6 div.sk-label label {font-family: monospace;font-weight: bold;display: inline-block;line-height: 1.2em;}#sk-container-id-6 div.sk-label-container {text-align: center;}#sk-container-id-6 div.sk-container {/* jupyter's `normalize.less` sets `[hidden] { display: none; }` but bootstrap.min.css set `[hidden] { display: none !important; }` so we also need the `!important` here to be able to override the default hidden behavior on the sphinx rendered scikit-learn.org. See: https://github.com/scikit-learn/scikit-learn/issues/21755 */display: inline-block !important;position: relative;}#sk-container-id-6 div.sk-text-repr-fallback {display: none;}</style><div id=\"sk-container-id-6\" class=\"sk-top-container\"><div class=\"sk-text-repr-fallback\"><pre>RandomForestRegressor(criterion=&#x27;absolute_error&#x27;, max_features=&#x27;log2&#x27;,\n",
       "                      n_estimators=140)</pre><b>In a Jupyter environment, please rerun this cell to show the HTML representation or trust the notebook. <br />On GitHub, the HTML representation is unable to render, please try loading this page with nbviewer.org.</b></div><div class=\"sk-container\" hidden><div class=\"sk-item\"><div class=\"sk-estimator sk-toggleable\"><input class=\"sk-toggleable__control sk-hidden--visually\" id=\"sk-estimator-id-6\" type=\"checkbox\" checked><label for=\"sk-estimator-id-6\" class=\"sk-toggleable__label sk-toggleable__label-arrow\">RandomForestRegressor</label><div class=\"sk-toggleable__content\"><pre>RandomForestRegressor(criterion=&#x27;absolute_error&#x27;, max_features=&#x27;log2&#x27;,\n",
       "                      n_estimators=140)</pre></div></div></div></div></div>"
      ],
      "text/plain": [
       "RandomForestRegressor(criterion='absolute_error', max_features='log2',\n",
       "                      n_estimators=140)"
      ]
     },
     "execution_count": 127,
>>>>>>> Stashed changes
     "metadata": {},
     "output_type": "execute_result"
    }
   ],
   "source": [
    "gs.best_estimator_"
   ]
  },
  {
   "cell_type": "code",
<<<<<<< Updated upstream
   "execution_count": 314,
=======
   "execution_count": 128,
>>>>>>> Stashed changes
   "id": "a0c19e46",
   "metadata": {},
   "outputs": [
    {
     "data": {
      "text/plain": [
<<<<<<< Updated upstream
       "-20.827774277493965"
      ]
     },
     "execution_count": 314,
=======
       "-42.36692732536206"
      ]
     },
     "execution_count": 128,
>>>>>>> Stashed changes
     "metadata": {},
     "output_type": "execute_result"
    }
   ],
   "source": [
    "gs.best_score_"
   ]
  },
  {
   "cell_type": "code",
<<<<<<< Updated upstream
   "execution_count": 315,
=======
   "execution_count": 34,
>>>>>>> Stashed changes
   "id": "ee7135ff",
   "metadata": {},
   "outputs": [
    {
     "data": {
      "text/plain": [
<<<<<<< Updated upstream
       "Rating                               3.80\n",
       "Vader                                0.59\n",
       "Size_1 - 50                          0.00\n",
       "Size_10000+                          0.00\n",
       "Size_1001 - 5000                     1.00\n",
       "                                     ... \n",
       "Job Simplified_data engineer         0.00\n",
       "Job Simplified_data scientist        1.00\n",
       "Job Simplified_mle                   0.00\n",
       "Job Simplified_research scientist    0.00\n",
       "Job Simplified_statistician          0.00\n",
       "Name: 277, Length: 164, dtype: float64"
      ]
     },
     "execution_count": 315,
=======
       "Rating                               4.1\n",
       "Size_1 - 50                          0.0\n",
       "Size_10000+                          1.0\n",
       "Size_1001 - 5000                     0.0\n",
       "Size_201 - 500                       0.0\n",
       "                                    ... \n",
       "Job Simplified_data architect        0.0\n",
       "Job Simplified_data engineer         1.0\n",
       "Job Simplified_data scientist        0.0\n",
       "Job Simplified_mle                   0.0\n",
       "Job Simplified_research scientist    0.0\n",
       "Name: 398, Length: 164, dtype: float64"
      ]
     },
     "execution_count": 34,
>>>>>>> Stashed changes
     "metadata": {},
     "output_type": "execute_result"
    }
   ],
   "source": [
    "X_test.iloc[1,:]"
   ]
  },
  {
   "cell_type": "code",
<<<<<<< Updated upstream
   "execution_count": 318,
=======
   "execution_count": 35,
   "id": "821658c9",
   "metadata": {},
   "outputs": [
    {
     "data": {
      "text/plain": [
       "array([[3.7, 0. , 1. , 0. , 0. , 0. , 0. , 0. , 0. , 0. , 0. , 0. , 0. ,\n",
       "        0. , 0. , 0. , 0. , 0. , 0. , 0. , 0. , 0. , 0. , 0. , 0. , 0. ,\n",
       "        0. , 0. , 0. , 0. , 0. , 0. , 0. , 0. , 0. , 0. , 0. , 0. , 0. ,\n",
       "        0. , 0. , 0. , 0. , 0. , 0. , 0. , 0. , 0. , 0. , 0. , 0. , 0. ,\n",
       "        0. , 0. , 1. , 0. , 0. , 0. , 0. , 0. , 0. , 0. , 0. , 0. , 0. ,\n",
       "        0. , 0. , 0. , 0. , 0. , 0. , 0. , 0. , 0. , 0. , 0. , 0. , 0. ,\n",
       "        0. , 0. , 0. , 0. , 0. , 0. , 0. , 0. , 0. , 0. , 0. , 0. , 0. ,\n",
       "        0. , 1. , 0. , 0. , 0. , 0. , 0. , 0. , 0. , 0. , 0. , 0. , 0. ,\n",
       "        0. , 0. , 0. , 0. , 0. , 0. , 0. , 0. , 0. , 0. , 0. , 0. , 0. ,\n",
       "        0. , 0. , 0. , 0. , 0. , 0. , 0. , 0. , 0. , 0. , 0. , 0. , 0. ,\n",
       "        0. , 0. , 0. , 0. , 0. , 0. , 0. , 0. , 0. , 0. , 0. , 0. , 0. ,\n",
       "        0. , 0. , 0. , 0. , 0. , 0. , 1. , 0. , 0. , 0. , 0. , 0. , 0. ,\n",
       "        0. , 0. , 0. , 0. , 0. , 0. , 1. , 0. ]])"
      ]
     },
     "execution_count": 35,
     "metadata": {},
     "output_type": "execute_result"
    }
   ],
   "source": [
    "np.array(list(X_test.iloc[0,:])).reshape(1,-1)"
   ]
  },
  {
   "cell_type": "code",
   "execution_count": 36,
   "id": "ecc346c2",
   "metadata": {
    "collapsed": true,
    "jupyter": {
     "outputs_hidden": true
    },
    "tags": []
   },
   "outputs": [
    {
     "data": {
      "text/plain": [
       "[4.1,\n",
       " 0.0,\n",
       " 1.0,\n",
       " 0.0,\n",
       " 0.0,\n",
       " 0.0,\n",
       " 0.0,\n",
       " 0.0,\n",
       " 0.0,\n",
       " 0.0,\n",
       " 0.0,\n",
       " 0.0,\n",
       " 0.0,\n",
       " 0.0,\n",
       " 0.0,\n",
       " 0.0,\n",
       " 1.0,\n",
       " 0.0,\n",
       " 0.0,\n",
       " 0.0,\n",
       " 0.0,\n",
       " 0.0,\n",
       " 0.0,\n",
       " 0.0,\n",
       " 0.0,\n",
       " 0.0,\n",
       " 0.0,\n",
       " 0.0,\n",
       " 0.0,\n",
       " 0.0,\n",
       " 0.0,\n",
       " 0.0,\n",
       " 0.0,\n",
       " 0.0,\n",
       " 0.0,\n",
       " 0.0,\n",
       " 0.0,\n",
       " 0.0,\n",
       " 0.0,\n",
       " 0.0,\n",
       " 0.0,\n",
       " 0.0,\n",
       " 0.0,\n",
       " 0.0,\n",
       " 0.0,\n",
       " 0.0,\n",
       " 0.0,\n",
       " 0.0,\n",
       " 0.0,\n",
       " 0.0,\n",
       " 0.0,\n",
       " 0.0,\n",
       " 0.0,\n",
       " 0.0,\n",
       " 0.0,\n",
       " 0.0,\n",
       " 0.0,\n",
       " 0.0,\n",
       " 0.0,\n",
       " 0.0,\n",
       " 0.0,\n",
       " 0.0,\n",
       " 0.0,\n",
       " 0.0,\n",
       " 0.0,\n",
       " 0.0,\n",
       " 0.0,\n",
       " 0.0,\n",
       " 0.0,\n",
       " 0.0,\n",
       " 0.0,\n",
       " 0.0,\n",
       " 0.0,\n",
       " 0.0,\n",
       " 0.0,\n",
       " 0.0,\n",
       " 0.0,\n",
       " 0.0,\n",
       " 0.0,\n",
       " 0.0,\n",
       " 0.0,\n",
       " 0.0,\n",
       " 0.0,\n",
       " 0.0,\n",
       " 0.0,\n",
       " 0.0,\n",
       " 0.0,\n",
       " 0.0,\n",
       " 0.0,\n",
       " 0.0,\n",
       " 0.0,\n",
       " 0.0,\n",
       " 0.0,\n",
       " 0.0,\n",
       " 0.0,\n",
       " 0.0,\n",
       " 0.0,\n",
       " 0.0,\n",
       " 0.0,\n",
       " 0.0,\n",
       " 0.0,\n",
       " 0.0,\n",
       " 0.0,\n",
       " 0.0,\n",
       " 0.0,\n",
       " 1.0,\n",
       " 0.0,\n",
       " 0.0,\n",
       " 0.0,\n",
       " 0.0,\n",
       " 0.0,\n",
       " 0.0,\n",
       " 0.0,\n",
       " 0.0,\n",
       " 0.0,\n",
       " 0.0,\n",
       " 0.0,\n",
       " 0.0,\n",
       " 0.0,\n",
       " 0.0,\n",
       " 0.0,\n",
       " 0.0,\n",
       " 0.0,\n",
       " 0.0,\n",
       " 0.0,\n",
       " 0.0,\n",
       " 0.0,\n",
       " 0.0,\n",
       " 0.0,\n",
       " 1.0,\n",
       " 0.0,\n",
       " 0.0,\n",
       " 0.0,\n",
       " 0.0,\n",
       " 0.0,\n",
       " 0.0,\n",
       " 0.0,\n",
       " 0.0,\n",
       " 0.0,\n",
       " 0.0,\n",
       " 0.0,\n",
       " 0.0,\n",
       " 0.0,\n",
       " 0.0,\n",
       " 0.0,\n",
       " 0.0,\n",
       " 0.0,\n",
       " 0.0,\n",
       " 0.0,\n",
       " 0.0,\n",
       " 0.0,\n",
       " 0.0,\n",
       " 0.0,\n",
       " 0.0,\n",
       " 0.0,\n",
       " 0.0,\n",
       " 0.0,\n",
       " 0.0,\n",
       " 0.0,\n",
       " 0.0,\n",
       " 1.0,\n",
       " 0.0,\n",
       " 0.0,\n",
       " 0.0]"
      ]
     },
     "execution_count": 36,
     "metadata": {},
     "output_type": "execute_result"
    }
   ],
   "source": [
    "import pickle\n",
    "pickl = {'model': gs.best_estimator_}\n",
    "pickle.dump( pickl, open( 'model_file' + \".p\", \"wb\" ) )\n",
    "\n",
    "file_name = \"model_file.p\"\n",
    "with open(file_name, 'rb') as pickled:\n",
    "    data = pickle.load(pickled)\n",
    "    model = data['model']\n",
    "\n",
    "list(X_test.iloc[1,:])"
   ]
  },
  {
   "cell_type": "code",
   "execution_count": 37,
>>>>>>> Stashed changes
   "id": "80a1ee4d",
   "metadata": {},
   "outputs": [
    {
     "name": "stderr",
     "output_type": "stream",
     "text": [
      "/Users/angelawang/opt/anaconda3/lib/python3.9/site-packages/sklearn/base.py:420: UserWarning: X does not have valid feature names, but RandomForestRegressor was fitted with feature names\n",
      "  warnings.warn(\n"
     ]
    },
    {
     "data": {
      "text/plain": [
<<<<<<< Updated upstream
       "120.67965714285712"
      ]
     },
     "execution_count": 318,
=======
       "0.3"
      ]
     },
     "execution_count": 37,
>>>>>>> Stashed changes
     "metadata": {},
     "output_type": "execute_result"
    }
   ],
   "source": [
    "model.predict(np.array(list(X_test.iloc[1,:])).reshape(1,-1))[0]"
   ]
  },
  {
   "cell_type": "code",
<<<<<<< Updated upstream
   "execution_count": 319,
=======
   "execution_count": 38,
>>>>>>> Stashed changes
   "id": "f34dfb93-2ad8-422f-a88e-a946627cee60",
   "metadata": {},
   "outputs": [
    {
     "data": {
      "text/plain": [
<<<<<<< Updated upstream
       "0.4627391946496454"
      ]
     },
     "execution_count": 319,
=======
       "0.4314661654135339"
      ]
     },
     "execution_count": 38,
>>>>>>> Stashed changes
     "metadata": {},
     "output_type": "execute_result"
    }
   ],
   "source": [
    "model.score(X_test,y_test)"
   ]
  },
  {
   "cell_type": "code",
<<<<<<< Updated upstream
   "execution_count": 320,
=======
   "execution_count": 39,
>>>>>>> Stashed changes
   "id": "09258d04-cd48-4bb6-9abd-b8cb8d4a8102",
   "metadata": {},
   "outputs": [
    {
     "name": "stdout",
     "output_type": "stream",
     "text": [
<<<<<<< Updated upstream
      "Mean Absolute Error (MAE): 21.588\n",
      "Root Mean Squared Error (RMSE): 28.863\n",
      "Coefficient of Determination (R-squared): 0.463\n"
=======
      "Mean Absolute Error (MAE): 0.078\n",
      "Root Mean Squared Error (RMSE): 0.184\n",
      "Coefficient of Determination (R-squared): 0.431\n"
>>>>>>> Stashed changes
     ]
    }
   ],
   "source": [
    "from sklearn.metrics import mean_absolute_error, mean_squared_error, r2_score\n",
    "\n",
    "# assume that you have already fitted a RandomForestRegressor model called 'model' on your training data\n",
    "y_pred = model.predict(X_test)\n",
    "\n",
    "# calculate mean absolute error\n",
    "mae = mean_absolute_error(y_test, y_pred)\n",
    "\n",
    "# calculate root mean squared error\n",
    "rmse = mean_squared_error(y_test, y_pred, squared=False)\n",
    "\n",
    "# calculate coefficient of determination (R-squared)\n",
    "r2 = r2_score(y_test, y_pred)\n",
    "\n",
    "# print the error metrics\n",
    "print(f\"Mean Absolute Error (MAE): {mae:.3f}\")\n",
    "print(f\"Root Mean Squared Error (RMSE): {rmse:.3f}\")\n",
    "print(f\"Coefficient of Determination (R-squared): {r2:.3f}\")\n"
   ]
  },
  {
   "cell_type": "markdown",
   "id": "51c3b13e-134f-449f-ba59-c735f0896136",
   "metadata": {},
   "source": [
    "### Support Vector Regression"
   ]
  },
  {
   "cell_type": "code",
<<<<<<< Updated upstream
   "execution_count": 321,
=======
   "execution_count": 40,
>>>>>>> Stashed changes
   "id": "c5f6996c-14ae-499a-b933-561cd51a005c",
   "metadata": {},
   "outputs": [
    {
     "name": "stdout",
     "output_type": "stream",
     "text": [
<<<<<<< Updated upstream
      "Mean Absolute Error (MAE): 25.512\n",
      "Root Mean Squared Error (RMSE): 35.434\n",
      "Coefficient of Determination (R-squared): 0.013\n",
      "Mean Squared Error: 1255.5437665106535\n"
=======
      "Mean Absolute Error (MAE): 38.254\n",
      "Root Mean Squared Error (RMSE): 94.776\n",
      "Coefficient of Determination (R-squared): -0.035\n",
      "Mean Squared Error: 8982.409556777375\n"
>>>>>>> Stashed changes
     ]
    }
   ],
   "source": [
    "# import libraries\n",
    "import numpy as np\n",
    "import pandas as pd\n",
    "from sklearn.svm import SVR\n",
    "from sklearn.preprocessing import StandardScaler\n",
    "from sklearn.model_selection import train_test_split, GridSearchCV\n",
    "from sklearn.metrics import mean_squared_error\n",
    "\n",
    "# load data\n",
    "# data = pd.read_csv('data.csv')\n",
    "\n",
    "# split data into features and target variable\n",
    "X = df_dum.drop('Salary Estimate', axis=1)\n",
    "y = df_dum['Salary Estimate']\n",
    "\n",
    "# feature scaling\n",
    "scaler = StandardScaler()\n",
    "X_scaled = scaler.fit_transform(X)\n",
    "\n",
    "# feature selection (if needed)\n",
    "# X_selected = ...\n",
    "\n",
    "# train-test split\n",
    "X_train, X_test, y_train, y_test = train_test_split(X_scaled, y, test_size=0.2, random_state=42)\n",
    "\n",
    "# cross-validation\n",
    "svr = SVR()\n",
    "params = {'C': [0.1, 1, 10], 'gamma': [0.1, 1, 10]}\n",
    "grid_search = GridSearchCV(svr, param_grid=params, cv=5, scoring='neg_mean_squared_error')\n",
    "grid_search.fit(X_train, y_train)\n",
    "\n",
    "# model evaluation\n",
    "best_model = grid_search.best_estimator_\n",
    "y_pred = best_model.predict(X_test)\n",
    "mse = mean_squared_error(y_test, y_pred)\n",
    "\n",
    "# calculate mean absolute error\n",
    "mae = mean_absolute_error(y_test, y_pred)\n",
    "\n",
    "# calculate root mean squared error\n",
    "rmse = mean_squared_error(y_test, y_pred, squared=False)\n",
    "\n",
    "# calculate coefficient of determination (R-squared)\n",
    "r2 = r2_score(y_test, y_pred)\n",
    "\n",
    "# print the error metrics\n",
    "print(f\"Mean Absolute Error (MAE): {mae:.3f}\")\n",
    "print(f\"Root Mean Squared Error (RMSE): {rmse:.3f}\")\n",
    "print(f\"Coefficient of Determination (R-squared): {r2:.3f}\")\n",
    "print(\"Mean Squared Error:\", mse)\n"
   ]
  },
  {
   "cell_type": "code",
   "execution_count": null,
   "id": "7d6cd821-9322-4eef-8cbd-5685fae3db6f",
   "metadata": {},
   "outputs": [],
   "source": []
  },
  {
   "cell_type": "code",
<<<<<<< Updated upstream
   "execution_count": 322,
   "id": "e9fd19a8-bd3e-4abb-b5c1-e9ea95f5a260",
   "metadata": {
    "tags": []
   },
   "outputs": [],
=======
   "execution_count": 41,
   "id": "e9fd19a8-bd3e-4abb-b5c1-e9ea95f5a260",
   "metadata": {
    "collapsed": true,
    "jupyter": {
     "outputs_hidden": true
    },
    "tags": []
   },
   "outputs": [
    {
     "ename": "IndexError",
     "evalue": "Boolean index has wrong length: 164 instead of 165",
     "output_type": "error",
     "traceback": [
      "\u001b[0;31m---------------------------------------------------------------------------\u001b[0m",
      "\u001b[0;31mIndexError\u001b[0m                                Traceback (most recent call last)",
      "Input \u001b[0;32mIn [41]\u001b[0m, in \u001b[0;36m<cell line: 5>\u001b[0;34m()\u001b[0m\n\u001b[1;32m      2\u001b[0m mask \u001b[38;5;241m=\u001b[39m indices\u001b[38;5;241m<\u001b[39m\u001b[38;5;241m50\u001b[39m\n\u001b[1;32m      4\u001b[0m \u001b[38;5;66;03m# apply the mask to select the desired columns\u001b[39;00m\n\u001b[0;32m----> 5\u001b[0m X_masked \u001b[38;5;241m=\u001b[39m \u001b[43mX\u001b[49m\u001b[38;5;241;43m.\u001b[39;49m\u001b[43mloc\u001b[49m\u001b[43m[\u001b[49m\u001b[43m:\u001b[49m\u001b[43m,\u001b[49m\u001b[43m \u001b[49m\u001b[43mmask\u001b[49m\u001b[43m]\u001b[49m\n",
      "File \u001b[0;32m~/opt/anaconda3/lib/python3.9/site-packages/pandas/core/indexing.py:961\u001b[0m, in \u001b[0;36m_LocationIndexer.__getitem__\u001b[0;34m(self, key)\u001b[0m\n\u001b[1;32m    959\u001b[0m     \u001b[38;5;28;01mif\u001b[39;00m \u001b[38;5;28mself\u001b[39m\u001b[38;5;241m.\u001b[39m_is_scalar_access(key):\n\u001b[1;32m    960\u001b[0m         \u001b[38;5;28;01mreturn\u001b[39;00m \u001b[38;5;28mself\u001b[39m\u001b[38;5;241m.\u001b[39mobj\u001b[38;5;241m.\u001b[39m_get_value(\u001b[38;5;241m*\u001b[39mkey, takeable\u001b[38;5;241m=\u001b[39m\u001b[38;5;28mself\u001b[39m\u001b[38;5;241m.\u001b[39m_takeable)\n\u001b[0;32m--> 961\u001b[0m     \u001b[38;5;28;01mreturn\u001b[39;00m \u001b[38;5;28;43mself\u001b[39;49m\u001b[38;5;241;43m.\u001b[39;49m\u001b[43m_getitem_tuple\u001b[49m\u001b[43m(\u001b[49m\u001b[43mkey\u001b[49m\u001b[43m)\u001b[49m\n\u001b[1;32m    962\u001b[0m \u001b[38;5;28;01melse\u001b[39;00m:\n\u001b[1;32m    963\u001b[0m     \u001b[38;5;66;03m# we by definition only have the 0th axis\u001b[39;00m\n\u001b[1;32m    964\u001b[0m     axis \u001b[38;5;241m=\u001b[39m \u001b[38;5;28mself\u001b[39m\u001b[38;5;241m.\u001b[39maxis \u001b[38;5;129;01mor\u001b[39;00m \u001b[38;5;241m0\u001b[39m\n",
      "File \u001b[0;32m~/opt/anaconda3/lib/python3.9/site-packages/pandas/core/indexing.py:1149\u001b[0m, in \u001b[0;36m_LocIndexer._getitem_tuple\u001b[0;34m(self, tup)\u001b[0m\n\u001b[1;32m   1146\u001b[0m \u001b[38;5;28;01mif\u001b[39;00m \u001b[38;5;28mself\u001b[39m\u001b[38;5;241m.\u001b[39m_multi_take_opportunity(tup):\n\u001b[1;32m   1147\u001b[0m     \u001b[38;5;28;01mreturn\u001b[39;00m \u001b[38;5;28mself\u001b[39m\u001b[38;5;241m.\u001b[39m_multi_take(tup)\n\u001b[0;32m-> 1149\u001b[0m \u001b[38;5;28;01mreturn\u001b[39;00m \u001b[38;5;28;43mself\u001b[39;49m\u001b[38;5;241;43m.\u001b[39;49m\u001b[43m_getitem_tuple_same_dim\u001b[49m\u001b[43m(\u001b[49m\u001b[43mtup\u001b[49m\u001b[43m)\u001b[49m\n",
      "File \u001b[0;32m~/opt/anaconda3/lib/python3.9/site-packages/pandas/core/indexing.py:827\u001b[0m, in \u001b[0;36m_LocationIndexer._getitem_tuple_same_dim\u001b[0;34m(self, tup)\u001b[0m\n\u001b[1;32m    824\u001b[0m \u001b[38;5;28;01mif\u001b[39;00m com\u001b[38;5;241m.\u001b[39mis_null_slice(key):\n\u001b[1;32m    825\u001b[0m     \u001b[38;5;28;01mcontinue\u001b[39;00m\n\u001b[0;32m--> 827\u001b[0m retval \u001b[38;5;241m=\u001b[39m \u001b[38;5;28;43mgetattr\u001b[39;49m\u001b[43m(\u001b[49m\u001b[43mretval\u001b[49m\u001b[43m,\u001b[49m\u001b[43m \u001b[49m\u001b[38;5;28;43mself\u001b[39;49m\u001b[38;5;241;43m.\u001b[39;49m\u001b[43mname\u001b[49m\u001b[43m)\u001b[49m\u001b[38;5;241;43m.\u001b[39;49m\u001b[43m_getitem_axis\u001b[49m\u001b[43m(\u001b[49m\u001b[43mkey\u001b[49m\u001b[43m,\u001b[49m\u001b[43m \u001b[49m\u001b[43maxis\u001b[49m\u001b[38;5;241;43m=\u001b[39;49m\u001b[43mi\u001b[49m\u001b[43m)\u001b[49m\n\u001b[1;32m    828\u001b[0m \u001b[38;5;66;03m# We should never have retval.ndim < self.ndim, as that should\u001b[39;00m\n\u001b[1;32m    829\u001b[0m \u001b[38;5;66;03m#  be handled by the _getitem_lowerdim call above.\u001b[39;00m\n\u001b[1;32m    830\u001b[0m \u001b[38;5;28;01massert\u001b[39;00m retval\u001b[38;5;241m.\u001b[39mndim \u001b[38;5;241m==\u001b[39m \u001b[38;5;28mself\u001b[39m\u001b[38;5;241m.\u001b[39mndim\n",
      "File \u001b[0;32m~/opt/anaconda3/lib/python3.9/site-packages/pandas/core/indexing.py:1182\u001b[0m, in \u001b[0;36m_LocIndexer._getitem_axis\u001b[0;34m(self, key, axis)\u001b[0m\n\u001b[1;32m   1180\u001b[0m     \u001b[38;5;28;01mreturn\u001b[39;00m \u001b[38;5;28mself\u001b[39m\u001b[38;5;241m.\u001b[39m_get_slice_axis(key, axis\u001b[38;5;241m=\u001b[39maxis)\n\u001b[1;32m   1181\u001b[0m \u001b[38;5;28;01melif\u001b[39;00m com\u001b[38;5;241m.\u001b[39mis_bool_indexer(key):\n\u001b[0;32m-> 1182\u001b[0m     \u001b[38;5;28;01mreturn\u001b[39;00m \u001b[38;5;28;43mself\u001b[39;49m\u001b[38;5;241;43m.\u001b[39;49m\u001b[43m_getbool_axis\u001b[49m\u001b[43m(\u001b[49m\u001b[43mkey\u001b[49m\u001b[43m,\u001b[49m\u001b[43m \u001b[49m\u001b[43maxis\u001b[49m\u001b[38;5;241;43m=\u001b[39;49m\u001b[43maxis\u001b[49m\u001b[43m)\u001b[49m\n\u001b[1;32m   1183\u001b[0m \u001b[38;5;28;01melif\u001b[39;00m is_list_like_indexer(key):\n\u001b[1;32m   1184\u001b[0m \n\u001b[1;32m   1185\u001b[0m     \u001b[38;5;66;03m# an iterable multi-selection\u001b[39;00m\n\u001b[1;32m   1186\u001b[0m     \u001b[38;5;28;01mif\u001b[39;00m \u001b[38;5;129;01mnot\u001b[39;00m (\u001b[38;5;28misinstance\u001b[39m(key, \u001b[38;5;28mtuple\u001b[39m) \u001b[38;5;129;01mand\u001b[39;00m \u001b[38;5;28misinstance\u001b[39m(labels, MultiIndex)):\n",
      "File \u001b[0;32m~/opt/anaconda3/lib/python3.9/site-packages/pandas/core/indexing.py:984\u001b[0m, in \u001b[0;36m_LocationIndexer._getbool_axis\u001b[0;34m(self, key, axis)\u001b[0m\n\u001b[1;32m    981\u001b[0m \u001b[38;5;28;01mdef\u001b[39;00m \u001b[38;5;21m_getbool_axis\u001b[39m(\u001b[38;5;28mself\u001b[39m, key, axis: \u001b[38;5;28mint\u001b[39m):\n\u001b[1;32m    982\u001b[0m     \u001b[38;5;66;03m# caller is responsible for ensuring non-None axis\u001b[39;00m\n\u001b[1;32m    983\u001b[0m     labels \u001b[38;5;241m=\u001b[39m \u001b[38;5;28mself\u001b[39m\u001b[38;5;241m.\u001b[39mobj\u001b[38;5;241m.\u001b[39m_get_axis(axis)\n\u001b[0;32m--> 984\u001b[0m     key \u001b[38;5;241m=\u001b[39m \u001b[43mcheck_bool_indexer\u001b[49m\u001b[43m(\u001b[49m\u001b[43mlabels\u001b[49m\u001b[43m,\u001b[49m\u001b[43m \u001b[49m\u001b[43mkey\u001b[49m\u001b[43m)\u001b[49m\n\u001b[1;32m    985\u001b[0m     inds \u001b[38;5;241m=\u001b[39m key\u001b[38;5;241m.\u001b[39mnonzero()[\u001b[38;5;241m0\u001b[39m]\n\u001b[1;32m    986\u001b[0m     \u001b[38;5;28;01mreturn\u001b[39;00m \u001b[38;5;28mself\u001b[39m\u001b[38;5;241m.\u001b[39mobj\u001b[38;5;241m.\u001b[39m_take_with_is_copy(inds, axis\u001b[38;5;241m=\u001b[39maxis)\n",
      "File \u001b[0;32m~/opt/anaconda3/lib/python3.9/site-packages/pandas/core/indexing.py:2396\u001b[0m, in \u001b[0;36mcheck_bool_indexer\u001b[0;34m(index, key)\u001b[0m\n\u001b[1;32m   2392\u001b[0m \u001b[38;5;28;01melif\u001b[39;00m \u001b[38;5;129;01mnot\u001b[39;00m is_array_like(result):\n\u001b[1;32m   2393\u001b[0m     \u001b[38;5;66;03m# GH 33924\u001b[39;00m\n\u001b[1;32m   2394\u001b[0m     \u001b[38;5;66;03m# key may contain nan elements, check_array_indexer needs bool array\u001b[39;00m\n\u001b[1;32m   2395\u001b[0m     result \u001b[38;5;241m=\u001b[39m pd_array(result, dtype\u001b[38;5;241m=\u001b[39m\u001b[38;5;28mbool\u001b[39m)\n\u001b[0;32m-> 2396\u001b[0m \u001b[38;5;28;01mreturn\u001b[39;00m \u001b[43mcheck_array_indexer\u001b[49m\u001b[43m(\u001b[49m\u001b[43mindex\u001b[49m\u001b[43m,\u001b[49m\u001b[43m \u001b[49m\u001b[43mresult\u001b[49m\u001b[43m)\u001b[49m\n",
      "File \u001b[0;32m~/opt/anaconda3/lib/python3.9/site-packages/pandas/core/indexers/utils.py:579\u001b[0m, in \u001b[0;36mcheck_array_indexer\u001b[0;34m(array, indexer)\u001b[0m\n\u001b[1;32m    577\u001b[0m     \u001b[38;5;66;03m# GH26658\u001b[39;00m\n\u001b[1;32m    578\u001b[0m     \u001b[38;5;28;01mif\u001b[39;00m \u001b[38;5;28mlen\u001b[39m(indexer) \u001b[38;5;241m!=\u001b[39m \u001b[38;5;28mlen\u001b[39m(array):\n\u001b[0;32m--> 579\u001b[0m         \u001b[38;5;28;01mraise\u001b[39;00m \u001b[38;5;167;01mIndexError\u001b[39;00m(\n\u001b[1;32m    580\u001b[0m             \u001b[38;5;124mf\u001b[39m\u001b[38;5;124m\"\u001b[39m\u001b[38;5;124mBoolean index has wrong length: \u001b[39m\u001b[38;5;124m\"\u001b[39m\n\u001b[1;32m    581\u001b[0m             \u001b[38;5;124mf\u001b[39m\u001b[38;5;124m\"\u001b[39m\u001b[38;5;132;01m{\u001b[39;00m\u001b[38;5;28mlen\u001b[39m(indexer)\u001b[38;5;132;01m}\u001b[39;00m\u001b[38;5;124m instead of \u001b[39m\u001b[38;5;132;01m{\u001b[39;00m\u001b[38;5;28mlen\u001b[39m(array)\u001b[38;5;132;01m}\u001b[39;00m\u001b[38;5;124m\"\u001b[39m\n\u001b[1;32m    582\u001b[0m         )\n\u001b[1;32m    583\u001b[0m \u001b[38;5;28;01melif\u001b[39;00m is_integer_dtype(dtype):\n\u001b[1;32m    584\u001b[0m     \u001b[38;5;28;01mtry\u001b[39;00m:\n",
      "\u001b[0;31mIndexError\u001b[0m: Boolean index has wrong length: 164 instead of 165"
     ]
    }
   ],
>>>>>>> Stashed changes
   "source": [
    "# create a boolean mask of column indices less than 50\n",
    "mask = indices<50\n",
    "\n",
    "# apply the mask to select the desired columns\n",
    "X_masked = X.loc[:, mask]"
   ]
  },
  {
   "cell_type": "code",
<<<<<<< Updated upstream
   "execution_count": 323,
   "id": "73d24a04-b964-4e5d-96ca-a9fd2b2b5aca",
   "metadata": {},
   "outputs": [
    {
     "data": {
      "text/html": [
       "<div>\n",
       "<style scoped>\n",
       "    .dataframe tbody tr th:only-of-type {\n",
       "        vertical-align: middle;\n",
       "    }\n",
       "\n",
       "    .dataframe tbody tr th {\n",
       "        vertical-align: top;\n",
       "    }\n",
       "\n",
       "    .dataframe thead th {\n",
       "        text-align: right;\n",
       "    }\n",
       "</style>\n",
       "<table border=\"1\" class=\"dataframe\">\n",
       "  <thead>\n",
       "    <tr style=\"text-align: right;\">\n",
       "      <th></th>\n",
       "      <th>Size_1 - 50</th>\n",
       "      <th>Size_5001 - 10000</th>\n",
       "      <th>Size_501 - 1000</th>\n",
       "      <th>Industry_Advertising &amp; Public Relations</th>\n",
       "      <th>Industry_Aerospace &amp; Defense</th>\n",
       "      <th>Industry_Architectural &amp; Engineering Services</th>\n",
       "      <th>Industry_Banking &amp; Lending</th>\n",
       "      <th>Industry_Business Consulting</th>\n",
       "      <th>Industry_Construction</th>\n",
       "      <th>Industry_Consumer Product Manufacturing</th>\n",
       "      <th>...</th>\n",
       "      <th>Job State_MS</th>\n",
       "      <th>Job State_MT</th>\n",
       "      <th>Job State_NC</th>\n",
       "      <th>Job State_NV</th>\n",
       "      <th>Job State_Remote</th>\n",
       "      <th>Job State_VA</th>\n",
       "      <th>Job Simplified_data engineer</th>\n",
       "      <th>Job Simplified_data scientist</th>\n",
       "      <th>Job Simplified_mle</th>\n",
       "      <th>Job Simplified_research scientist</th>\n",
       "    </tr>\n",
       "  </thead>\n",
       "  <tbody>\n",
       "    <tr>\n",
       "      <th>2</th>\n",
       "      <td>0</td>\n",
       "      <td>0</td>\n",
       "      <td>0</td>\n",
       "      <td>0</td>\n",
       "      <td>0</td>\n",
       "      <td>0</td>\n",
       "      <td>0</td>\n",
       "      <td>0</td>\n",
       "      <td>0</td>\n",
       "      <td>0</td>\n",
       "      <td>...</td>\n",
       "      <td>0</td>\n",
       "      <td>0</td>\n",
       "      <td>0</td>\n",
       "      <td>0</td>\n",
       "      <td>0</td>\n",
       "      <td>0</td>\n",
       "      <td>0</td>\n",
       "      <td>0</td>\n",
       "      <td>1</td>\n",
       "      <td>0</td>\n",
       "    </tr>\n",
       "    <tr>\n",
       "      <th>4</th>\n",
       "      <td>0</td>\n",
       "      <td>0</td>\n",
       "      <td>0</td>\n",
       "      <td>0</td>\n",
       "      <td>0</td>\n",
       "      <td>0</td>\n",
       "      <td>0</td>\n",
       "      <td>0</td>\n",
       "      <td>0</td>\n",
       "      <td>0</td>\n",
       "      <td>...</td>\n",
       "      <td>0</td>\n",
       "      <td>0</td>\n",
       "      <td>0</td>\n",
       "      <td>0</td>\n",
       "      <td>0</td>\n",
       "      <td>0</td>\n",
       "      <td>0</td>\n",
       "      <td>0</td>\n",
       "      <td>1</td>\n",
       "      <td>0</td>\n",
       "    </tr>\n",
       "    <tr>\n",
       "      <th>5</th>\n",
       "      <td>0</td>\n",
       "      <td>0</td>\n",
       "      <td>0</td>\n",
       "      <td>0</td>\n",
       "      <td>0</td>\n",
       "      <td>0</td>\n",
       "      <td>0</td>\n",
       "      <td>0</td>\n",
       "      <td>0</td>\n",
       "      <td>0</td>\n",
       "      <td>...</td>\n",
       "      <td>0</td>\n",
       "      <td>0</td>\n",
       "      <td>0</td>\n",
       "      <td>0</td>\n",
       "      <td>0</td>\n",
       "      <td>0</td>\n",
       "      <td>0</td>\n",
       "      <td>1</td>\n",
       "      <td>0</td>\n",
       "      <td>0</td>\n",
       "    </tr>\n",
       "    <tr>\n",
       "      <th>7</th>\n",
       "      <td>0</td>\n",
       "      <td>0</td>\n",
       "      <td>0</td>\n",
       "      <td>0</td>\n",
       "      <td>0</td>\n",
       "      <td>0</td>\n",
       "      <td>0</td>\n",
       "      <td>0</td>\n",
       "      <td>0</td>\n",
       "      <td>0</td>\n",
       "      <td>...</td>\n",
       "      <td>0</td>\n",
       "      <td>0</td>\n",
       "      <td>0</td>\n",
       "      <td>0</td>\n",
       "      <td>0</td>\n",
       "      <td>0</td>\n",
       "      <td>0</td>\n",
       "      <td>0</td>\n",
       "      <td>0</td>\n",
       "      <td>0</td>\n",
       "    </tr>\n",
       "    <tr>\n",
       "      <th>8</th>\n",
       "      <td>0</td>\n",
       "      <td>0</td>\n",
       "      <td>0</td>\n",
       "      <td>0</td>\n",
       "      <td>0</td>\n",
       "      <td>0</td>\n",
       "      <td>0</td>\n",
       "      <td>0</td>\n",
       "      <td>0</td>\n",
       "      <td>0</td>\n",
       "      <td>...</td>\n",
       "      <td>0</td>\n",
       "      <td>0</td>\n",
       "      <td>0</td>\n",
       "      <td>0</td>\n",
       "      <td>0</td>\n",
       "      <td>0</td>\n",
       "      <td>0</td>\n",
       "      <td>1</td>\n",
       "      <td>0</td>\n",
       "      <td>0</td>\n",
       "    </tr>\n",
       "    <tr>\n",
       "      <th>...</th>\n",
       "      <td>...</td>\n",
       "      <td>...</td>\n",
       "      <td>...</td>\n",
       "      <td>...</td>\n",
       "      <td>...</td>\n",
       "      <td>...</td>\n",
       "      <td>...</td>\n",
       "      <td>...</td>\n",
       "      <td>...</td>\n",
       "      <td>...</td>\n",
       "      <td>...</td>\n",
       "      <td>...</td>\n",
       "      <td>...</td>\n",
       "      <td>...</td>\n",
       "      <td>...</td>\n",
       "      <td>...</td>\n",
       "      <td>...</td>\n",
       "      <td>...</td>\n",
       "      <td>...</td>\n",
       "      <td>...</td>\n",
       "      <td>...</td>\n",
       "    </tr>\n",
       "    <tr>\n",
       "      <th>946</th>\n",
       "      <td>0</td>\n",
       "      <td>0</td>\n",
       "      <td>0</td>\n",
       "      <td>0</td>\n",
       "      <td>0</td>\n",
       "      <td>0</td>\n",
       "      <td>0</td>\n",
       "      <td>0</td>\n",
       "      <td>0</td>\n",
       "      <td>0</td>\n",
       "      <td>...</td>\n",
       "      <td>0</td>\n",
       "      <td>0</td>\n",
       "      <td>0</td>\n",
       "      <td>0</td>\n",
       "      <td>0</td>\n",
       "      <td>0</td>\n",
       "      <td>0</td>\n",
       "      <td>1</td>\n",
       "      <td>0</td>\n",
       "      <td>0</td>\n",
       "    </tr>\n",
       "    <tr>\n",
       "      <th>947</th>\n",
       "      <td>0</td>\n",
       "      <td>0</td>\n",
       "      <td>0</td>\n",
       "      <td>0</td>\n",
       "      <td>0</td>\n",
       "      <td>0</td>\n",
       "      <td>0</td>\n",
       "      <td>0</td>\n",
       "      <td>0</td>\n",
       "      <td>0</td>\n",
       "      <td>...</td>\n",
       "      <td>0</td>\n",
       "      <td>0</td>\n",
       "      <td>0</td>\n",
       "      <td>0</td>\n",
       "      <td>0</td>\n",
       "      <td>0</td>\n",
       "      <td>0</td>\n",
       "      <td>0</td>\n",
       "      <td>1</td>\n",
       "      <td>0</td>\n",
       "    </tr>\n",
       "    <tr>\n",
       "      <th>948</th>\n",
       "      <td>0</td>\n",
       "      <td>0</td>\n",
       "      <td>0</td>\n",
       "      <td>0</td>\n",
       "      <td>0</td>\n",
       "      <td>0</td>\n",
       "      <td>0</td>\n",
       "      <td>0</td>\n",
       "      <td>0</td>\n",
       "      <td>0</td>\n",
       "      <td>...</td>\n",
       "      <td>0</td>\n",
       "      <td>0</td>\n",
       "      <td>0</td>\n",
       "      <td>0</td>\n",
       "      <td>0</td>\n",
       "      <td>0</td>\n",
       "      <td>0</td>\n",
       "      <td>1</td>\n",
       "      <td>0</td>\n",
       "      <td>0</td>\n",
       "    </tr>\n",
       "    <tr>\n",
       "      <th>949</th>\n",
       "      <td>0</td>\n",
       "      <td>0</td>\n",
       "      <td>1</td>\n",
       "      <td>0</td>\n",
       "      <td>0</td>\n",
       "      <td>0</td>\n",
       "      <td>0</td>\n",
       "      <td>0</td>\n",
       "      <td>0</td>\n",
       "      <td>0</td>\n",
       "      <td>...</td>\n",
       "      <td>0</td>\n",
       "      <td>0</td>\n",
       "      <td>0</td>\n",
       "      <td>0</td>\n",
       "      <td>0</td>\n",
       "      <td>0</td>\n",
       "      <td>0</td>\n",
       "      <td>1</td>\n",
       "      <td>0</td>\n",
       "      <td>0</td>\n",
       "    </tr>\n",
       "    <tr>\n",
       "      <th>950</th>\n",
       "      <td>0</td>\n",
       "      <td>1</td>\n",
       "      <td>0</td>\n",
       "      <td>0</td>\n",
       "      <td>1</td>\n",
       "      <td>0</td>\n",
       "      <td>0</td>\n",
       "      <td>0</td>\n",
       "      <td>0</td>\n",
       "      <td>0</td>\n",
       "      <td>...</td>\n",
       "      <td>0</td>\n",
       "      <td>0</td>\n",
       "      <td>0</td>\n",
       "      <td>0</td>\n",
       "      <td>0</td>\n",
       "      <td>0</td>\n",
       "      <td>0</td>\n",
       "      <td>1</td>\n",
       "      <td>0</td>\n",
       "      <td>0</td>\n",
       "    </tr>\n",
       "  </tbody>\n",
       "</table>\n",
       "<p>682 rows × 50 columns</p>\n",
       "</div>"
      ],
      "text/plain": [
       "     Size_1 - 50  Size_5001 - 10000  Size_501 - 1000  \\\n",
       "2              0                  0                0   \n",
       "4              0                  0                0   \n",
       "5              0                  0                0   \n",
       "7              0                  0                0   \n",
       "8              0                  0                0   \n",
       "..           ...                ...              ...   \n",
       "946            0                  0                0   \n",
       "947            0                  0                0   \n",
       "948            0                  0                0   \n",
       "949            0                  0                1   \n",
       "950            0                  1                0   \n",
       "\n",
       "     Industry_Advertising & Public Relations  Industry_Aerospace & Defense  \\\n",
       "2                                          0                             0   \n",
       "4                                          0                             0   \n",
       "5                                          0                             0   \n",
       "7                                          0                             0   \n",
       "8                                          0                             0   \n",
       "..                                       ...                           ...   \n",
       "946                                        0                             0   \n",
       "947                                        0                             0   \n",
       "948                                        0                             0   \n",
       "949                                        0                             0   \n",
       "950                                        0                             1   \n",
       "\n",
       "     Industry_Architectural & Engineering Services  \\\n",
       "2                                                0   \n",
       "4                                                0   \n",
       "5                                                0   \n",
       "7                                                0   \n",
       "8                                                0   \n",
       "..                                             ...   \n",
       "946                                              0   \n",
       "947                                              0   \n",
       "948                                              0   \n",
       "949                                              0   \n",
       "950                                              0   \n",
       "\n",
       "     Industry_Banking & Lending  Industry_Business Consulting  \\\n",
       "2                             0                             0   \n",
       "4                             0                             0   \n",
       "5                             0                             0   \n",
       "7                             0                             0   \n",
       "8                             0                             0   \n",
       "..                          ...                           ...   \n",
       "946                           0                             0   \n",
       "947                           0                             0   \n",
       "948                           0                             0   \n",
       "949                           0                             0   \n",
       "950                           0                             0   \n",
       "\n",
       "     Industry_Construction  Industry_Consumer Product Manufacturing  ...  \\\n",
       "2                        0                                        0  ...   \n",
       "4                        0                                        0  ...   \n",
       "5                        0                                        0  ...   \n",
       "7                        0                                        0  ...   \n",
       "8                        0                                        0  ...   \n",
       "..                     ...                                      ...  ...   \n",
       "946                      0                                        0  ...   \n",
       "947                      0                                        0  ...   \n",
       "948                      0                                        0  ...   \n",
       "949                      0                                        0  ...   \n",
       "950                      0                                        0  ...   \n",
       "\n",
       "     Job State_MS  Job State_MT  Job State_NC  Job State_NV  Job State_Remote  \\\n",
       "2               0             0             0             0                 0   \n",
       "4               0             0             0             0                 0   \n",
       "5               0             0             0             0                 0   \n",
       "7               0             0             0             0                 0   \n",
       "8               0             0             0             0                 0   \n",
       "..            ...           ...           ...           ...               ...   \n",
       "946             0             0             0             0                 0   \n",
       "947             0             0             0             0                 0   \n",
       "948             0             0             0             0                 0   \n",
       "949             0             0             0             0                 0   \n",
       "950             0             0             0             0                 0   \n",
       "\n",
       "     Job State_VA  Job Simplified_data engineer  \\\n",
       "2               0                             0   \n",
       "4               0                             0   \n",
       "5               0                             0   \n",
       "7               0                             0   \n",
       "8               0                             0   \n",
       "..            ...                           ...   \n",
       "946             0                             0   \n",
       "947             0                             0   \n",
       "948             0                             0   \n",
       "949             0                             0   \n",
       "950             0                             0   \n",
       "\n",
       "     Job Simplified_data scientist  Job Simplified_mle  \\\n",
       "2                                0                   1   \n",
       "4                                0                   1   \n",
       "5                                1                   0   \n",
       "7                                0                   0   \n",
       "8                                1                   0   \n",
       "..                             ...                 ...   \n",
       "946                              1                   0   \n",
       "947                              0                   1   \n",
       "948                              1                   0   \n",
       "949                              1                   0   \n",
       "950                              1                   0   \n",
       "\n",
       "     Job Simplified_research scientist  \n",
       "2                                    0  \n",
       "4                                    0  \n",
       "5                                    0  \n",
       "7                                    0  \n",
       "8                                    0  \n",
       "..                                 ...  \n",
       "946                                  0  \n",
       "947                                  0  \n",
       "948                                  0  \n",
       "949                                  0  \n",
       "950                                  0  \n",
       "\n",
       "[682 rows x 50 columns]"
      ]
     },
     "execution_count": 323,
     "metadata": {},
     "output_type": "execute_result"
    }
   ],
=======
   "execution_count": null,
   "id": "73d24a04-b964-4e5d-96ca-a9fd2b2b5aca",
   "metadata": {},
   "outputs": [],
>>>>>>> Stashed changes
   "source": [
    "X_masked"
   ]
  },
  {
   "cell_type": "code",
<<<<<<< Updated upstream
   "execution_count": 326,
   "id": "d0b67895-41d0-439f-9f10-4d3d30e28774",
   "metadata": {},
   "outputs": [
    {
     "name": "stdout",
     "output_type": "stream",
     "text": [
      "Mean Absolute Error (MAE): 25.540\n",
      "Root Mean Squared Error (RMSE): 35.265\n",
      "Coefficient of Determination (R-squared): 0.023\n",
      "Mean Squared Error: 1243.637902776326\n"
     ]
    }
   ],
=======
   "execution_count": null,
   "id": "dfd10319-55e9-460f-bb62-00552c57bc50",
   "metadata": {
    "tags": []
   },
   "outputs": [],
   "source": [
    "X_train_masked"
   ]
  },
  {
   "cell_type": "code",
   "execution_count": null,
   "id": "d0b67895-41d0-439f-9f10-4d3d30e28774",
   "metadata": {},
   "outputs": [],
>>>>>>> Stashed changes
   "source": [
    "# feature scaling\n",
    "scaler = StandardScaler()\n",
    "X_scaled = scaler.fit_transform(X_masked)\n",
    "\n",
    "# feature selection (if needed)\n",
    "# X_selected = ...\n",
    "\n",
    "# train-test split\n",
    "X_scaled_train, X_scaled_test, y_train, y_test = train_test_split(X_scaled, y, test_size=0.2, random_state=42)\n",
    "\n",
    "# cross-validation\n",
    "svr = SVR()\n",
    "params = {'C': [0.1, 1, 10], 'gamma': [0.1, 1, 10]}\n",
    "grid_search = GridSearchCV(svr, param_grid=params, cv=5, scoring='neg_mean_squared_error')\n",
    "grid_search.fit(X_scaled_train, y_train)\n",
    "\n",
    "# model evaluation\n",
    "best_model = grid_search.best_estimator_\n",
    "y_pred = best_model.predict(X_scaled_test)\n",
    "mse = mean_squared_error(y_test, y_pred)\n",
    "\n",
    "# calculate mean absolute error\n",
    "mae = mean_absolute_error(y_test, y_pred)\n",
    "\n",
    "# calculate root mean squared error\n",
    "rmse = mean_squared_error(y_test, y_pred, squared=False)\n",
    "\n",
    "# calculate coefficient of determination (R-squared)\n",
    "r2 = r2_score(y_test, y_pred)\n",
    "\n",
    "# print the error metrics\n",
    "print(f\"Mean Absolute Error (MAE): {mae:.3f}\")\n",
    "print(f\"Root Mean Squared Error (RMSE): {rmse:.3f}\")\n",
    "print(f\"Coefficient of Determination (R-squared): {r2:.3f}\")\n",
    "print(\"Mean Squared Error:\", mse)"
   ]
  },
  {
   "cell_type": "markdown",
   "id": "cb18152c-18ee-4910-890e-85f8743622f8",
   "metadata": {},
   "source": [
    "### decision tree regressor"
   ]
  },
  {
   "cell_type": "code",
<<<<<<< Updated upstream
   "execution_count": 327,
   "id": "42f0d38c-ea0b-4cb9-9fee-4fc0e7ad9538",
   "metadata": {},
   "outputs": [
    {
     "name": "stdout",
     "output_type": "stream",
     "text": [
      "Mean Absolute Error: 29.893386861313868\n",
      "Mean Squared Error: 1804.008898437956\n",
      "Root Mean Squared Error (RMSE): 42.474\n",
      "R-squared: -0.4176224681572085\n"
     ]
    }
   ],
=======
   "execution_count": null,
   "id": "42f0d38c-ea0b-4cb9-9fee-4fc0e7ad9538",
   "metadata": {},
   "outputs": [],
>>>>>>> Stashed changes
   "source": [
    "# Import necessary libraries\n",
    "import pandas as pd\n",
    "from sklearn.tree import DecisionTreeRegressor\n",
    "from sklearn.metrics import mean_absolute_error, mean_squared_error, r2_score\n",
    "from sklearn.model_selection import train_test_split\n",
    "\n",
    "model = DecisionTreeRegressor(random_state=42)\n",
    "model.fit(X_train, y_train)\n",
    "\n",
    "# Use the model to make predictions on the test data\n",
    "y_pred = model.predict(X_test)\n",
    "\n",
    "# Evaluate the model using mean absolute error, mean squared error, and R-squared\n",
    "mae = mean_absolute_error(y_test, y_pred)\n",
    "mse = mean_squared_error(y_test, y_pred)\n",
    "# calculate root mean squared error\n",
    "rmse = mean_squared_error(y_test, y_pred, squared=False)\n",
    "\n",
    "\n",
    "r2 = r2_score(y_test, y_pred)\n",
    "\n",
    "print(f'Mean Absolute Error: {mae}')\n",
    "print(f'Mean Squared Error: {mse}')\n",
    "print(f\"Root Mean Squared Error (RMSE): {rmse:.3f}\")\n",
    "print(f'R-squared: {r2}')"
   ]
  },
  {
   "cell_type": "markdown",
   "id": "991add7f-fc17-4fd8-8146-20680f99eab3",
   "metadata": {},
   "source": [
    "### Bayesian Regression"
   ]
  },
  {
   "cell_type": "code",
<<<<<<< Updated upstream
   "execution_count": 328,
   "id": "a1cc6915-9add-4243-8c62-c0dd849f1250",
   "metadata": {},
   "outputs": [
    {
     "name": "stdout",
     "output_type": "stream",
     "text": [
      "Mean Absolute Error: 22.51598372617308\n",
      "Mean Squared Error: 973.828340511569\n",
      "Root Mean Squared Error (RMSE): 31.206\n",
      "R-squared: 0.23474826713282537\n"
     ]
    },
    {
     "data": {
      "image/png": "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\n",
      "text/plain": [
       "<Figure size 432x288 with 1 Axes>"
      ]
     },
     "metadata": {
      "needs_background": "light"
     },
     "output_type": "display_data"
    }
   ],
=======
   "execution_count": null,
   "id": "a1cc6915-9add-4243-8c62-c0dd849f1250",
   "metadata": {},
   "outputs": [],
>>>>>>> Stashed changes
   "source": [
    "# Import necessary libraries\n",
    "import numpy as np\n",
    "import matplotlib.pyplot as plt\n",
    "from sklearn.datasets import make_regression\n",
    "from sklearn.model_selection import train_test_split\n",
    "from sklearn.preprocessing import StandardScaler\n",
    "from sklearn.linear_model import BayesianRidge\n",
    "from sklearn.metrics import mean_squared_error, r2_score\n",
    "\n",
    "# Generate data\n",
    "#X, y = make_regression(n_samples=1000, n_features=5, noise=0.5, random_state=42)\n",
    "\n",
    "# Split data into training and testing sets\n",
    "X_train, X_test, y_train, y_test = train_test_split(X, y, test_size=0.2, random_state=42)\n",
    "\n",
    "# Scale data\n",
    "scaler = StandardScaler()\n",
    "X_train = scaler.fit_transform(X_train)\n",
    "X_test = scaler.transform(X_test)\n",
    "\n",
    "# Create Bayesian Regression model and fit to training data\n",
    "model = BayesianRidge()\n",
    "model.fit(X_train, y_train)\n",
    "\n",
    "# Predict on testing data\n",
    "y_pred = model.predict(X_test)\n",
    "\n",
    "# Evaluate the model using mean absolute error, mean squared error, and R-squared\n",
    "mae = mean_absolute_error(y_test, y_pred)\n",
    "mse = mean_squared_error(y_test, y_pred)\n",
    "# calculate root mean squared error\n",
    "rmse = mean_squared_error(y_test, y_pred, squared=False)\n",
    "\n",
    "r2 = r2_score(y_test, y_pred)\n",
    "print(f'Mean Absolute Error: {mae}')\n",
    "print(f'Mean Squared Error: {mse}')\n",
    "print(f\"Root Mean Squared Error (RMSE): {rmse:.3f}\")\n",
    "print(f'R-squared: {r2}')\n",
    "\n",
    "# Plot predicted vs actual values\n",
    "plt.scatter(y_test, y_pred)\n",
    "plt.xlabel(\"Actual\")\n",
    "plt.ylabel(\"Predicted\")\n",
    "plt.show()\n"
   ]
  },
  {
   "cell_type": "code",
   "execution_count": null,
   "id": "a35ba380-f556-437b-93a6-fa9a3aa63e3f",
   "metadata": {},
   "outputs": [],
   "source": []
<<<<<<< Updated upstream
  },
  {
   "cell_type": "code",
   "execution_count": null,
   "id": "49f06651-98d9-4f8a-bd72-970ab7d73404",
   "metadata": {},
   "outputs": [],
   "source": []
=======
>>>>>>> Stashed changes
  }
 ],
 "metadata": {
  "kernelspec": {
   "display_name": "Python 3 (ipykernel)",
   "language": "python",
   "name": "python3"
  },
  "language_info": {
   "codemirror_mode": {
    "name": "ipython",
    "version": 3
   },
   "file_extension": ".py",
   "mimetype": "text/x-python",
   "name": "python",
   "nbconvert_exporter": "python",
   "pygments_lexer": "ipython3",
   "version": "3.9.12"
  }
 },
 "nbformat": 4,
 "nbformat_minor": 5
}
