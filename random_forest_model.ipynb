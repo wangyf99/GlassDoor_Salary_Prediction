{
 "cells": [
  {
   "cell_type": "code",
   "execution_count": 1,
   "id": "8519c93c-f053-458d-9907-9f28956ed40f",
   "metadata": {},
   "outputs": [],
   "source": [
    "import pandas as pd"
   ]
  },
  {
   "cell_type": "code",
   "execution_count": 2,
   "id": "9eba350d-cbc6-4c53-ae6c-2e53d5df212b",
   "metadata": {},
   "outputs": [
    {
     "data": {
      "text/plain": [
       "Job Title                                               Data Scientist\n",
       "Salary Estimate                             $53K-$91K (Glassdoor est.)\n",
       "Job Description      Data Scientist\\nLocation: Albuquerque, NM\\nEdu...\n",
       "Rating                                                             3.8\n",
       "Company Name                                    Tecolote Research\\n3.8\n",
       "Location                                               Albuquerque, NM\n",
       "Headquarters                                                Goleta, CA\n",
       "Size                                             501 to 1000 employees\n",
       "Founded                                                           1973\n",
       "Type of ownership                                    Company - Private\n",
       "Industry                                           Aerospace & Defense\n",
       "Sector                                             Aerospace & Defense\n",
       "Revenue                                      $50 to $100 million (USD)\n",
       "Competitors                                                         -1\n",
       "hourly                                                               0\n",
       "employer_provided                                                    0\n",
       "min_salary                                                          53\n",
       "max_salary                                                          91\n",
       "avg_salary                                                        72.0\n",
       "company_txt                                          Tecolote Research\n",
       "job_state                                                           NM\n",
       "same_state                                                           0\n",
       "age                                                                 47\n",
       "python_yn                                                            1\n",
       "R_yn                                                                 0\n",
       "spark                                                                0\n",
       "aws                                                                  0\n",
       "excel                                                                1\n",
       "job_simp                                                data scientist\n",
       "seniority                                                           na\n",
       "desc_len                                                          2536\n",
       "num_comp                                                             0\n",
       "Name: 0, dtype: object"
      ]
     },
     "execution_count": 2,
     "metadata": {},
     "output_type": "execute_result"
    }
   ],
   "source": [
    "Ken_data = pd.read_csv('Ken_lee_eda_data.csv', index_col=0)\n",
    "Ken_data.iloc[0,:]"
   ]
  },
  {
   "cell_type": "code",
   "execution_count": 3,
   "id": "fe8e8ca0-c30c-4d48-bab1-f57c40fec4bf",
   "metadata": {},
   "outputs": [
    {
     "data": {
      "text/html": [
       "<div>\n",
       "<style scoped>\n",
       "    .dataframe tbody tr th:only-of-type {\n",
       "        vertical-align: middle;\n",
       "    }\n",
       "\n",
       "    .dataframe tbody tr th {\n",
       "        vertical-align: top;\n",
       "    }\n",
       "\n",
       "    .dataframe thead th {\n",
       "        text-align: right;\n",
       "    }\n",
       "</style>\n",
       "<table border=\"1\" class=\"dataframe\">\n",
       "  <thead>\n",
       "    <tr style=\"text-align: right;\">\n",
       "      <th></th>\n",
       "      <th>Rating</th>\n",
       "      <th>Size</th>\n",
       "      <th>Industry</th>\n",
       "      <th>Sector</th>\n",
       "      <th>Job State</th>\n",
       "      <th>Job Simplified</th>\n",
       "      <th>Salary Estimate</th>\n",
       "    </tr>\n",
       "  </thead>\n",
       "  <tbody>\n",
       "    <tr>\n",
       "      <th>0</th>\n",
       "      <td>3.8</td>\n",
       "      <td>501 to 1000 employees</td>\n",
       "      <td>Aerospace &amp; Defense</td>\n",
       "      <td>Aerospace &amp; Defense</td>\n",
       "      <td>NM</td>\n",
       "      <td>data scientist</td>\n",
       "      <td>72.0</td>\n",
       "    </tr>\n",
       "    <tr>\n",
       "      <th>1</th>\n",
       "      <td>3.4</td>\n",
       "      <td>10000+ employees</td>\n",
       "      <td>Health Care Services &amp; Hospitals</td>\n",
       "      <td>Health Care</td>\n",
       "      <td>MD</td>\n",
       "      <td>data scientist</td>\n",
       "      <td>87.5</td>\n",
       "    </tr>\n",
       "    <tr>\n",
       "      <th>2</th>\n",
       "      <td>4.8</td>\n",
       "      <td>501 to 1000 employees</td>\n",
       "      <td>Security Services</td>\n",
       "      <td>Business Services</td>\n",
       "      <td>FL</td>\n",
       "      <td>data scientist</td>\n",
       "      <td>85.0</td>\n",
       "    </tr>\n",
       "    <tr>\n",
       "      <th>3</th>\n",
       "      <td>3.8</td>\n",
       "      <td>1001 to 5000 employees</td>\n",
       "      <td>Energy</td>\n",
       "      <td>Oil, Gas, Energy &amp; Utilities</td>\n",
       "      <td>WA</td>\n",
       "      <td>data scientist</td>\n",
       "      <td>76.5</td>\n",
       "    </tr>\n",
       "    <tr>\n",
       "      <th>4</th>\n",
       "      <td>2.9</td>\n",
       "      <td>51 to 200 employees</td>\n",
       "      <td>Advertising &amp; Marketing</td>\n",
       "      <td>Business Services</td>\n",
       "      <td>NY</td>\n",
       "      <td>data scientist</td>\n",
       "      <td>114.5</td>\n",
       "    </tr>\n",
       "    <tr>\n",
       "      <th>...</th>\n",
       "      <td>...</td>\n",
       "      <td>...</td>\n",
       "      <td>...</td>\n",
       "      <td>...</td>\n",
       "      <td>...</td>\n",
       "      <td>...</td>\n",
       "      <td>...</td>\n",
       "    </tr>\n",
       "    <tr>\n",
       "      <th>737</th>\n",
       "      <td>3.9</td>\n",
       "      <td>10000+ employees</td>\n",
       "      <td>Biotech &amp; Pharmaceuticals</td>\n",
       "      <td>Biotech &amp; Pharmaceuticals</td>\n",
       "      <td>MA</td>\n",
       "      <td>na</td>\n",
       "      <td>84.5</td>\n",
       "    </tr>\n",
       "    <tr>\n",
       "      <th>738</th>\n",
       "      <td>4.4</td>\n",
       "      <td>1001 to 5000 employees</td>\n",
       "      <td>Internet</td>\n",
       "      <td>Information Technology</td>\n",
       "      <td>TN</td>\n",
       "      <td>data engineer</td>\n",
       "      <td>102.5</td>\n",
       "    </tr>\n",
       "    <tr>\n",
       "      <th>739</th>\n",
       "      <td>2.6</td>\n",
       "      <td>501 to 1000 employees</td>\n",
       "      <td>Colleges &amp; Universities</td>\n",
       "      <td>Education</td>\n",
       "      <td>PA</td>\n",
       "      <td>na</td>\n",
       "      <td>73.5</td>\n",
       "    </tr>\n",
       "    <tr>\n",
       "      <th>740</th>\n",
       "      <td>3.2</td>\n",
       "      <td>1 to 50 employees</td>\n",
       "      <td>Staffing &amp; Outsourcing</td>\n",
       "      <td>Business Services</td>\n",
       "      <td>PA</td>\n",
       "      <td>manager</td>\n",
       "      <td>127.5</td>\n",
       "    </tr>\n",
       "    <tr>\n",
       "      <th>741</th>\n",
       "      <td>3.6</td>\n",
       "      <td>501 to 1000 employees</td>\n",
       "      <td>Federal Agencies</td>\n",
       "      <td>Government</td>\n",
       "      <td>OH</td>\n",
       "      <td>na</td>\n",
       "      <td>93.5</td>\n",
       "    </tr>\n",
       "  </tbody>\n",
       "</table>\n",
       "<p>742 rows × 7 columns</p>\n",
       "</div>"
      ],
      "text/plain": [
       "     Rating                    Size                          Industry  \\\n",
       "0       3.8   501 to 1000 employees               Aerospace & Defense   \n",
       "1       3.4        10000+ employees  Health Care Services & Hospitals   \n",
       "2       4.8   501 to 1000 employees                 Security Services   \n",
       "3       3.8  1001 to 5000 employees                            Energy   \n",
       "4       2.9     51 to 200 employees           Advertising & Marketing   \n",
       "..      ...                     ...                               ...   \n",
       "737     3.9        10000+ employees         Biotech & Pharmaceuticals   \n",
       "738     4.4  1001 to 5000 employees                          Internet   \n",
       "739     2.6   501 to 1000 employees           Colleges & Universities   \n",
       "740     3.2       1 to 50 employees            Staffing & Outsourcing   \n",
       "741     3.6   501 to 1000 employees                  Federal Agencies   \n",
       "\n",
       "                           Sector Job State  Job Simplified  Salary Estimate  \n",
       "0             Aerospace & Defense        NM  data scientist             72.0  \n",
       "1                     Health Care        MD  data scientist             87.5  \n",
       "2               Business Services        FL  data scientist             85.0  \n",
       "3    Oil, Gas, Energy & Utilities        WA  data scientist             76.5  \n",
       "4               Business Services        NY  data scientist            114.5  \n",
       "..                            ...       ...             ...              ...  \n",
       "737     Biotech & Pharmaceuticals        MA              na             84.5  \n",
       "738        Information Technology        TN   data engineer            102.5  \n",
       "739                     Education        PA              na             73.5  \n",
       "740             Business Services        PA         manager            127.5  \n",
       "741                    Government        OH              na             93.5  \n",
       "\n",
       "[742 rows x 7 columns]"
      ]
     },
     "execution_count": 3,
     "metadata": {},
     "output_type": "execute_result"
    }
   ],
   "source": [
    "Ken_data = Ken_data[['Rating', 'Size', 'Industry', 'Sector', 'job_state', 'job_simp',\n",
    "       'avg_salary']]\n",
    "Ken_data.columns = ['Rating', 'Size', 'Industry', 'Sector', 'Job State', 'Job Simplified',\n",
    "       'Salary Estimate']\n",
    "Ken_data"
   ]
  },
  {
   "cell_type": "code",
   "execution_count": 4,
   "id": "152e5b1e-2289-48b9-81e7-8d96063f10b6",
   "metadata": {},
   "outputs": [],
   "source": [
    "mapping = {\n",
    "    '501 to 1000 employees': '501 - 1000',\n",
    "    '10000+ employees': '10000+',\n",
    "    '1001 to 5000 employees': '1001 - 5000',\n",
    "    '51 to 200 employees': '51 - 200',\n",
    "    '201 to 500 employees': '201 - 500',\n",
    "    '5001 to 10000 employees': '5001 - 10000',\n",
    "    '1 to 50 employees': '1 - 50',\n",
    "    'Unknown': None,\n",
    "    '-1': None,\n",
    "}\n",
    "\n",
    "Ken_data['Size'] = Ken_data['Size'].map(mapping)"
   ]
  },
  {
   "cell_type": "code",
   "execution_count": 5,
   "id": "96ca8c53-05c4-4afb-9912-0fc1758f958a",
   "metadata": {},
   "outputs": [
    {
     "data": {
      "text/html": [
       "<div>\n",
       "<style scoped>\n",
       "    .dataframe tbody tr th:only-of-type {\n",
       "        vertical-align: middle;\n",
       "    }\n",
       "\n",
       "    .dataframe tbody tr th {\n",
       "        vertical-align: top;\n",
       "    }\n",
       "\n",
       "    .dataframe thead th {\n",
       "        text-align: right;\n",
       "    }\n",
       "</style>\n",
       "<table border=\"1\" class=\"dataframe\">\n",
       "  <thead>\n",
       "    <tr style=\"text-align: right;\">\n",
       "      <th></th>\n",
       "      <th>Rating</th>\n",
       "      <th>Size</th>\n",
       "      <th>Industry</th>\n",
       "      <th>Sector</th>\n",
       "      <th>Job State</th>\n",
       "      <th>Job Simplified</th>\n",
       "      <th>Salary Estimate</th>\n",
       "    </tr>\n",
       "  </thead>\n",
       "  <tbody>\n",
       "    <tr>\n",
       "      <th>0</th>\n",
       "      <td>3.8</td>\n",
       "      <td>501 - 1000</td>\n",
       "      <td>Aerospace &amp; Defense</td>\n",
       "      <td>Aerospace &amp; Defense</td>\n",
       "      <td>NM</td>\n",
       "      <td>data scientist</td>\n",
       "      <td>72.0</td>\n",
       "    </tr>\n",
       "    <tr>\n",
       "      <th>1</th>\n",
       "      <td>3.4</td>\n",
       "      <td>10000+</td>\n",
       "      <td>Health Care Services &amp; Hospitals</td>\n",
       "      <td>Health Care</td>\n",
       "      <td>MD</td>\n",
       "      <td>data scientist</td>\n",
       "      <td>87.5</td>\n",
       "    </tr>\n",
       "    <tr>\n",
       "      <th>2</th>\n",
       "      <td>4.8</td>\n",
       "      <td>501 - 1000</td>\n",
       "      <td>Security Services</td>\n",
       "      <td>Business Services</td>\n",
       "      <td>FL</td>\n",
       "      <td>data scientist</td>\n",
       "      <td>85.0</td>\n",
       "    </tr>\n",
       "    <tr>\n",
       "      <th>3</th>\n",
       "      <td>3.8</td>\n",
       "      <td>1001 - 5000</td>\n",
       "      <td>Energy</td>\n",
       "      <td>Oil, Gas, Energy &amp; Utilities</td>\n",
       "      <td>WA</td>\n",
       "      <td>data scientist</td>\n",
       "      <td>76.5</td>\n",
       "    </tr>\n",
       "    <tr>\n",
       "      <th>4</th>\n",
       "      <td>2.9</td>\n",
       "      <td>51 - 200</td>\n",
       "      <td>Advertising &amp; Marketing</td>\n",
       "      <td>Business Services</td>\n",
       "      <td>NY</td>\n",
       "      <td>data scientist</td>\n",
       "      <td>114.5</td>\n",
       "    </tr>\n",
       "    <tr>\n",
       "      <th>...</th>\n",
       "      <td>...</td>\n",
       "      <td>...</td>\n",
       "      <td>...</td>\n",
       "      <td>...</td>\n",
       "      <td>...</td>\n",
       "      <td>...</td>\n",
       "      <td>...</td>\n",
       "    </tr>\n",
       "    <tr>\n",
       "      <th>737</th>\n",
       "      <td>3.9</td>\n",
       "      <td>10000+</td>\n",
       "      <td>Biotech &amp; Pharmaceuticals</td>\n",
       "      <td>Biotech &amp; Pharmaceuticals</td>\n",
       "      <td>MA</td>\n",
       "      <td>na</td>\n",
       "      <td>84.5</td>\n",
       "    </tr>\n",
       "    <tr>\n",
       "      <th>738</th>\n",
       "      <td>4.4</td>\n",
       "      <td>1001 - 5000</td>\n",
       "      <td>Internet</td>\n",
       "      <td>Information Technology</td>\n",
       "      <td>TN</td>\n",
       "      <td>data engineer</td>\n",
       "      <td>102.5</td>\n",
       "    </tr>\n",
       "    <tr>\n",
       "      <th>739</th>\n",
       "      <td>2.6</td>\n",
       "      <td>501 - 1000</td>\n",
       "      <td>Colleges &amp; Universities</td>\n",
       "      <td>Education</td>\n",
       "      <td>PA</td>\n",
       "      <td>na</td>\n",
       "      <td>73.5</td>\n",
       "    </tr>\n",
       "    <tr>\n",
       "      <th>740</th>\n",
       "      <td>3.2</td>\n",
       "      <td>1 - 50</td>\n",
       "      <td>Staffing &amp; Outsourcing</td>\n",
       "      <td>Business Services</td>\n",
       "      <td>PA</td>\n",
       "      <td>manager</td>\n",
       "      <td>127.5</td>\n",
       "    </tr>\n",
       "    <tr>\n",
       "      <th>741</th>\n",
       "      <td>3.6</td>\n",
       "      <td>501 - 1000</td>\n",
       "      <td>Federal Agencies</td>\n",
       "      <td>Government</td>\n",
       "      <td>OH</td>\n",
       "      <td>na</td>\n",
       "      <td>93.5</td>\n",
       "    </tr>\n",
       "  </tbody>\n",
       "</table>\n",
       "<p>742 rows × 7 columns</p>\n",
       "</div>"
      ],
      "text/plain": [
       "     Rating         Size                          Industry  \\\n",
       "0       3.8   501 - 1000               Aerospace & Defense   \n",
       "1       3.4       10000+  Health Care Services & Hospitals   \n",
       "2       4.8   501 - 1000                 Security Services   \n",
       "3       3.8  1001 - 5000                            Energy   \n",
       "4       2.9     51 - 200           Advertising & Marketing   \n",
       "..      ...          ...                               ...   \n",
       "737     3.9       10000+         Biotech & Pharmaceuticals   \n",
       "738     4.4  1001 - 5000                          Internet   \n",
       "739     2.6   501 - 1000           Colleges & Universities   \n",
       "740     3.2       1 - 50            Staffing & Outsourcing   \n",
       "741     3.6   501 - 1000                  Federal Agencies   \n",
       "\n",
       "                           Sector Job State  Job Simplified  Salary Estimate  \n",
       "0             Aerospace & Defense        NM  data scientist             72.0  \n",
       "1                     Health Care        MD  data scientist             87.5  \n",
       "2               Business Services        FL  data scientist             85.0  \n",
       "3    Oil, Gas, Energy & Utilities        WA  data scientist             76.5  \n",
       "4               Business Services        NY  data scientist            114.5  \n",
       "..                            ...       ...             ...              ...  \n",
       "737     Biotech & Pharmaceuticals        MA              na             84.5  \n",
       "738        Information Technology        TN   data engineer            102.5  \n",
       "739                     Education        PA              na             73.5  \n",
       "740             Business Services        PA         manager            127.5  \n",
       "741                    Government        OH              na             93.5  \n",
       "\n",
       "[742 rows x 7 columns]"
      ]
     },
     "execution_count": 5,
     "metadata": {},
     "output_type": "execute_result"
    }
   ],
   "source": [
    "Ken_data"
   ]
  },
  {
   "cell_type": "code",
   "execution_count": 6,
   "id": "7c471876-7383-4be9-9d83-de059ec0449d",
   "metadata": {},
   "outputs": [
    {
     "ename": "NameError",
     "evalue": "name 'df_model' is not defined",
     "output_type": "error",
     "traceback": [
      "\u001b[0;31m---------------------------------------------------------------------------\u001b[0m",
      "\u001b[0;31mNameError\u001b[0m                                 Traceback (most recent call last)",
      "Input \u001b[0;32mIn [6]\u001b[0m, in \u001b[0;36m<cell line: 1>\u001b[0;34m()\u001b[0m\n\u001b[0;32m----> 1\u001b[0m df_model \u001b[38;5;241m=\u001b[39m pd\u001b[38;5;241m.\u001b[39mconcat([Ken_data, \u001b[43mdf_model\u001b[49m])\n",
      "\u001b[0;31mNameError\u001b[0m: name 'df_model' is not defined"
     ]
    }
   ],
   "source": [
    "df_model = pd.concat([Ken_data, df_model])"
   ]
  },
  {
   "cell_type": "code",
   "execution_count": null,
   "id": "ed6cc085-4a1c-4188-9fdd-878682cbb96e",
   "metadata": {},
   "outputs": [],
   "source": [
    "len(Ken_data['Job Simplified'].unique())"
   ]
  },
  {
   "cell_type": "code",
   "execution_count": null,
   "id": "27f6eebe-4382-4a08-bf86-181bde0b3bea",
   "metadata": {},
   "outputs": [],
   "source": [
    "len(df_raw['Job Simplified'].unique())"
   ]
  },
  {
   "cell_type": "code",
   "execution_count": null,
   "id": "101183cd-58a6-49df-b2d0-26f9b43336f6",
   "metadata": {},
   "outputs": [],
   "source": [
    "len(df_model['Job Simplified'].unique())"
   ]
  },
  {
   "cell_type": "code",
   "execution_count": null,
   "id": "8debf5d6-add7-40da-a810-c9dce05625c3",
   "metadata": {},
   "outputs": [],
   "source": [
    "df_model.dtypes"
   ]
  },
  {
   "cell_type": "code",
   "execution_count": null,
   "id": "f2b0557e-dd82-474e-acc5-ecc0f794dc3b",
   "metadata": {},
   "outputs": [],
   "source": [
    "df_model.dropna()"
   ]
  },
  {
   "cell_type": "code",
   "execution_count": null,
   "id": "054a8119-18e2-448b-ae9f-b3458fb464b3",
   "metadata": {},
   "outputs": [],
   "source": [
    "df_model['Size'].unique()"
   ]
  },
  {
   "cell_type": "code",
   "execution_count": null,
   "id": "5448f37a-32bc-4a9a-8187-e5b9df02556a",
   "metadata": {},
   "outputs": [],
   "source": [
    "Ken_data['Size'].unique()"
   ]
  },
  {
   "cell_type": "code",
   "execution_count": null,
   "id": "415c6057-964c-4f5a-9c31-602b78e5d428",
   "metadata": {},
   "outputs": [],
   "source": [
    "df_raw['Size'].unique()"
   ]
  },
  {
   "cell_type": "code",
   "execution_count": null,
   "id": "c6e73d6a-0b2d-4c91-8a28-03eb19f81b0b",
   "metadata": {},
   "outputs": [],
   "source": [
    "df_model['Size'].unique()"
   ]
  },
  {
   "cell_type": "code",
   "execution_count": null,
   "id": "050daeab-c4db-43d5-91ee-20b51ae8c8ba",
   "metadata": {},
   "outputs": [],
   "source": [
    "df_raw = pd.read_csv('/Users/angelawang/Desktop/data_cleaned_fra_copy.csv', index_col=0)"
   ]
  },
  {
   "cell_type": "code",
   "execution_count": null,
   "id": "b612c20f-d01f-40f5-affa-e9405160c4a6",
   "metadata": {},
   "outputs": [],
   "source": [
    "df_raw"
   ]
  },
  {
   "cell_type": "code",
   "execution_count": null,
   "id": "ee7c2767",
   "metadata": {},
   "outputs": [],
   "source": [
    "df_raw=df_raw[['Salary Estimate', 'Rating', 'Company Name', 'Location', 'Size', 'Industry', 'Sector', 'Job State', 'Job Simplified']].copy()"
   ]
  },
  {
   "cell_type": "code",
   "execution_count": null,
   "id": "af9b0e6f",
   "metadata": {},
   "outputs": [],
   "source": [
    "df_raw.dropna(inplace=True)"
   ]
  },
  {
   "cell_type": "code",
   "execution_count": null,
   "id": "028d59fa-e675-409a-a126-d5ad2920d890",
   "metadata": {},
   "outputs": [],
   "source": [
    "salary = df_raw['Salary Estimate']/1000\n",
    "salary"
   ]
  },
  {
   "cell_type": "code",
   "execution_count": null,
   "id": "eee533f9-a309-4317-8e21-92e60739542d",
   "metadata": {},
   "outputs": [],
   "source": [
    "df_raw.drop('Salary Estimate', axis=1, inplace=True)"
   ]
  },
  {
   "cell_type": "code",
   "execution_count": null,
   "id": "8bcc86a2-3891-4fe7-a1ff-b557d7ee1ecd",
   "metadata": {},
   "outputs": [],
   "source": [
    "df_raw = pd.concat([df_raw, salary], axis=1)"
   ]
  },
  {
   "cell_type": "code",
   "execution_count": null,
   "id": "96a19255-ac2d-4694-ae81-b512ae522e17",
   "metadata": {},
   "outputs": [],
   "source": [
    "df_raw.drop('Company Name', axis=1, inplace=True)"
   ]
  },
  {
   "cell_type": "code",
   "execution_count": null,
   "id": "485ad271-d7d8-4f25-8c3d-240b00f313da",
   "metadata": {
    "scrolled": true
   },
   "outputs": [],
   "source": [
    "df_raw = df_raw[df_raw['Salary Estimate']<300]\n",
    "df_model = df_raw"
   ]
  },
  {
   "cell_type": "code",
   "execution_count": null,
   "id": "77ec5c8c",
   "metadata": {},
   "outputs": [],
   "source": []
  },
  {
   "cell_type": "code",
   "execution_count": null,
   "id": "a7c89a2f-e59a-4cc5-a381-653e96450384",
   "metadata": {},
   "outputs": [],
   "source": [
    "# pd.DataFrame(df_model['Location'].unique())"
   ]
  },
  {
   "cell_type": "code",
   "execution_count": null,
   "id": "37431fd8-14b1-464a-9222-5a48acc593cf",
   "metadata": {},
   "outputs": [],
   "source": [
    "# import re\n",
    "# text = 'Cerritos, CA'\n",
    "# pattern = r'[A-Z]*$'\n",
    "# match = re.search(pattern, text)\n",
    "# match.group()"
   ]
  },
  {
   "cell_type": "code",
   "execution_count": null,
   "id": "e67f8db4-a35d-4fd8-b9f5-b306f3e30a99",
   "metadata": {},
   "outputs": [],
   "source": [
    "# import re\n",
    "# def get_state(text):\n",
    "#     pattern = r'[A-Z]*$'\n",
    "#     #text = row[0] #row['Location']\n",
    "#     match = re.search(pattern, text)\n",
    "#     if text == 'nan':\n",
    "#         return 'nan'\n",
    "#     elif text == 'Remote':\n",
    "#         return 'Remote'\n",
    "        \n",
    "#     return match.group()"
   ]
  },
  {
   "cell_type": "code",
   "execution_count": null,
   "id": "15c37be1-b18a-42d2-bd11-f8cbf7f36b2e",
   "metadata": {},
   "outputs": [],
   "source": [
    "# df_model[df_model['Location'].isnull()]['Location'].astype(str)"
   ]
  },
  {
   "cell_type": "code",
   "execution_count": null,
   "id": "8aca5020-a58a-4b89-82a4-23c67df32663",
   "metadata": {},
   "outputs": [],
   "source": [
    "# df_model['Location'].astype(str).apply(get_state)"
   ]
  },
  {
   "cell_type": "code",
   "execution_count": null,
   "id": "33002c4b-80c7-4087-b007-f073c75d6954",
   "metadata": {},
   "outputs": [],
   "source": [
    "# df_model.drop('State', axis=1)\n",
    "# df_model['State'] = df_model['Location'].astype(str).apply(get_state)"
   ]
  },
  {
   "cell_type": "code",
   "execution_count": null,
   "id": "5964bcb7-34e5-4f30-b65b-7754f9dd4db6",
   "metadata": {},
   "outputs": [],
   "source": [
    "df_model.drop('Location', axis=1, inplace=True)"
   ]
  },
  {
   "cell_type": "code",
   "execution_count": null,
   "id": "e1e42c96-df18-493e-a5b8-c87bfce83b6a",
   "metadata": {},
   "outputs": [],
   "source": [
    "# df_model = df_model[df_model['Salary Estimate'] < 300]"
   ]
  },
  {
   "cell_type": "code",
   "execution_count": null,
   "id": "0eb1d5b1-b53a-48a6-98f2-50f0a1d52cb0",
   "metadata": {},
   "outputs": [],
   "source": [
    "df_model['Job Simplified'].unique()"
   ]
  },
  {
   "cell_type": "code",
   "execution_count": null,
   "id": "b0596bab-3abb-4f7d-b2bf-3609d369e948",
   "metadata": {},
   "outputs": [],
   "source": [
    "df_model"
   ]
  },
  {
   "cell_type": "code",
   "execution_count": null,
   "id": "0b6abcaf-3058-4dee-ad7c-4dc4c0672d9a",
   "metadata": {},
   "outputs": [],
   "source": [
    "df_dum = pd.get_dummies(df_model)\n",
    "\n",
    "# train test split \n",
    "# from sklearn.model_selection import train_test_split"
   ]
  },
  {
   "cell_type": "code",
   "execution_count": null,
   "id": "b4b9e41b-92c1-40ae-a553-91abcbef0498",
   "metadata": {},
   "outputs": [],
   "source": [
    "salary = df_dum['Salary Estimate']\n",
    "\n",
    "df_dum.drop('Salary Estimate', axis=1, inplace=True)\n",
    "df_dum = pd.concat([df_dum, salary], axis=1)"
   ]
  },
  {
   "cell_type": "code",
   "execution_count": null,
   "id": "cf0f261b-deba-4a06-bc00-b3da6d6552cc",
   "metadata": {},
   "outputs": [],
   "source": [
    "df_dum.columns"
   ]
  },
  {
   "cell_type": "code",
   "execution_count": null,
   "id": "5fc6f14c-36c4-432b-b615-d98356139625",
   "metadata": {},
   "outputs": [],
   "source": [
    "from sklearn.model_selection import train_test_split"
   ]
  },
  {
   "cell_type": "markdown",
   "id": "68069998-f5c8-448a-bb64-e75dabd19def",
   "metadata": {},
   "source": [
    "### Run the models on combined dataset, accuracy became worse -29.82640436652036"
   ]
  },
  {
   "cell_type": "code",
   "execution_count": null,
   "id": "6badb29b-4e1b-4d8a-aa6b-b3a20f69fb69",
   "metadata": {},
   "outputs": [],
   "source": [
    "train, test = train_test_split(df_dum, test_size = 0.2)\n",
    "X_train = train.iloc[0:,:164]\n",
    "y_train = train.iloc[:,164]\n",
    "X_test = test.iloc[0:,:164]\n",
    "y_test = test.iloc[:,164]\n",
    "y_train"
   ]
  },
  {
   "cell_type": "code",
   "execution_count": null,
   "id": "cf10adb8-efa2-4a7c-87aa-fed8a5612751",
   "metadata": {},
   "outputs": [],
   "source": [
    "train, test = train_test_split(df_dum, test_size = 0.2)\n",
    "X_train = train.iloc[0:,:164]\n",
    "y_train = train.iloc[:,164]\n",
    "X_test = test.iloc[0:,:164]\n",
    "y_test = test.iloc[:,164]\n",
    "y_train"
   ]
  },
  {
   "cell_type": "markdown",
   "id": "8b8d4d8e-a21d-4650-843f-b39488afaa27",
   "metadata": {},
   "source": [
    "### Random Forest"
   ]
  },
  {
   "cell_type": "code",
   "execution_count": null,
   "id": "891b30a4-c31d-4665-b720-6b742a65c32a",
   "metadata": {},
   "outputs": [],
   "source": [
    "# random forest \n",
    "from sklearn.ensemble import RandomForestRegressor\n",
    "import numpy as np\n",
    "from sklearn.model_selection import cross_val_score\n",
    "\n",
    "rf = RandomForestRegressor()\n",
    "\n",
    "np.mean(cross_val_score(rf,X_train,y_train,scoring = 'neg_mean_absolute_error', cv=3))"
   ]
  },
  {
   "cell_type": "code",
   "execution_count": null,
   "id": "d09a58ef-bf33-4748-aa33-70872a63af26",
   "metadata": {},
   "outputs": [],
   "source": [
    "rf.fit(X_train, y_train)"
   ]
  },
  {
   "cell_type": "code",
   "execution_count": null,
   "id": "451bd5dd-c641-4a1b-9514-29dbfc21c554",
   "metadata": {
    "tags": []
   },
   "outputs": [],
   "source": [
    "feature_names = [key for key in df_dum if not key=='Salary Estimate']"
   ]
  },
  {
   "cell_type": "code",
   "execution_count": null,
   "id": "c54f7f33-7a30-408e-8e07-d2525f665818",
   "metadata": {},
   "outputs": [],
   "source": [
    "import matplotlib.pyplot as plt\n",
    "%matplotlib inline\n",
    "importances = rf.feature_importances_\n",
    "indices = np.argsort(importances)\n",
    "plt.figure(figsize=(12,40))\n",
    "plt.title('Feature Importances')\n",
    "plt.barh(range(len(indices)), importances[indices], color='b', align='center')\n",
    "# plt.yticks(range(len(indices)),feature_names)\n",
    "plt.yticks(range(len(indices)),np.array(feature_names)[indices])\n",
    "plt.xlabel('Relative Importance')\n",
    "# first use feature importance to see what are the important features, then choose the important features and retrain the model"
   ]
  },
  {
   "cell_type": "code",
   "execution_count": null,
   "id": "30ba2b35-7ba7-49d8-89c7-e4dc76b8740b",
   "metadata": {},
   "outputs": [],
   "source": []
  },
  {
   "cell_type": "code",
   "execution_count": null,
   "id": "e7338101-1637-4f45-b41e-0e04ac574202",
   "metadata": {},
   "outputs": [],
   "source": [
    "# tune models GridsearchCV \n",
    "from sklearn.model_selection import GridSearchCV\n",
    "parameters = {'n_estimators':range(10,300,10), 'criterion':('squared_error','absolute_error'), 'max_features':('sqrt','log2')}\n",
    "\n",
    "gs = GridSearchCV(rf,parameters,scoring='neg_mean_absolute_error',cv=3)\n",
    "gs.fit(X_train,y_train)\n",
    "\n",
    "gs.best_score_\n",
    "gs.best_estimator_"
   ]
  },
  {
   "cell_type": "code",
   "execution_count": null,
   "id": "c394af53",
   "metadata": {},
   "outputs": [],
   "source": [
    "gs.best_estimator_"
   ]
  },
  {
   "cell_type": "code",
   "execution_count": null,
   "id": "a0c19e46",
   "metadata": {},
   "outputs": [],
   "source": [
    "gs.best_score_"
   ]
  },
  {
   "cell_type": "code",
   "execution_count": null,
   "id": "ee7135ff",
   "metadata": {},
   "outputs": [],
   "source": [
    "X_test.iloc[1,:]"
   ]
  },
  {
   "cell_type": "code",
   "execution_count": null,
   "id": "821658c9",
   "metadata": {},
   "outputs": [],
   "source": [
    "np.array(list(X_test.iloc[0,:])).reshape(1,-1)"
   ]
  },
  {
   "cell_type": "code",
   "execution_count": null,
   "id": "ecc346c2",
   "metadata": {
    "tags": []
   },
   "outputs": [],
   "source": [
    "import pickle\n",
    "pickl = {'model': gs.best_estimator_}\n",
    "pickle.dump( pickl, open( 'model_file' + \".p\", \"wb\" ) )\n",
    "\n",
    "file_name = \"model_file.p\"\n",
    "with open(file_name, 'rb') as pickled:\n",
    "    data = pickle.load(pickled)\n",
    "    model = data['model']\n",
    "\n",
    "list(X_test.iloc[1,:])"
   ]
  },
  {
   "cell_type": "code",
   "execution_count": null,
   "id": "80a1ee4d",
   "metadata": {},
   "outputs": [],
   "source": [
    "model.predict(np.array(list(X_test.iloc[1,:])).reshape(1,-1))[0]"
   ]
  },
  {
   "cell_type": "code",
   "execution_count": null,
   "id": "f34dfb93-2ad8-422f-a88e-a946627cee60",
   "metadata": {},
   "outputs": [],
   "source": [
    "model.score(X_test,y_test)"
   ]
  },
  {
   "cell_type": "code",
   "execution_count": null,
   "id": "09258d04-cd48-4bb6-9abd-b8cb8d4a8102",
   "metadata": {},
   "outputs": [],
   "source": [
    "from sklearn.metrics import mean_absolute_error, mean_squared_error, r2_score\n",
    "\n",
    "# assume that you have already fitted a RandomForestRegressor model called 'model' on your training data\n",
    "y_pred = model.predict(X_test)\n",
    "\n",
    "# calculate mean absolute error\n",
    "mae = mean_absolute_error(y_test, y_pred)\n",
    "\n",
    "# calculate root mean squared error\n",
    "rmse = mean_squared_error(y_test, y_pred, squared=False)\n",
    "\n",
    "# calculate coefficient of determination (R-squared)\n",
    "r2 = r2_score(y_test, y_pred)\n",
    "\n",
    "# print the error metrics\n",
    "print(f\"Mean Absolute Error (MAE): {mae:.3f}\")\n",
    "print(f\"Root Mean Squared Error (RMSE): {rmse:.3f}\")\n",
    "print(f\"Coefficient of Determination (R-squared): {r2:.3f}\")\n"
   ]
  },
  {
   "cell_type": "markdown",
   "id": "51c3b13e-134f-449f-ba59-c735f0896136",
   "metadata": {},
   "source": [
    "### Support Vector Regression"
   ]
  },
  {
   "cell_type": "code",
   "execution_count": null,
   "id": "c5f6996c-14ae-499a-b933-561cd51a005c",
   "metadata": {},
   "outputs": [],
   "source": [
    "# import libraries\n",
    "import numpy as np\n",
    "import pandas as pd\n",
    "from sklearn.svm import SVR\n",
    "from sklearn.preprocessing import StandardScaler\n",
    "from sklearn.model_selection import train_test_split, GridSearchCV\n",
    "from sklearn.metrics import mean_squared_error\n",
    "\n",
    "# load data\n",
    "# data = pd.read_csv('data.csv')\n",
    "\n",
    "# split data into features and target variable\n",
    "X = df_dum.drop('Salary Estimate', axis=1)\n",
    "y = df_dum['Salary Estimate']\n",
    "\n",
    "# feature scaling\n",
    "scaler = StandardScaler()\n",
    "X_scaled = scaler.fit_transform(X)\n",
    "\n",
    "# feature selection (if needed)\n",
    "# X_selected = ...\n",
    "\n",
    "# train-test split\n",
    "X_train, X_test, y_train, y_test = train_test_split(X_scaled, y, test_size=0.2, random_state=42)\n",
    "\n",
    "# cross-validation\n",
    "svr = SVR()\n",
    "params = {'C': [0.1, 1, 10], 'gamma': [0.1, 1, 10]}\n",
    "grid_search = GridSearchCV(svr, param_grid=params, cv=5, scoring='neg_mean_squared_error')\n",
    "grid_search.fit(X_train, y_train)\n",
    "\n",
    "# model evaluation\n",
    "best_model = grid_search.best_estimator_\n",
    "y_pred = best_model.predict(X_test)\n",
    "mse = mean_squared_error(y_test, y_pred)\n",
    "\n",
    "# calculate mean absolute error\n",
    "mae = mean_absolute_error(y_test, y_pred)\n",
    "\n",
    "# calculate root mean squared error\n",
    "rmse = mean_squared_error(y_test, y_pred, squared=False)\n",
    "\n",
    "# calculate coefficient of determination (R-squared)\n",
    "r2 = r2_score(y_test, y_pred)\n",
    "\n",
    "# print the error metrics\n",
    "print(f\"Mean Absolute Error (MAE): {mae:.3f}\")\n",
    "print(f\"Root Mean Squared Error (RMSE): {rmse:.3f}\")\n",
    "print(f\"Coefficient of Determination (R-squared): {r2:.3f}\")\n",
    "print(\"Mean Squared Error:\", mse)\n"
   ]
  },
  {
   "cell_type": "code",
   "execution_count": null,
   "id": "7d6cd821-9322-4eef-8cbd-5685fae3db6f",
   "metadata": {},
   "outputs": [],
   "source": []
  },
  {
   "cell_type": "code",
   "execution_count": null,
   "id": "e9fd19a8-bd3e-4abb-b5c1-e9ea95f5a260",
   "metadata": {},
   "outputs": [],
   "source": [
    "# create a boolean mask of column indices less than 50\n",
    "mask = indices<50\n",
    "\n",
    "# apply the mask to select the desired columns\n",
    "X_masked = X.loc[:, mask]"
   ]
  },
  {
   "cell_type": "code",
   "execution_count": null,
   "id": "73d24a04-b964-4e5d-96ca-a9fd2b2b5aca",
   "metadata": {},
   "outputs": [],
   "source": [
    "X_masked"
   ]
  },
  {
   "cell_type": "code",
   "execution_count": null,
   "id": "dfd10319-55e9-460f-bb62-00552c57bc50",
   "metadata": {
    "tags": []
   },
   "outputs": [],
   "source": [
    "X_train_masked"
   ]
  },
  {
   "cell_type": "code",
   "execution_count": null,
   "id": "d0b67895-41d0-439f-9f10-4d3d30e28774",
   "metadata": {},
   "outputs": [],
   "source": [
    "# feature scaling\n",
    "scaler = StandardScaler()\n",
    "X_scaled = scaler.fit_transform(X_masked)\n",
    "\n",
    "# feature selection (if needed)\n",
    "# X_selected = ...\n",
    "\n",
    "# train-test split\n",
    "X_scaled_train, X_scaled_test, y_train, y_test = train_test_split(X_scaled, y, test_size=0.2, random_state=42)\n",
    "\n",
    "# cross-validation\n",
    "svr = SVR()\n",
    "params = {'C': [0.1, 1, 10], 'gamma': [0.1, 1, 10]}\n",
    "grid_search = GridSearchCV(svr, param_grid=params, cv=5, scoring='neg_mean_squared_error')\n",
    "grid_search.fit(X_scaled_train, y_train)\n",
    "\n",
    "# model evaluation\n",
    "best_model = grid_search.best_estimator_\n",
    "y_pred = best_model.predict(X_scaled_test)\n",
    "mse = mean_squared_error(y_test, y_pred)\n",
    "\n",
    "# calculate mean absolute error\n",
    "mae = mean_absolute_error(y_test, y_pred)\n",
    "\n",
    "# calculate root mean squared error\n",
    "rmse = mean_squared_error(y_test, y_pred, squared=False)\n",
    "\n",
    "# calculate coefficient of determination (R-squared)\n",
    "r2 = r2_score(y_test, y_pred)\n",
    "\n",
    "# print the error metrics\n",
    "print(f\"Mean Absolute Error (MAE): {mae:.3f}\")\n",
    "print(f\"Root Mean Squared Error (RMSE): {rmse:.3f}\")\n",
    "print(f\"Coefficient of Determination (R-squared): {r2:.3f}\")\n",
    "print(\"Mean Squared Error:\", mse)"
   ]
  },
  {
   "cell_type": "markdown",
   "id": "cb18152c-18ee-4910-890e-85f8743622f8",
   "metadata": {},
   "source": [
    "### decision tree regressor"
   ]
  },
  {
   "cell_type": "code",
   "execution_count": null,
   "id": "42f0d38c-ea0b-4cb9-9fee-4fc0e7ad9538",
   "metadata": {},
   "outputs": [],
   "source": [
    "# Import necessary libraries\n",
    "import pandas as pd\n",
    "from sklearn.tree import DecisionTreeRegressor\n",
    "from sklearn.metrics import mean_absolute_error, mean_squared_error, r2_score\n",
    "from sklearn.model_selection import train_test_split\n",
    "\n",
    "model = DecisionTreeRegressor(random_state=42)\n",
    "model.fit(X_train, y_train)\n",
    "\n",
    "# Use the model to make predictions on the test data\n",
    "y_pred = model.predict(X_test)\n",
    "\n",
    "# Evaluate the model using mean absolute error, mean squared error, and R-squared\n",
    "mae = mean_absolute_error(y_test, y_pred)\n",
    "mse = mean_squared_error(y_test, y_pred)\n",
    "# calculate root mean squared error\n",
    "rmse = mean_squared_error(y_test, y_pred, squared=False)\n",
    "\n",
    "\n",
    "r2 = r2_score(y_test, y_pred)\n",
    "\n",
    "print(f'Mean Absolute Error: {mae}')\n",
    "print(f'Mean Squared Error: {mse}')\n",
    "print(f\"Root Mean Squared Error (RMSE): {rmse:.3f}\")\n",
    "print(f'R-squared: {r2}')"
   ]
  },
  {
   "cell_type": "markdown",
   "id": "991add7f-fc17-4fd8-8146-20680f99eab3",
   "metadata": {},
   "source": [
    "### Bayesian Regression"
   ]
  },
  {
   "cell_type": "code",
   "execution_count": null,
   "id": "a1cc6915-9add-4243-8c62-c0dd849f1250",
   "metadata": {},
   "outputs": [],
   "source": [
    "# Import necessary libraries\n",
    "import numpy as np\n",
    "import matplotlib.pyplot as plt\n",
    "from sklearn.datasets import make_regression\n",
    "from sklearn.model_selection import train_test_split\n",
    "from sklearn.preprocessing import StandardScaler\n",
    "from sklearn.linear_model import BayesianRidge\n",
    "from sklearn.metrics import mean_squared_error, r2_score\n",
    "\n",
    "# Generate data\n",
    "#X, y = make_regression(n_samples=1000, n_features=5, noise=0.5, random_state=42)\n",
    "\n",
    "# Split data into training and testing sets\n",
    "X_train, X_test, y_train, y_test = train_test_split(X, y, test_size=0.2, random_state=42)\n",
    "\n",
    "# Scale data\n",
    "scaler = StandardScaler()\n",
    "X_train = scaler.fit_transform(X_train)\n",
    "X_test = scaler.transform(X_test)\n",
    "\n",
    "# Create Bayesian Regression model and fit to training data\n",
    "model = BayesianRidge()\n",
    "model.fit(X_train, y_train)\n",
    "\n",
    "# Predict on testing data\n",
    "y_pred = model.predict(X_test)\n",
    "\n",
    "# Evaluate the model using mean absolute error, mean squared error, and R-squared\n",
    "mae = mean_absolute_error(y_test, y_pred)\n",
    "mse = mean_squared_error(y_test, y_pred)\n",
    "# calculate root mean squared error\n",
    "rmse = mean_squared_error(y_test, y_pred, squared=False)\n",
    "\n",
    "r2 = r2_score(y_test, y_pred)\n",
    "print(f'Mean Absolute Error: {mae}')\n",
    "print(f'Mean Squared Error: {mse}')\n",
    "print(f\"Root Mean Squared Error (RMSE): {rmse:.3f}\")\n",
    "print(f'R-squared: {r2}')\n",
    "\n",
    "# Plot predicted vs actual values\n",
    "plt.scatter(y_test, y_pred)\n",
    "plt.xlabel(\"Actual\")\n",
    "plt.ylabel(\"Predicted\")\n",
    "plt.show()\n"
   ]
  },
  {
   "cell_type": "code",
   "execution_count": null,
   "id": "a35ba380-f556-437b-93a6-fa9a3aa63e3f",
   "metadata": {},
   "outputs": [],
   "source": []
  }
 ],
 "metadata": {
  "kernelspec": {
   "display_name": "Python 3 (ipykernel)",
   "language": "python",
   "name": "python3"
  },
  "language_info": {
   "codemirror_mode": {
    "name": "ipython",
    "version": 3
   },
   "file_extension": ".py",
   "mimetype": "text/x-python",
   "name": "python",
   "nbconvert_exporter": "python",
   "pygments_lexer": "ipython3",
   "version": "3.9.12"
  }
 },
 "nbformat": 4,
 "nbformat_minor": 5
}
